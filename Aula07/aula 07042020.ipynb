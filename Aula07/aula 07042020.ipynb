{
 "cells": [
  {
   "cell_type": "markdown",
   "metadata": {},
   "source": [
    "## DPEE 1072\n",
    "### BUCK in CCM\n",
    "#### CCM :  Continuous Conduction Mode\n",
    "#### Prof. Humberto Pinheiro,Ph.D."
   ]
  },
  {
   "cell_type": "code",
   "execution_count": 1,
   "metadata": {},
   "outputs": [],
   "source": [
    "import numpy as np\n",
    "from numpy import pi\n",
    "from scipy import sqrt, exp, cos, matrix, vstack, hstack, zeros\n",
    "from scipy.linalg import block_diag\n",
    "import matplotlib.pyplot as plt\n",
    "import mpld3\n",
    "import math as m\n",
    "import cmath\n",
    "import sympy as sp\n",
    "sp.init_printing()"
   ]
  },
  {
   "cell_type": "markdown",
   "metadata": {},
   "source": [
    "Conditiions to be satisfied\n",
    "\n",
    "$0<E_2<E_1$\n",
    "\n",
    "$ i_L(t)>0$ since the converter opertes in CCM\n"
   ]
  },
  {
   "cell_type": "markdown",
   "metadata": {},
   "source": [
    "![Buck in CCM](img/BUCK_CCM0.png)\n",
    "\n",
    "## Input Data"
   ]
  },
  {
   "cell_type": "code",
   "execution_count": 7,
   "metadata": {},
   "outputs": [
    {
     "name": "stdout",
     "output_type": "stream",
     "text": [
      " fsw= 100.0 kHz\n",
      " T= 10.0 us\n",
      " d= 0.4\n"
     ]
    }
   ],
   "source": [
    "Prated=200\n",
    "E1=300\n",
    "E2=120   \n",
    "fsw=100000\n",
    "d=120/300\n",
    "\n",
    "T=1/fsw\n",
    "print ( ' fsw=', fsw/1000,'kHz')\n",
    "print ( ' T=', T*10**6,'us')\n",
    "print( ' d=',d)"
   ]
  },
  {
   "cell_type": "markdown",
   "metadata": {},
   "source": [
    "In CCM the buck conveter has two stages of operation that are described bellow. \n",
    "\n",
    "## Stage 1            \n",
    "This stage last for $0 \\le t \\le dT$, the voltage $v_{gs}=18V$ and the MOSFET is on. The equivalent circuit is:\n",
    "\n",
    "![Stage 1 - Equivalent circuit for the Buck converter operating in CCM](img/Stage1_CCM.png)\n",
    "\n",
    "\n",
    "In this stage $ v_{gs}=18V$ and the MOSFET is on.\n",
    "From the KVL one has:\n",
    "\n",
    "${v_L} = L\\frac{{di_L}}{{dt}} = {E_1} - {E_2}$           \n",
    "\n",
    "since the converter operates in CCM \n",
    "\n",
    "${i_L}(0) = {I_m} \\ge 0$ \n",
    "\n",
    "By soving the diferential equation results:\n",
    "\n",
    "\n",
    "${i_L}(t) = {I_m} + \\frac{{{E_1} - {E_2}}}{L}t{\\rm{ }}$\n",
    "\n",
    "for any $0 \\le t \\le dT$.\n",
    "\n",
    "At the end of this stage at $t=dT$ the inductor current is at its peak that is:\n",
    "\n",
    "${i_L}(dT) = {I_m} + \\frac{{{E_1} - {E_2}}}{L}dT{\\rm{ }}$\n",
    "\n",
    "Let us name it $I_M$, therefore\n",
    "\n",
    "${i_L}(dT)={I_M} = {I_m} + \\frac{{{E_1} - {E_2}}}{L}dT{\\rm{ }}$\n",
    "\n",
    "or \n",
    "\n",
    "${I_M} - {I_m} = \\Delta I = {\\rm{ }}\\frac{{{E_1} - {E_2}}}{L}dT{\\rm{  }}$\n",
    "\n",
    "\n",
    "In addtion the voltage across the diode is:\n",
    "\n",
    "$v_{ak}=-E_1$\n",
    "\n",
    "\n"
   ]
  },
  {
   "cell_type": "markdown",
   "metadata": {},
   "source": [
    "\n",
    "## Stage 2            \n",
    "This stage last for $dT \\le t \\le T$ and the equivalent circuit is:\n",
    "![Stage 2 - Equivalent circuit for the Buck converter operating in CCM](img/Stage21_CCM.png)\n",
    "\n",
    "\n",
    "Once again, from the KVL one has:\n",
    "\n",
    "${v_L} = L\\frac{{di_L}}{{dt}} = - {E_2}$   \n",
    "\n",
    "with \n",
    "${i_L}(dT) = {I_M} \\ge 0$ \n",
    "\n",
    "By soving the diferential equation results:\n",
    "\n",
    "${i_L}(t) = {I_M} + \\frac{{ - {E_2}}}{L}(t-dT){\\rm{ }}$\n",
    "\n",
    "for any $dT \\le t \\le T$.\n",
    "\n",
    "\n",
    "\n",
    "For operation in steady state in CCM the following equality must be satisfied\n",
    "\n",
    "${i_L}(T)=I_m$\n",
    "\n",
    "\n",
    "therefore,\n",
    "\n",
    "${i_L}(T)={I_m} = {I_M} + \\frac{{ - {E_2}}}{L}(1-d)T{\\rm{ }}$\n",
    "\n",
    "or\n",
    "\n",
    "$\\Delta I = {\\rm{ }}\\frac{{{E_2}}}{L}(1 - d)T{\\rm{  }}$\n",
    "\n",
    "\n",
    "Now by equating the equation of the $\\Delta I$ obtained in satge 1 and 2 we have\n",
    "\n",
    "${\\rm{ }}\\frac{{{E_1} - {E_2}}}{L}dT{\\rm{  }}=\\Delta I = {\\rm{ }}\\frac{{{E_2}}}{L}(1 - d)T{\\rm{  }}$\n",
    "\n",
    "By simplifing the above equation results:\n",
    "\n",
    "$d = \\frac{{{E_2}}}{{{E_1}}}$\n",
    "\n",
    "This means that for operation in steady state in CCM the above equation must be satisfied!\n",
    "\n",
    "Finally the voltage across the MOSFET is:\n",
    "\n",
    "$v_{DS}=E_1$"
   ]
  },
  {
   "cell_type": "markdown",
   "metadata": {},
   "source": [
    "## Desiging \n",
    "\n",
    "Let us start by defining the current through the inductor\n",
    "\n",
    "${i_L}(t) = \\left\\{ {\\begin{array}{*{20}{c}}\n",
    "{{I_m} + \\frac{{{E_1} - {E_2}}}{L}t}&\\forall &{0 < t \\le dT}\\\\\n",
    "{{I_M} - \\frac{{  {E_2}}}{L}(t - dT)}&\\forall &{dT < t \\le T}\n",
    "\\end{array}} \\right.$\n",
    "\n",
    "Therefore the average current at the output is:\n",
    "\n",
    "${I_{L\\_av}} = \\frac{1}{T}\\int_0^T {{i_L}(t)dt}$\n",
    "\n",
    "${I_{L\\_av}} = {I_m} + \\frac{{{E_2}({E_1} - {E_2})T}}{{2L{E_1}}} = {I_M} - \\frac{{{E_2}({E_1} - {E_2})T}}{{2L{E_1}}}$\n",
    "\n",
    "which leads to\n",
    "\n",
    "${I_{L\\_av}} = \\frac{{{I_m} + {I_M}}}{2}$\n",
    "\n",
    "and\n",
    "\n",
    "${I_{L\\_av}} = {I_m} + \\frac{{\\Delta I}}{2}$.\n",
    "\n",
    "Note that\n",
    "\n",
    "${I_m} = {I_{L\\_av}} - \\frac{{\\Delta I}}{2}$,\n",
    "\n",
    "therefore, to ensure operation in CCM, the inductor current must be greater than zero or ${I_m} > 0$,\n",
    "as a result\n",
    "\n",
    "${I_{L\\_av}} > \\frac{{\\Delta I}}{2}$.\n",
    "\n",
    "The smaller average current for operation in CCM can be expressed as a function of the output power\n",
    "\n",
    "${I_{L\\_av\\_\\min }} = \\frac{{{P_{\\min }}}}{{{E_2}}}$\n",
    "\n",
    "It is possible to conclude that the inductor required to ensure operation in CCM for output power greater than $P_{min}$ is found from\n",
    "\n",
    "$\\frac{{2{P_{\\min }}}}{{{E_2}}} \\ge \\Delta I$\n",
    "\n",
    "that is\n",
    "\n",
    "$L \\ge \\frac{{{E_2}^2({E_1} - {E_2})T}}{{2{E_1}{P_{\\min }}}}$\n",
    "\n",
    "\n"
   ]
  },
  {
   "cell_type": "markdown",
   "metadata": {},
   "source": [
    "## Example"
   ]
  },
  {
   "cell_type": "code",
   "execution_count": 57,
   "metadata": {},
   "outputs": [
    {
     "name": "stdout",
     "output_type": "stream",
     "text": [
      "L= 1080.0 uH\n",
      "Delta I = 0.6666666666666666 A\n",
      "Average output current  Iav= 1.6666666666666667 A\n"
     ]
    }
   ],
   "source": [
    "Pmin=0.2*Prated\n",
    "L=E2**2*(E1-E2)*T/(2*E1*Pmin)\n",
    "print( 'L=',L*10**6,'uH')\n",
    "d=E2/E1\n",
    "Delta_I=E2/L*(1-d)*T\n",
    "print( 'Delta I =',Delta_I,'A' )\n",
    "Iav=Prated/E2\n",
    "print( 'Average output current  Iav=',Iav,'A' )\n"
   ]
  },
  {
   "cell_type": "markdown",
   "metadata": {},
   "source": [
    "RMS Current on the MOSFET\n",
    "\n",
    "${i_{MOSFET}}(t) = \\left\\{ {\\begin{array}{*{20}{c}}\n",
    "{{I_m} + \\frac{{{E_1} - {E_2}}}{L}t}&\\forall &{0 < t \\le dT}\\\\\n",
    "0&\\forall &{dT < t \\le T}\n",
    "\\end{array}} \\right.$\n",
    "\n",
    "\n",
    "The MOSFET rms current is:\n",
    "\n",
    "$${I_{MOSFET\\_rms}} = \\sqrt {\\frac{1}{T}\\int_0^T {{i_{MOSFET}}{{(t)}^2}dt} }  $$"
   ]
  },
  {
   "cell_type": "code",
   "execution_count": 58,
   "metadata": {},
   "outputs": [
    {
     "name": "stdout",
     "output_type": "stream",
     "text": [
      "Irms_MOSFET= 1.06109656767230 A\n"
     ]
    }
   ],
   "source": [
    "Im=Iav-Delta_I/2\n",
    "t=sp.symbols('t')\n",
    "Irms=sp.sqrt(1/T*sp.integrate( (Im+(E1-E2)*t/L)**2,(t,0,d*T)))\n",
    "print('Irms_MOSFET=',Irms,'A')"
   ]
  },
  {
   "cell_type": "markdown",
   "metadata": {},
   "source": [
    "Average and RMS current on the diode\n",
    "\n",
    "$${i_{DIODE}}(t) = \\left\\{ {\\begin{array}{*{20}{c}}\n",
    "0&\\forall &{0 < t \\le dT}\\\\\n",
    "{{I_M} + \\frac{{ - {E_2}}}{L}(t - dT)}&\\forall &{dT < t \\le T}\n",
    "\\end{array}} \\right.\\frac{{\\frac{{}}{{}}}}{{}}$$\n",
    "\n",
    "\n",
    "$$\\begin{array}{l}\n",
    "{I_{DIODE\\_rms}} = \\sqrt {\\frac{1}{T}\\int_0^T {{i_{DIODE}}{{(t)}^2}dt} } \\\\\n",
    "\\\\\n",
    "{I_{DIODE\\_av}} = \\frac{1}{T}\\int_0^T {{i_{DIODE}}(t)dt} \n",
    "\\end{array}$$\n"
   ]
  },
  {
   "cell_type": "code",
   "execution_count": 61,
   "metadata": {},
   "outputs": [
    {
     "name": "stdout",
     "output_type": "stream",
     "text": [
      "Irms_diode= 1.29957257930786 A\n",
      "Iav_diode= 1.00000000000000 A\n"
     ]
    }
   ],
   "source": [
    "IM=Iav+Delta_I/2\n",
    "t=sp.symbols('t')\n",
    "Irms_diode=sp.sqrt(1/T*sp.integrate( (IM-(E2*(t-d*T))/L)**2,(t,d*T,T)))\n",
    "print('Irms_diode=',Irms_diode,'A')\n",
    "Iav_diode=1/T*sp.integrate( (IM+(-E2)*(t-d*T)/L),(t,d*T,T))\n",
    "print('Iav_diode=',Iav_diode,'A')"
   ]
  },
  {
   "cell_type": "markdown",
   "metadata": {},
   "source": [
    "##  Quantities for the inductor design\n",
    "\n",
    "${i_L} = \\left\\{ {\\begin{array}{*{20}{c}}\n",
    "{{I_m} + \\frac{{{E_1} - {E_2}}}{L}t}&\\forall &{0 < t \\le dT}\\\\\n",
    "{{I_M} + \\frac{{ - {E_2}}}{L}(t - dT)}&\\forall &{dT < t \\le T}\n",
    "\\end{array}} \\right.$\n",
    "\n",
    "Therefore the peak value of the inductor current is:"
   ]
  },
  {
   "cell_type": "code",
   "execution_count": 6,
   "metadata": {},
   "outputs": [
    {
     "name": "stdout",
     "output_type": "stream",
     "text": [
      " Inductor peak current = 2.0 A\n"
     ]
    }
   ],
   "source": [
    "print ( ' Inductor peak current =',IM,'A')"
   ]
  },
  {
   "cell_type": "markdown",
   "metadata": {},
   "source": [
    "The RMS value of the inductor current is:"
   ]
  },
  {
   "cell_type": "code",
   "execution_count": 7,
   "metadata": {},
   "outputs": [
    {
     "name": "stdout",
     "output_type": "stream",
     "text": [
      "RMS value of the inductor current = 1.67774098561572 A\n"
     ]
    }
   ],
   "source": [
    "Irms_inductor=sp.sqrt(1/T*(sp.integrate((IM+(-E2)*(t-d*T)/L)**2,(t,d*T,T))+sp.integrate((Im+(E1-E2)*t/L)**2,(t,0,d*T))))\n",
    "print('RMS value of the inductor current =',Irms_inductor,'A')"
   ]
  },
  {
   "cell_type": "markdown",
   "metadata": {},
   "source": [
    "Simulation results validates the theoritical analysis\n",
    "\n",
    "![Inductor current - Buck converter operating in CCM](img/IL_buck_CCM.png)"
   ]
  },
  {
   "cell_type": "markdown",
   "metadata": {},
   "source": [
    "### Ouput Filter Design, frequency domain approach\n",
    "#### For a given frequency component of the current through the capacitor, the corresponding voltage across it can found as\n",
    "$${V_{ac}} =  - j{X_c}{I_{ac}}$$\n",
    "#### and their magnitude can be expressed as\n",
    "$$\\left| {{V_{ac}}} \\right| = {X_c}\\left| {{I_{ac}}} \\right|$$\n",
    "#### where\n",
    "$${X_c} = \\frac{1}{{2\\pi f_{sw}C}}$$\n",
    "#### and $f_{sw}$ is the frenquency of the consired frequency component\n"
   ]
  },
  {
   "cell_type": "markdown",
   "metadata": {},
   "source": [
    "Example 1"
   ]
  },
  {
   "cell_type": "code",
   "execution_count": 8,
   "metadata": {},
   "outputs": [
    {
     "name": "stdout",
     "output_type": "stream",
     "text": [
      "C= 10.0 uF\n"
     ]
    }
   ],
   "source": [
    "C=10*10**-6\n",
    "print( 'C=',C*10**6, 'uF')"
   ]
  },
  {
   "cell_type": "markdown",
   "metadata": {},
   "source": [
    "then for the frequency component at $f_{sw}$, the  reactance of the capacitor is"
   ]
  },
  {
   "cell_type": "code",
   "execution_count": 9,
   "metadata": {},
   "outputs": [
    {
     "name": "stdout",
     "output_type": "stream",
     "text": [
      "Xc= 0.15915494309189537 ohms\n"
     ]
    }
   ],
   "source": [
    "Xc=1/(2*pi*fsw*C)\n",
    "print ( 'Xc=',Xc, 'ohms')"
   ]
  },
  {
   "cell_type": "markdown",
   "metadata": {},
   "source": [
    "From the simulation it is possible to find the amplitude of the current component, @fsw, through the capacitor\n",
    "\n",
    "\n",
    "![BUCK output capacitor current and voltage spectrum](img/BUCk_CCM1_current_cap.png)\n",
    "\n",
    "\n",
    "![BUCK output capacitor current and voltage spectrum](img/BUCk_CCM1_current_cap_fft.png)"
   ]
  },
  {
   "cell_type": "code",
   "execution_count": 10,
   "metadata": {},
   "outputs": [
    {
     "name": "stdout",
     "output_type": "stream",
     "text": [
      "Iac= 0.2675 A @ 100.0 kHz\n"
     ]
    }
   ],
   "source": [
    "Iac=0.2675\n",
    "print( 'Iac=',Iac,'A @',fsw/1000,'kHz')"
   ]
  },
  {
   "cell_type": "markdown",
   "metadata": {},
   "source": [
    "Then the peak to peak ac component of the capacitor voltage can be approximate as: "
   ]
  },
  {
   "cell_type": "code",
   "execution_count": 11,
   "metadata": {},
   "outputs": [
    {
     "name": "stdout",
     "output_type": "stream",
     "text": [
      "Vca_p2p= 0.08514789455416404 V @ 100.0 kHz\n"
     ]
    }
   ],
   "source": [
    "Vca_p2p=Xc*Iac*2\n",
    "print ( 'Vca_p2p=',Vca_p2p,'V @',fsw/1000,'kHz')"
   ]
  },
  {
   "cell_type": "markdown",
   "metadata": {},
   "source": [
    "The voltage ripple as a percetage of the output dc component is"
   ]
  },
  {
   "cell_type": "code",
   "execution_count": 12,
   "metadata": {},
   "outputs": [
    {
     "name": "stdout",
     "output_type": "stream",
     "text": [
      "The peak to peak voltage ripple = 0.07095657879513668 %\n"
     ]
    }
   ],
   "source": [
    "Ripple=Vca_p2p/E2*100\n",
    "print ( 'The peak to peak voltage ripple =', Ripple,'%')"
   ]
  },
  {
   "cell_type": "markdown",
   "metadata": {},
   "source": [
    "Example 2"
   ]
  },
  {
   "cell_type": "markdown",
   "metadata": {},
   "source": [
    "Let us consider in the above example that the maximum allowed ripple is given"
   ]
  },
  {
   "cell_type": "code",
   "execution_count": 13,
   "metadata": {},
   "outputs": [
    {
     "name": "stdout",
     "output_type": "stream",
     "text": [
      "Maximum allowed output capacitor voltage ripple = 1 %\n"
     ]
    }
   ],
   "source": [
    "Ripple=1\n",
    "print ( 'Maximum allowed output capacitor voltage ripple =',Ripple,'%')"
   ]
  },
  {
   "cell_type": "code",
   "execution_count": 14,
   "metadata": {},
   "outputs": [
    {
     "name": "stdout",
     "output_type": "stream",
     "text": [
      "Maximum allowed output capacitor voltage ripple = 1.2 V peak to peak\n"
     ]
    }
   ],
   "source": [
    "Vca_p2p=Ripple/100*E2\n",
    "print ( 'Maximum allowed output capacitor voltage ripple =',Vca_p2p,'V peak to peak')"
   ]
  },
  {
   "cell_type": "markdown",
   "metadata": {},
   "source": [
    "From the simulation, file buck_ccm_1.psimsch, it is possible to find that capacitor current component at $f_{sw}$ using the FFT function, that is: (peak)\n"
   ]
  },
  {
   "cell_type": "code",
   "execution_count": 19,
   "metadata": {},
   "outputs": [],
   "source": [
    "Iac=0.2675"
   ]
  },
  {
   "cell_type": "markdown",
   "metadata": {},
   "source": [
    "Therefore"
   ]
  },
  {
   "cell_type": "code",
   "execution_count": 20,
   "metadata": {},
   "outputs": [
    {
     "name": "stdout",
     "output_type": "stream",
     "text": [
      "Xc= 2.2429906542056073 ohms\n"
     ]
    }
   ],
   "source": [
    "Xc=Vca_p2p/(2*Iac)\n",
    "print ( 'Xc=',Xc, 'ohms')"
   ]
  },
  {
   "cell_type": "code",
   "execution_count": 21,
   "metadata": {},
   "outputs": [
    {
     "name": "stdout",
     "output_type": "stream",
     "text": [
      " C= 0.7095657879513669 uF\n"
     ]
    }
   ],
   "source": [
    "C=1/(2*pi*fsw*Xc)\n",
    "print ( ' C=', C*10**6, 'uF')"
   ]
  },
  {
   "cell_type": "markdown",
   "metadata": {},
   "source": [
    "## Output capacitor current component by means of Fourier Series"
   ]
  },
  {
   "cell_type": "markdown",
   "metadata": {},
   "source": [
    "For a buck opeating in CCM the current through the output capacitor can be found by subtracting the inductor current from its average value, that is:\n",
    "\n",
    "$${i_{ac}}(t) = \\left\\{ {\\begin{array}{*{20}{c}}\n",
    "{{I_m} + \\frac{{{E_1} - {E_2}}}{L}t}-I_{av}&\\forall &{0 < t \\le dT}\\\\\n",
    "{{I_M} + \\frac{{ - {E_2}}}{L}(t - dT)}- I_{av}&\\forall &{dT < t \\le T} \n",
    "\\end{array}} \\right.$$\n",
    "\n",
    "or\n",
    "\n",
    "$${i_{ac}}(t) = \\left\\{ {\\begin{array}{*{20}{c}}\n",
    "{-\\frac{\\Delta I}{2} + \\frac{{{E_1} - {E_2}}}{L}t}&\\forall &{0 < t \\le dT}\\\\\n",
    "{\\frac{\\Delta I}{2} + \\frac{{ - {E_2}}}{L}(t - dT)}&\\forall &{dT < t \\le T} \n",
    "\\end{array}} \\right.$$\n",
    "\n",
    "\n",
    "\n",
    "where, as mentioned above\n",
    "\n",
    "$$d = \\frac{{{E_2}}}{{{E_1}}}$$\n",
    "\n",
    "\n",
    "$$\\Delta I = {\\rm{ }}\\frac{{{E_2}}}{L}(1 - d)T{\\rm{  }}$$"
   ]
  },
  {
   "cell_type": "code",
   "execution_count": 30,
   "metadata": {},
   "outputs": [
    {
     "data": {
      "image/png": "[encoded data removed]",
      "text/latex": [
       "$$166666.666666667 t - 0.333333333333333$$"
      ],
      "text/plain": [
       "166666.666666667⋅t - 0.333333333333333"
      ]
     },
     "execution_count": 30,
     "metadata": {},
     "output_type": "execute_result"
    }
   ],
   "source": [
    "d=E2/E1\n",
    "DeltaI=E2/L*(1-d)*T\n",
    "t=sp.symbols('t')\n",
    "ia_s2=DeltaI/2-E2/L*(t-d*T)\n",
    "ia_s1=-DeltaI/2+(E1-E2)/L*t\n",
    "ia_s1\n"
   ]
  },
  {
   "cell_type": "markdown",
   "metadata": {},
   "source": [
    "Since $i_{ac}$ is periodic with period $T$, its harmonic components can be obtained from the Fourier Series"
   ]
  },
  {
   "cell_type": "markdown",
   "metadata": {},
   "source": [
    "The magnitude of the hamonic component at $f_{sw}$ is:\n",
    "$${I_{ac}} = \\sqrt {{{({I_{ac\\_\\cos }})}^2} + {{({I_{ac\\_\\sin }})}^2}} $$\n",
    "\n",
    "where\n",
    "$$\\begin{array}{l}\n",
    "{I_{ac\\_\\cos }} = \\frac{2}{T}\\int_0^T {{i_{ac}}} (t)\\cos (\\frac{{2\\pi }}{T}t)dt\\\\\n",
    "{I_{ac\\_\\sin }} = \\frac{2}{T}\\int_0^T {{i_{ac}}} (t)\\sin (\\frac{{2\\pi }}{T}t)dt\n",
    "\\end{array}$$"
   ]
  },
  {
   "cell_type": "code",
   "execution_count": 28,
   "metadata": {},
   "outputs": [
    {
     "name": "stdout",
     "output_type": "stream",
     "text": [
      "Iac= 0.267672699838287 A  @ 100.0 kHz\n"
     ]
    }
   ],
   "source": [
    "Iac_cos1=2/T*( sp.integrate(ia_s1*sp.cos(2*pi/T*t),(t,0,d*T) ) )\n",
    "Iac_cos2=2/T*( sp.integrate(ia_s2*sp.cos(2*pi/T*t),(t,d*T,T)) )\n",
    "Iac_cos=Iac_cos1+Iac_cos2\n",
    "\n",
    "Iac_sin1=2/T*( sp.integrate(ia_s1*sp.sin(2*pi/T*t),(t,0,d*T) ) )\n",
    "Iac_sin2=2/T*( sp.integrate(ia_s2*sp.sin(2*pi/T*t),(t,d*T,T)) )\n",
    "Iac_sin=Iac_sin1+Iac_sin2\n",
    "Iac=sp.sqrt(Iac_sin**2+Iac_cos**2)\n",
    "print( 'Iac=', Iac, 'A  @',fsw/1000,'kHz')"
   ]
  },
  {
   "cell_type": "markdown",
   "metadata": {},
   "source": [
    "### Lets us find the amplitude of the output voltage ripple peak to peak  in time domain"
   ]
  },
  {
   "cell_type": "markdown",
   "metadata": {},
   "source": [
    "$${v_c} = C\\frac{{d{i_c}}}{{dt}}$$\n",
    "or\n",
    "$${v_c}(t) = {v_c}({t_o}) + \\int_{{t_o}}^t {{i_c}(t)dt}$$"
   ]
  },
  {
   "cell_type": "markdown",
   "metadata": {},
   "source": [
    "Let $t_0$ be the time instant when the capacitor current transiton from negative to positive \n",
    "and $t_2$ be the time instant when the capaticor current transition from positive to nevative within the period $T$\n",
    "\n",
    "$$\\begin{array}{l}\n",
    "{v_c}({t_2}) - {v_c}({t_o}) = \\Delta V = C\\int_{{t_o}}^{{t_2}} {{i_c}(t)dt} \\\\\n",
    "\\Delta Q = \\int_{{t_o}}^{{t_2}} {{i_c}(t)dt} \\\\\n",
    "\\Delta V = C\\Delta Q\n",
    "\\end{array}$$"
   ]
  },
  {
   "cell_type": "markdown",
   "metadata": {},
   "source": [
    "First let us find $t_0$ by soving the equation that governs the capcitor current, that is:\n",
    "$$ -\\frac{\\Delta I}{2} + \\frac{{{E_1} - {E_2}}}{L}t_0=0$$\n",
    "\n"
   ]
  },
  {
   "cell_type": "code",
   "execution_count": 29,
   "metadata": {
    "scrolled": true
   },
   "outputs": [
    {
     "name": "stdout",
     "output_type": "stream",
     "text": [
      "2.0 us\n"
     ]
    }
   ],
   "source": [
    "t0=DeltaI/2*L/(E1-E2)\n",
    "print( t0*10**6 ,'us')"
   ]
  },
  {
   "cell_type": "markdown",
   "metadata": {},
   "source": [
    "First let us find $t_2$ by soving the equation that governs the capcitor current in the second stage, that is: \n",
    "$$\\frac{\\Delta I}{2} + \\frac{{ - {E_2}}}{L}(t_2 - dT)=0$$"
   ]
  },
  {
   "cell_type": "code",
   "execution_count": 62,
   "metadata": {},
   "outputs": [
    {
     "name": "stdout",
     "output_type": "stream",
     "text": [
      "t2= 7.000000000000001 us\n"
     ]
    }
   ],
   "source": [
    "t2=DeltaI/2*L/E2+d*T\n",
    "print( 't2=',t2*10**6 ,'us')"
   ]
  },
  {
   "cell_type": "code",
   "execution_count": 33,
   "metadata": {},
   "outputs": [
    {
     "name": "stdout",
     "output_type": "stream",
     "text": [
      "Ripple peak to peak = 1.17442716022048 V\n",
      "Ripple = 0.978689300183736 %\n"
     ]
    }
   ],
   "source": [
    "Delta_Q=( sp.integrate(ia_s1,(t,t0,d*T)) + sp.integrate(ia_s2,(t,d*T,t2)) )\n",
    "Delta_V=Delta_Q/C\n",
    "print ( 'Ripple peak to peak =',Delta_V,'V')\n",
    "print ( 'Ripple =',Delta_V/E2*100,'%')"
   ]
  },
  {
   "cell_type": "markdown",
   "metadata": {},
   "source": [
    "## Input Filter Design"
   ]
  },
  {
   "cell_type": "markdown",
   "metadata": {},
   "source": [
    "#### The second order LC input filter is used to attenuate the current harmonics drawn by the converter from the input. The design procedure considered has three steps. \n",
    "          1) First the capacitor is selected to keep the ac component of the voltage across the capacitor smaller than a predefined value;\n",
    "          2) then, the inductor is selected to make the input current ac component as small as desired \n",
    "          3) The damping resistor is design \n",
    "\n",
    "![Buck in CCM with input LC filter](img/BUCK_CCM2_input_filter.png)"
   ]
  },
  {
   "cell_type": "markdown",
   "metadata": {},
   "source": [
    "The current through the input filter capacitor  in steady state is:\n",
    "\n",
    "$${i_{c1}} = \\left\\{ {\\begin{array}{*{20}{c}}\n",
    "{  {I_{av1}} - (I_m+\\frac{{({E_1} - {E_2})}}{L}t})&{0 \\le t \\le dT}\\\\\n",
    "{  {I_{av1}}}&{dT \\le t \\le T}\n",
    "\\end{array}} \\right.$$\n",
    "\n",
    "where\n",
    "\n",
    "$${I_{av1}} = \\frac{{{P_{rated}}}}{{{E_1}}}$$"
   ]
  },
  {
   "cell_type": "markdown",
   "metadata": {},
   "source": [
    "then, it possible to compute the resulting ac voltage across the input capacitor from\n",
    " \n",
    "\n",
    "$$\\begin{array}{l}\n",
    "{v_{c1}}({dT}) - {v_{c1}}({T}) = \\Delta V_{c1} = C_{in}\\int_{{dT}}^{{T}} {{i_{c1}}(t)dt} \\\\\n",
    "\\Delta Q_{c1} = \\int_{{dT}}^{{T}} {{I_{av1}}dt} \\\\\n",
    "\\Delta Q_{c1} = C_{in}\\Delta V_{c1}\n",
    "\\end{array}$$\n",
    "\n",
    "whenever  $I_m > I_{av1}$ .\n",
    "\n",
    "\n",
    "\n",
    "![Input filter_capacitot voltage and current](img/Buck_ccm2_current_input_cap.png)"
   ]
  },
  {
   "cell_type": "code",
   "execution_count": 39,
   "metadata": {},
   "outputs": [
    {
     "name": "stdout",
     "output_type": "stream",
     "text": [
      "Average current drawn from the input, Iav1= 0.6666666666666666 A\n",
      "Im= 1.3333333333333335 A\n"
     ]
    }
   ],
   "source": [
    "Iav1=Prated/E1\n",
    "print ('Average current drawn from the input, Iav1=', Iav1,'A')\n",
    "Iav2=Prated/E2\n",
    "Im=Iav2-DeltaI/2\n",
    "print ( 'Im=',Im,'A')"
   ]
  },
  {
   "cell_type": "code",
   "execution_count": 40,
   "metadata": {},
   "outputs": [
    {
     "data": {
      "image/png": "[encoded data removed]",
      "text/latex": [
       "$$0.6666666666666666$$"
      ],
      "text/plain": [
       "0.6666666666666666"
      ]
     },
     "execution_count": 40,
     "metadata": {},
     "output_type": "execute_result"
    }
   ],
   "source": [
    "ic1_1=Iav1;\n",
    "ic1_1"
   ]
  },
  {
   "cell_type": "code",
   "execution_count": 42,
   "metadata": {},
   "outputs": [
    {
     "name": "stdout",
     "output_type": "stream",
     "text": [
      " DelatQ= 4.00000000000000 uC\n"
     ]
    }
   ],
   "source": [
    "DeltaQ1=sp.integrate(ic1_1,(t,d*T,T))\n",
    "print(' DelatQ=',DeltaQ1*10**6,'uC')"
   ]
  },
  {
   "cell_type": "markdown",
   "metadata": {},
   "source": [
    "Now, for a given specification of input capacitor voltage rippple it is possible to compute $C_1$, for example "
   ]
  },
  {
   "cell_type": "code",
   "execution_count": 43,
   "metadata": {},
   "outputs": [
    {
     "name": "stdout",
     "output_type": "stream",
     "text": [
      "Vac1_p2p = 3.0 V\n"
     ]
    }
   ],
   "source": [
    "Ripple_v1=1 \n",
    "Vac1_p2p=Ripple_v1/100*E1\n",
    "print ( 'Vac1_p2p =',Vac1_p2p,'V')"
   ]
  },
  {
   "cell_type": "markdown",
   "metadata": {},
   "source": [
    "The capacitance required to make the voltage ripple at this value is:"
   ]
  },
  {
   "cell_type": "code",
   "execution_count": 44,
   "metadata": {},
   "outputs": [
    {
     "name": "stdout",
     "output_type": "stream",
     "text": [
      " Cin= 1.33333333333333 uF\n"
     ]
    }
   ],
   "source": [
    "Cin=np.abs(DeltaQ1)/Vac1_p2p\n",
    "print (' Cin=',Cin*10**6,'uF')"
   ]
  },
  {
   "cell_type": "code",
   "execution_count": null,
   "metadata": {},
   "outputs": [],
   "source": []
  },
  {
   "cell_type": "markdown",
   "metadata": {},
   "source": [
    "Now, let us define the inductor of the input filter. In order to simplify the design it is reasanable to assume that $V_{ac1 p2p}$ is amplitude of the voltage component at the frequency $f_{sw}$. This alternate voltage component will result in a current ripple at the input filter inductor with of the following amplitude:\n",
    "\n",
    "$${I_{Lin\\_ac}} = \\frac{{{V_{ac1\\_p2p}}}}{{{X_L}}} = \\frac{{{V_{ac1\\_p2p}}}}{{\\frac{{2\\pi }}{T}L}}$$\n",
    "\n",
    "as a result, for a given ${I_{Lin\\_ac}}$ the inductance of the inductor can be computed as:\n",
    "\n",
    "$$L_{in} = \\frac{{{V_{ac1\\_p2p}}}}{{\\frac{{2\\pi }}{T}{I_{Lin\\_ac}}}}$$"
   ]
  },
  {
   "cell_type": "markdown",
   "metadata": {},
   "source": [
    "If the acceptable input current ripple is given, then:\n",
    "$$L_{in} = \\frac{{{V_{ac1\\_p2p}}}}{{\\frac{{2\\pi }}{T}\\frac{{Ripple\\_Iin}}{{100}}{I_{av1}}}}$$"
   ]
  },
  {
   "cell_type": "code",
   "execution_count": 69,
   "metadata": {},
   "outputs": [
    {
     "name": "stdout",
     "output_type": "stream",
     "text": [
      "Lin= 0.14323944878270584 mH\n"
     ]
    }
   ],
   "source": [
    "Ripple_Iin=5\n",
    "Lin=Vac1_p2p/(2*pi/T*Ripple_Iin/100*Iav1)\n",
    "print('Lin=',Lin*1000,'mH')"
   ]
  },
  {
   "cell_type": "markdown",
   "metadata": {},
   "source": [
    "The resonant frenquency of the input filter is "
   ]
  },
  {
   "cell_type": "code",
   "execution_count": 66,
   "metadata": {},
   "outputs": [
    {
     "name": "stdout",
     "output_type": "stream",
     "text": [
      "Input filter resonant frequency 5.15032269364253 kHz\n"
     ]
    }
   ],
   "source": [
    "print('Input filter resonant frequency',sp.sqrt(1/(Lin*Cin))/2/pi/1000,'kHz')"
   ]
  },
  {
   "cell_type": "markdown",
   "metadata": {},
   "source": [
    "![Input Filter_Capacitor voltage and  inductor current](img/BUCK_CCM_input_transient.png)\n",
    "\n",
    "\n",
    "![Input Filter_Capacitor voltage and  inductor current- Zoom](img/BUCK_CCM_input_tran_zoom.png)"
   ]
  }
 ],
 "metadata": {
  "kernelspec": {
   "display_name": "Python 3",
   "language": "python",
   "name": "python3"
  },
  "language_info": {
   "codemirror_mode": {
    "name": "ipython",
    "version": 3
   },
   "file_extension": ".py",
   "mimetype": "text/x-python",
   "name": "python",
   "nbconvert_exporter": "python",
   "pygments_lexer": "ipython3",
   "version": "3.6.5"
  }
 },
 "nbformat": 4,
 "nbformat_minor": 2
}
