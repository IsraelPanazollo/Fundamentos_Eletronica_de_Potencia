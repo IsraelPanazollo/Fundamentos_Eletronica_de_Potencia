{
 "cells": [
  {
   "cell_type": "markdown",
   "metadata": {},
   "source": [
    "## DPEE 1072\n",
    "### BUCK in DCM\n",
    "#### Prof. Humberto Pinheiro,Ph.D."
   ]
  },
  {
   "cell_type": "code",
   "execution_count": 1,
   "metadata": {},
   "outputs": [],
   "source": [
    "import numpy as np\n",
    "from numpy import pi\n",
    "from scipy import sqrt, exp, cos, matrix, vstack, hstack, zeros\n",
    "from scipy.linalg import block_diag\n",
    "import matplotlib.pyplot as plt\n",
    "import mpld3\n",
    "import math as m\n",
    "import cmath\n",
    "import sympy as sp\n",
    "sp.init_printing()"
   ]
  },
  {
   "cell_type": "markdown",
   "metadata": {},
   "source": [
    "Input Data"
   ]
  },
  {
   "cell_type": "code",
   "execution_count": 2,
   "metadata": {},
   "outputs": [
    {
     "name": "stdout",
     "output_type": "stream",
     "text": [
      " fsw= 100.0 kHz\n",
      " T= 10.0 us\n"
     ]
    }
   ],
   "source": [
    "Prated=200\n",
    "E1=300\n",
    "E2=120   \n",
    "fsw=100000\n",
    "T=1/fsw\n",
    "print ( ' fsw=', fsw/1000,'kHz')\n",
    "print ( ' T=', T*10**6,'us')"
   ]
  },
  {
   "cell_type": "markdown",
   "metadata": {},
   "source": []
  },
  {
   "cell_type": "code",
   "execution_count": 3,
   "metadata": {},
   "outputs": [
    {
     "name": "stdout",
     "output_type": "stream",
     "text": [
      "dmax= 0.4\n"
     ]
    }
   ],
   "source": [
    "dmax=E2/E1\n",
    "print ('dmax=',dmax)"
   ]
  },
  {
   "cell_type": "markdown",
   "metadata": {},
   "source": [
    "Selected duty cyle"
   ]
  },
  {
   "cell_type": "code",
   "execution_count": 4,
   "metadata": {},
   "outputs": [],
   "source": [
    "d=0.35"
   ]
  },
  {
   "cell_type": "markdown",
   "metadata": {},
   "source": [
    " Inductance value"
   ]
  },
  {
   "cell_type": "code",
   "execution_count": 5,
   "metadata": {},
   "outputs": [
    {
     "name": "stdout",
     "output_type": "stream",
     "text": [
      "L= 165.375 uH\n"
     ]
    }
   ],
   "source": [
    "L=E1*(E1-E2)*d**2*T/2/Prated\n",
    "print( 'L=',L*1000000,'uH')"
   ]
  },
  {
   "cell_type": "markdown",
   "metadata": {},
   "source": [
    "RMS Current on the MOSFET"
   ]
  },
  {
   "cell_type": "code",
   "execution_count": 6,
   "metadata": {},
   "outputs": [
    {
     "name": "stdout",
     "output_type": "stream",
     "text": [
      "Irms_MOSFET= 1.3012000972647109 A\n"
     ]
    }
   ],
   "source": [
    "Irms=(E1-E2)*T/L*sqrt(d**3/3)\n",
    "print('Irms_MOSFET=',Irms,'A')"
   ]
  },
  {
   "cell_type": "markdown",
   "metadata": {},
   "source": [
    "Other operating points"
   ]
  },
  {
   "cell_type": "code",
   "execution_count": 7,
   "metadata": {},
   "outputs": [
    {
     "data": {
      "text/plain": [
       "[<matplotlib.lines.Line2D at 0x1f10b6ebb00>]"
      ]
     },
     "execution_count": 7,
     "metadata": {},
     "output_type": "execute_result"
    },
    {
     "data": {
      "image/png": "[encoded data removed]",
      "text/html": [
       "\n",
       "\n",
       "<style>\n",
       "\n",
       "</style>\n",
       "\n",
       "<div id=\"fig_el828421347732634406174955272\"></div>\n",
       "<script>\n",
       "function mpld3_load_lib(url, callback){\n",
       "  var s = document.createElement('script');\n",
       "  s.src = url;\n",
       "  s.async = true;\n",
       "  s.onreadystatechange = s.onload = callback;\n",
       "  s.onerror = function(){console.warn(\"failed to load library \" + url);};\n",
       "  document.getElementsByTagName(\"head\")[0].appendChild(s);\n",
       "}\n",
       "\n",
       "if(typeof(mpld3) !== \"undefined\" && mpld3._mpld3IsLoaded){\n",
       "   // already loaded: just create the figure\n",
       "   !function(mpld3){\n",
       "       \n",
       "       mpld3.draw_figure(\"fig_el828421347732634406174955272\", {\"width\": 432.0, \"height\": 288.0, \"axes\": [{\"bbox\": [0.125, 0.125, 0.775, 0.755], \"xlim\": [-10.0, 210.0], \"ylim\": [-0.017499999999999998, 0.3675], \"xdomain\": [-10.0, 210.0], \"ydomain\": [-0.017499999999999998, 0.3675], \"xscale\": \"linear\", \"yscale\": \"linear\", \"axes\": [{\"position\": \"bottom\", \"nticks\": 11, \"tickvalues\": null, \"tickformat\": null, \"scale\": \"linear\", \"fontsize\": 10.0, \"grid\": {\"gridOn\": true, \"color\": \"#B0B0B0\", \"dasharray\": \"none\", \"alpha\": 1.0}, \"visible\": true}, {\"position\": \"left\", \"nticks\": 10, \"tickvalues\": null, \"tickformat\": null, \"scale\": \"linear\", \"fontsize\": 10.0, \"grid\": {\"gridOn\": true, \"color\": \"#B0B0B0\", \"dasharray\": \"none\", \"alpha\": 1.0}, \"visible\": true}], \"axesbg\": \"#FFFFFF\", \"axesbgalpha\": null, \"zoomable\": true, \"id\": \"el82842134775718688\", \"lines\": [], \"paths\": [], \"markers\": [{\"data\": \"data01\", \"xindex\": 0, \"yindex\": 1, \"coordinates\": \"data\", \"id\": \"el82842134790552320pts\", \"facecolor\": \"#FF0000\", \"edgecolor\": \"#FF0000\", \"edgewidth\": 1.0, \"alpha\": 1, \"zorder\": 2, \"markerpath\": [[[-3.0, 3.0], [3.0, -3.0], [-3.0, -3.0], [3.0, 3.0]], [\"M\", \"L\", \"M\", \"L\"]]}], \"texts\": [], \"collections\": [], \"images\": [], \"sharex\": [], \"sharey\": []}], \"data\": {\"data01\": [[0.0, 0.0], [2.0202020202020203, 0.03517632353407242], [4.040404040404041, 0.0497468338163091], [6.0606060606060606, 0.06092717958449424], [8.080808080808081, 0.07035264706814484], [10.101010101010102, 0.07865665062071157], [12.121212121212121, 0.08616404368553292], [14.141414141414142, 0.09306780410870431], [16.161616161616163, 0.0994936676326182], [18.181818181818183, 0.10552897060221728], [20.202020202020204, 0.11123730207865244], [22.222222222222225, 0.11666666666666667], [24.242424242424242, 0.12185435916898849], [26.262626262626263, 0.12683003818440877], [28.282828282828284, 0.13161775079081212], [30.303030303030305, 0.13623731522826651], [32.323232323232325, 0.14070529413628968], [34.343434343434346, 0.1450356974518809], [36.36363636363637, 0.1492405014489273], [38.38383838383839, 0.1533300394903132], [40.40404040404041, 0.15731330124142315], [42.42424242424243, 0.1611981652651434], [44.44444444444445, 0.1649915822768611], [46.46464646464647, 0.1686997212789516], [48.484848484848484, 0.17232808737106584], [50.505050505050505, 0.17588161767036212], [52.525252525252526, 0.1793647601166884], [54.54545454545455, 0.18278153875348271], [56.56565656565657, 0.18613560821740863], [58.58585858585859, 0.18943029954006405], [60.60606060606061, 0.19266865889711313], [62.62626262626263, 0.19585348058838745], [64.64646464646465, 0.1989873352652364], [66.66666666666667, 0.20207259421636903], [68.68686868686869, 0.20511145036469092], [70.70707070707071, 0.2081059365036971], [72.72727272727273, 0.21105794120443455], [74.74747474747475, 0.21396922274670319], [76.76767676767678, 0.2168414213664032], [78.7878787878788, 0.21967607006129675], [80.80808080808082, 0.22247460415730488], [82.82828282828284, 0.22523836980479864], [84.84848484848486, 0.22796863154762537], [86.86868686868688, 0.23066657908563762], [88.8888888888889, 0.23333333333333334], [90.90909090909092, 0.23596995186213474], [92.92929292929294, 0.23857743380125437], [94.94949494949496, 0.24115672426155912], [96.96969696969697, 0.24370871833797697], [98.98989898989899, 0.24623426473850696], [101.01010101010101, 0.2487341690815455], [103.03030303030303, 0.25120919689784565], [105.05050505050505, 0.25366007636881754], [107.07070707070707, 0.25608750082893167], [109.0909090909091, 0.25849213105659874], [111.11111111111111, 0.2608745973749755], [113.13131313131314, 0.26323550158162423], [115.15151515151516, 0.26557541872376483], [117.17171717171718, 0.26789489873395644], [119.1919191919192, 0.27019446793939084], [121.21212121212122, 0.27247463045653303], [123.23232323232324, 0.27473586948157674], [125.25252525252526, 0.27697864848607323], [127.27272727272728, 0.27920341232611295], [129.2929292929293, 0.28141058827257937], [131.31313131313132, 0.283600586969232], [133.33333333333334, 0.2857738033247041], [135.35353535353536, 0.2879306173439018], [137.37373737373738, 0.2900713949037618], [139.3939393939394, 0.2921964884778526], [141.41414141414143, 0.2943062378138826], [143.43434343434345, 0.29640097056780257], [145.45454545454547, 0.2984810028978546], [147.4747474747475, 0.300546640021616], [149.4949494949495, 0.3025981767388174], [151.51515151515153, 0.3046358979224712], [153.53535353535355, 0.3066600789806264], [155.55555555555557, 0.3086709862908689], [157.5757575757576, 0.31066887760950807], [159.5959595959596, 0.31265400245722946], [161.61616161616163, 0.3146266024828463], [163.63636363636365, 0.31658691180665177], [165.65656565656568, 0.31853515734475285], [167.6767676767677, 0.3204715591156573], [169.69696969696972, 0.3223963305302868], [171.71717171717174, 0.3243096786664988], [173.73737373737376, 0.3262118045291148], [175.75757575757578, 0.32810290329638225], [177.7777777777778, 0.3299831645537222], [179.79797979797982, 0.3318527725155579], [181.81818181818184, 0.3337119062359573], [183.83838383838386, 0.3355607398087716], [185.85858585858588, 0.3373994425579032], [187.8787878787879, 0.3392281792182919], [189.89898989898992, 0.34104711010816574], [191.91919191919195, 0.34285639129306755], [193.93939393939394, 0.34465617474213167], [195.95959595959596, 0.3464466084770531], [197.97979797979798, 0.3482278367141637], [200.0, 0.35]]}, \"id\": \"el82842134773263440\", \"plugins\": [{\"type\": \"reset\"}, {\"type\": \"zoom\", \"button\": true, \"enabled\": false}, {\"type\": \"boxzoom\", \"button\": true, \"enabled\": false}]});\n",
       "   }(mpld3);\n",
       "}else if(typeof define === \"function\" && define.amd){\n",
       "   // require.js is available: use it to load d3/mpld3\n",
       "   require.config({paths: {d3: \"https://mpld3.github.io/js/d3.v3.min\"}});\n",
       "   require([\"d3\"], function(d3){\n",
       "      window.d3 = d3;\n",
       "      mpld3_load_lib(\"https://mpld3.github.io/js/mpld3.v0.3.js\", function(){\n",
       "         \n",
       "         mpld3.draw_figure(\"fig_el828421347732634406174955272\", {\"width\": 432.0, \"height\": 288.0, \"axes\": [{\"bbox\": [0.125, 0.125, 0.775, 0.755], \"xlim\": [-10.0, 210.0], \"ylim\": [-0.017499999999999998, 0.3675], \"xdomain\": [-10.0, 210.0], \"ydomain\": [-0.017499999999999998, 0.3675], \"xscale\": \"linear\", \"yscale\": \"linear\", \"axes\": [{\"position\": \"bottom\", \"nticks\": 11, \"tickvalues\": null, \"tickformat\": null, \"scale\": \"linear\", \"fontsize\": 10.0, \"grid\": {\"gridOn\": true, \"color\": \"#B0B0B0\", \"dasharray\": \"none\", \"alpha\": 1.0}, \"visible\": true}, {\"position\": \"left\", \"nticks\": 10, \"tickvalues\": null, \"tickformat\": null, \"scale\": \"linear\", \"fontsize\": 10.0, \"grid\": {\"gridOn\": true, \"color\": \"#B0B0B0\", \"dasharray\": \"none\", \"alpha\": 1.0}, \"visible\": true}], \"axesbg\": \"#FFFFFF\", \"axesbgalpha\": null, \"zoomable\": true, \"id\": \"el82842134775718688\", \"lines\": [], \"paths\": [], \"markers\": [{\"data\": \"data01\", \"xindex\": 0, \"yindex\": 1, \"coordinates\": \"data\", \"id\": \"el82842134790552320pts\", \"facecolor\": \"#FF0000\", \"edgecolor\": \"#FF0000\", \"edgewidth\": 1.0, \"alpha\": 1, \"zorder\": 2, \"markerpath\": [[[-3.0, 3.0], [3.0, -3.0], [-3.0, -3.0], [3.0, 3.0]], [\"M\", \"L\", \"M\", \"L\"]]}], \"texts\": [], \"collections\": [], \"images\": [], \"sharex\": [], \"sharey\": []}], \"data\": {\"data01\": [[0.0, 0.0], [2.0202020202020203, 0.03517632353407242], [4.040404040404041, 0.0497468338163091], [6.0606060606060606, 0.06092717958449424], [8.080808080808081, 0.07035264706814484], [10.101010101010102, 0.07865665062071157], [12.121212121212121, 0.08616404368553292], [14.141414141414142, 0.09306780410870431], [16.161616161616163, 0.0994936676326182], [18.181818181818183, 0.10552897060221728], [20.202020202020204, 0.11123730207865244], [22.222222222222225, 0.11666666666666667], [24.242424242424242, 0.12185435916898849], [26.262626262626263, 0.12683003818440877], [28.282828282828284, 0.13161775079081212], [30.303030303030305, 0.13623731522826651], [32.323232323232325, 0.14070529413628968], [34.343434343434346, 0.1450356974518809], [36.36363636363637, 0.1492405014489273], [38.38383838383839, 0.1533300394903132], [40.40404040404041, 0.15731330124142315], [42.42424242424243, 0.1611981652651434], [44.44444444444445, 0.1649915822768611], [46.46464646464647, 0.1686997212789516], [48.484848484848484, 0.17232808737106584], [50.505050505050505, 0.17588161767036212], [52.525252525252526, 0.1793647601166884], [54.54545454545455, 0.18278153875348271], [56.56565656565657, 0.18613560821740863], [58.58585858585859, 0.18943029954006405], [60.60606060606061, 0.19266865889711313], [62.62626262626263, 0.19585348058838745], [64.64646464646465, 0.1989873352652364], [66.66666666666667, 0.20207259421636903], [68.68686868686869, 0.20511145036469092], [70.70707070707071, 0.2081059365036971], [72.72727272727273, 0.21105794120443455], [74.74747474747475, 0.21396922274670319], [76.76767676767678, 0.2168414213664032], [78.7878787878788, 0.21967607006129675], [80.80808080808082, 0.22247460415730488], [82.82828282828284, 0.22523836980479864], [84.84848484848486, 0.22796863154762537], [86.86868686868688, 0.23066657908563762], [88.8888888888889, 0.23333333333333334], [90.90909090909092, 0.23596995186213474], [92.92929292929294, 0.23857743380125437], [94.94949494949496, 0.24115672426155912], [96.96969696969697, 0.24370871833797697], [98.98989898989899, 0.24623426473850696], [101.01010101010101, 0.2487341690815455], [103.03030303030303, 0.25120919689784565], [105.05050505050505, 0.25366007636881754], [107.07070707070707, 0.25608750082893167], [109.0909090909091, 0.25849213105659874], [111.11111111111111, 0.2608745973749755], [113.13131313131314, 0.26323550158162423], [115.15151515151516, 0.26557541872376483], [117.17171717171718, 0.26789489873395644], [119.1919191919192, 0.27019446793939084], [121.21212121212122, 0.27247463045653303], [123.23232323232324, 0.27473586948157674], [125.25252525252526, 0.27697864848607323], [127.27272727272728, 0.27920341232611295], [129.2929292929293, 0.28141058827257937], [131.31313131313132, 0.283600586969232], [133.33333333333334, 0.2857738033247041], [135.35353535353536, 0.2879306173439018], [137.37373737373738, 0.2900713949037618], [139.3939393939394, 0.2921964884778526], [141.41414141414143, 0.2943062378138826], [143.43434343434345, 0.29640097056780257], [145.45454545454547, 0.2984810028978546], [147.4747474747475, 0.300546640021616], [149.4949494949495, 0.3025981767388174], [151.51515151515153, 0.3046358979224712], [153.53535353535355, 0.3066600789806264], [155.55555555555557, 0.3086709862908689], [157.5757575757576, 0.31066887760950807], [159.5959595959596, 0.31265400245722946], [161.61616161616163, 0.3146266024828463], [163.63636363636365, 0.31658691180665177], [165.65656565656568, 0.31853515734475285], [167.6767676767677, 0.3204715591156573], [169.69696969696972, 0.3223963305302868], [171.71717171717174, 0.3243096786664988], [173.73737373737376, 0.3262118045291148], [175.75757575757578, 0.32810290329638225], [177.7777777777778, 0.3299831645537222], [179.79797979797982, 0.3318527725155579], [181.81818181818184, 0.3337119062359573], [183.83838383838386, 0.3355607398087716], [185.85858585858588, 0.3373994425579032], [187.8787878787879, 0.3392281792182919], [189.89898989898992, 0.34104711010816574], [191.91919191919195, 0.34285639129306755], [193.93939393939394, 0.34465617474213167], [195.95959595959596, 0.3464466084770531], [197.97979797979798, 0.3482278367141637], [200.0, 0.35]]}, \"id\": \"el82842134773263440\", \"plugins\": [{\"type\": \"reset\"}, {\"type\": \"zoom\", \"button\": true, \"enabled\": false}, {\"type\": \"boxzoom\", \"button\": true, \"enabled\": false}]});\n",
       "      });\n",
       "    });\n",
       "}else{\n",
       "    // require.js not available: dynamically load d3 & mpld3\n",
       "    mpld3_load_lib(\"https://mpld3.github.io/js/d3.v3.min.js\", function(){\n",
       "         mpld3_load_lib(\"https://mpld3.github.io/js/mpld3.v0.3.js\", function(){\n",
       "                 \n",
       "                 mpld3.draw_figure(\"fig_el828421347732634406174955272\", {\"width\": 432.0, \"height\": 288.0, \"axes\": [{\"bbox\": [0.125, 0.125, 0.775, 0.755], \"xlim\": [-10.0, 210.0], \"ylim\": [-0.017499999999999998, 0.3675], \"xdomain\": [-10.0, 210.0], \"ydomain\": [-0.017499999999999998, 0.3675], \"xscale\": \"linear\", \"yscale\": \"linear\", \"axes\": [{\"position\": \"bottom\", \"nticks\": 11, \"tickvalues\": null, \"tickformat\": null, \"scale\": \"linear\", \"fontsize\": 10.0, \"grid\": {\"gridOn\": true, \"color\": \"#B0B0B0\", \"dasharray\": \"none\", \"alpha\": 1.0}, \"visible\": true}, {\"position\": \"left\", \"nticks\": 10, \"tickvalues\": null, \"tickformat\": null, \"scale\": \"linear\", \"fontsize\": 10.0, \"grid\": {\"gridOn\": true, \"color\": \"#B0B0B0\", \"dasharray\": \"none\", \"alpha\": 1.0}, \"visible\": true}], \"axesbg\": \"#FFFFFF\", \"axesbgalpha\": null, \"zoomable\": true, \"id\": \"el82842134775718688\", \"lines\": [], \"paths\": [], \"markers\": [{\"data\": \"data01\", \"xindex\": 0, \"yindex\": 1, \"coordinates\": \"data\", \"id\": \"el82842134790552320pts\", \"facecolor\": \"#FF0000\", \"edgecolor\": \"#FF0000\", \"edgewidth\": 1.0, \"alpha\": 1, \"zorder\": 2, \"markerpath\": [[[-3.0, 3.0], [3.0, -3.0], [-3.0, -3.0], [3.0, 3.0]], [\"M\", \"L\", \"M\", \"L\"]]}], \"texts\": [], \"collections\": [], \"images\": [], \"sharex\": [], \"sharey\": []}], \"data\": {\"data01\": [[0.0, 0.0], [2.0202020202020203, 0.03517632353407242], [4.040404040404041, 0.0497468338163091], [6.0606060606060606, 0.06092717958449424], [8.080808080808081, 0.07035264706814484], [10.101010101010102, 0.07865665062071157], [12.121212121212121, 0.08616404368553292], [14.141414141414142, 0.09306780410870431], [16.161616161616163, 0.0994936676326182], [18.181818181818183, 0.10552897060221728], [20.202020202020204, 0.11123730207865244], [22.222222222222225, 0.11666666666666667], [24.242424242424242, 0.12185435916898849], [26.262626262626263, 0.12683003818440877], [28.282828282828284, 0.13161775079081212], [30.303030303030305, 0.13623731522826651], [32.323232323232325, 0.14070529413628968], [34.343434343434346, 0.1450356974518809], [36.36363636363637, 0.1492405014489273], [38.38383838383839, 0.1533300394903132], [40.40404040404041, 0.15731330124142315], [42.42424242424243, 0.1611981652651434], [44.44444444444445, 0.1649915822768611], [46.46464646464647, 0.1686997212789516], [48.484848484848484, 0.17232808737106584], [50.505050505050505, 0.17588161767036212], [52.525252525252526, 0.1793647601166884], [54.54545454545455, 0.18278153875348271], [56.56565656565657, 0.18613560821740863], [58.58585858585859, 0.18943029954006405], [60.60606060606061, 0.19266865889711313], [62.62626262626263, 0.19585348058838745], [64.64646464646465, 0.1989873352652364], [66.66666666666667, 0.20207259421636903], [68.68686868686869, 0.20511145036469092], [70.70707070707071, 0.2081059365036971], [72.72727272727273, 0.21105794120443455], [74.74747474747475, 0.21396922274670319], [76.76767676767678, 0.2168414213664032], [78.7878787878788, 0.21967607006129675], [80.80808080808082, 0.22247460415730488], [82.82828282828284, 0.22523836980479864], [84.84848484848486, 0.22796863154762537], [86.86868686868688, 0.23066657908563762], [88.8888888888889, 0.23333333333333334], [90.90909090909092, 0.23596995186213474], [92.92929292929294, 0.23857743380125437], [94.94949494949496, 0.24115672426155912], [96.96969696969697, 0.24370871833797697], [98.98989898989899, 0.24623426473850696], [101.01010101010101, 0.2487341690815455], [103.03030303030303, 0.25120919689784565], [105.05050505050505, 0.25366007636881754], [107.07070707070707, 0.25608750082893167], [109.0909090909091, 0.25849213105659874], [111.11111111111111, 0.2608745973749755], [113.13131313131314, 0.26323550158162423], [115.15151515151516, 0.26557541872376483], [117.17171717171718, 0.26789489873395644], [119.1919191919192, 0.27019446793939084], [121.21212121212122, 0.27247463045653303], [123.23232323232324, 0.27473586948157674], [125.25252525252526, 0.27697864848607323], [127.27272727272728, 0.27920341232611295], [129.2929292929293, 0.28141058827257937], [131.31313131313132, 0.283600586969232], [133.33333333333334, 0.2857738033247041], [135.35353535353536, 0.2879306173439018], [137.37373737373738, 0.2900713949037618], [139.3939393939394, 0.2921964884778526], [141.41414141414143, 0.2943062378138826], [143.43434343434345, 0.29640097056780257], [145.45454545454547, 0.2984810028978546], [147.4747474747475, 0.300546640021616], [149.4949494949495, 0.3025981767388174], [151.51515151515153, 0.3046358979224712], [153.53535353535355, 0.3066600789806264], [155.55555555555557, 0.3086709862908689], [157.5757575757576, 0.31066887760950807], [159.5959595959596, 0.31265400245722946], [161.61616161616163, 0.3146266024828463], [163.63636363636365, 0.31658691180665177], [165.65656565656568, 0.31853515734475285], [167.6767676767677, 0.3204715591156573], [169.69696969696972, 0.3223963305302868], [171.71717171717174, 0.3243096786664988], [173.73737373737376, 0.3262118045291148], [175.75757575757578, 0.32810290329638225], [177.7777777777778, 0.3299831645537222], [179.79797979797982, 0.3318527725155579], [181.81818181818184, 0.3337119062359573], [183.83838383838386, 0.3355607398087716], [185.85858585858588, 0.3373994425579032], [187.8787878787879, 0.3392281792182919], [189.89898989898992, 0.34104711010816574], [191.91919191919195, 0.34285639129306755], [193.93939393939394, 0.34465617474213167], [195.95959595959596, 0.3464466084770531], [197.97979797979798, 0.3482278367141637], [200.0, 0.35]]}, \"id\": \"el82842134773263440\", \"plugins\": [{\"type\": \"reset\"}, {\"type\": \"zoom\", \"button\": true, \"enabled\": false}, {\"type\": \"boxzoom\", \"button\": true, \"enabled\": false}]});\n",
       "            })\n",
       "         });\n",
       "}\n",
       "</script>"
      ],
      "text/plain": [
       "<Figure size 432x288 with 1 Axes>"
      ]
     },
     "metadata": {},
     "output_type": "display_data"
    }
   ],
   "source": [
    "p = np.linspace(0, Prated, 100)\n",
    "d=sqrt( p*2*L/(E1*(E1-E2)*T) )\n",
    "mpld3.enable_notebook()\n",
    "plt.grid()\n",
    "plt.plot(p,d,'rx')"
   ]
  },
  {
   "cell_type": "markdown",
   "metadata": {},
   "source": [
    "### Output Capacitance\n",
    "#### 1) The maximum allowed output voltage ripple is usually given\n",
    "#### 2) In DC Steady State the dc component of the current trough the capacitor is zero\n",
    "#### 3) The Capacitance can be defined form the capacitor current waveform"
   ]
  },
  {
   "cell_type": "markdown",
   "metadata": {},
   "source": [
    "### Frequency domain approach\n",
    "##### For a given frequency componant of current through the capacitor the corresponding voltage is found as\n",
    "$${V_{ac}} =  - j{X_c}{I_{ac}}$$\n",
    "#### and their magnitude can be expressed as\n",
    "$$\\left| {{V_{ac}}} \\right| = {X_c}\\left| {{I_{ac}}} \\right|$$\n",
    "#### where\n",
    "$${X_c} = \\frac{1}{{2\\pi fC}}$$\n",
    "#### and $f$ is the frenquency of the consired frequency component\n"
   ]
  },
  {
   "cell_type": "markdown",
   "metadata": {},
   "source": [
    "Example 1"
   ]
  },
  {
   "cell_type": "code",
   "execution_count": 8,
   "metadata": {},
   "outputs": [
    {
     "name": "stdout",
     "output_type": "stream",
     "text": [
      "C= 10.0 uF\n"
     ]
    }
   ],
   "source": [
    "C=10*10**-6\n",
    "print( 'C=',C*1000000, 'uF')"
   ]
  },
  {
   "cell_type": "markdown",
   "metadata": {},
   "source": [
    "then"
   ]
  },
  {
   "cell_type": "code",
   "execution_count": 9,
   "metadata": {},
   "outputs": [
    {
     "name": "stdout",
     "output_type": "stream",
     "text": [
      "Xc= 0.15915494309189537 ohms\n"
     ]
    }
   ],
   "source": [
    "Xc=1/(2*pi*fsw*C)\n",
    "print ( 'Xc=',Xc, 'ohms')"
   ]
  },
  {
   "cell_type": "markdown",
   "metadata": {},
   "source": [
    "From the simulation it is possible to find the amplitude of the current component @fsw through the capacitor"
   ]
  },
  {
   "cell_type": "code",
   "execution_count": 10,
   "metadata": {},
   "outputs": [
    {
     "name": "stdout",
     "output_type": "stream",
     "text": [
      "Iac= 1.68 A @ 100.0 kHz\n"
     ]
    }
   ],
   "source": [
    "Iac=1.68\n",
    "print( 'Iac=',Iac,'A @',fsw/1000,'kHz')"
   ]
  },
  {
   "cell_type": "markdown",
   "metadata": {},
   "source": [
    "Then the peak to peak ac component of the capacitor voltage is: "
   ]
  },
  {
   "cell_type": "code",
   "execution_count": 11,
   "metadata": {},
   "outputs": [
    {
     "name": "stdout",
     "output_type": "stream",
     "text": [
      "Vca_p2p= 0.5347606087887684 V @ 100.0 kHz\n"
     ]
    }
   ],
   "source": [
    "Vca_p2p=Xc*Iac*2\n",
    "print ( 'Vca_p2p=',Vca_p2p,'V @',fsw/1000,'kHz')"
   ]
  },
  {
   "cell_type": "markdown",
   "metadata": {},
   "source": [
    "The voltage ripple as a percetage of the output dc component is"
   ]
  },
  {
   "cell_type": "markdown",
   "metadata": {},
   "source": []
  },
  {
   "cell_type": "code",
   "execution_count": 12,
   "metadata": {},
   "outputs": [
    {
     "name": "stdout",
     "output_type": "stream",
     "text": [
      "The peak to peak voltage ripple = 0.445633840657307 %\n"
     ]
    }
   ],
   "source": [
    "Ripple=Vca_p2p/E2*100\n",
    "print ( 'The peak to peak voltage ripple =', Ripple,'%')"
   ]
  },
  {
   "cell_type": "markdown",
   "metadata": {},
   "source": [
    "Example 2"
   ]
  },
  {
   "cell_type": "markdown",
   "metadata": {},
   "source": [
    "Let us consider in the above example that the maximum allowed ripple is "
   ]
  },
  {
   "cell_type": "code",
   "execution_count": 13,
   "metadata": {},
   "outputs": [
    {
     "name": "stdout",
     "output_type": "stream",
     "text": [
      "Maximum allowed output capacitor voltage ripple = 1 %\n"
     ]
    }
   ],
   "source": [
    "Ripple=1\n",
    "print ( 'Maximum allowed output capacitor voltage ripple =',Ripple,'%')"
   ]
  },
  {
   "cell_type": "code",
   "execution_count": 14,
   "metadata": {},
   "outputs": [
    {
     "name": "stdout",
     "output_type": "stream",
     "text": [
      "Maximum allowed output capacitor voltage ripple = 1.2 V peak to peak\n"
     ]
    }
   ],
   "source": [
    "Vca_p2p=Ripple/100*E2\n",
    "print ( 'Maximum allowed output capacitor voltage ripple =',Vca_p2p,'V peak to peak')"
   ]
  },
  {
   "cell_type": "markdown",
   "metadata": {},
   "source": [
    "From the simulation, file buck_dcm_0.psimsch, it is possible to find that capacitor current component at fsw using the FFT fuction, that is:\n"
   ]
  },
  {
   "cell_type": "code",
   "execution_count": 15,
   "metadata": {},
   "outputs": [],
   "source": [
    "Iac=1.68"
   ]
  },
  {
   "cell_type": "markdown",
   "metadata": {},
   "source": [
    "Therefore"
   ]
  },
  {
   "cell_type": "code",
   "execution_count": 16,
   "metadata": {},
   "outputs": [
    {
     "name": "stdout",
     "output_type": "stream",
     "text": [
      "Xc= 0.35714285714285715 ohms\n"
     ]
    }
   ],
   "source": [
    "Xc=Vca_p2p/(2*Iac)\n",
    "print ( 'Xc=',Xc, 'ohms')"
   ]
  },
  {
   "cell_type": "code",
   "execution_count": 17,
   "metadata": {},
   "outputs": [
    {
     "name": "stdout",
     "output_type": "stream",
     "text": [
      " C= 4.45633840657307 uF\n"
     ]
    }
   ],
   "source": [
    "C=1/(2*pi*fsw*Xc)\n",
    "print ( ' C=', C*10**6, 'uF')"
   ]
  },
  {
   "cell_type": "markdown",
   "metadata": {},
   "source": [
    "## Output capacitor current component by means of Fourier Series"
   ]
  },
  {
   "cell_type": "code",
   "execution_count": null,
   "metadata": {},
   "outputs": [],
   "source": []
  },
  {
   "cell_type": "markdown",
   "metadata": {},
   "source": [
    "For a buck opeating in DCM the current through the output capacitor is:\n",
    "\n",
    "$$i_{ac}(t) = \\left\\{ {\\begin{array}{*{20}{c}}\n",
    "{ - {I_{av}} + \\frac{{({E_1} - {E_2})}}{L}t}&{for}&{0 \\le t \\le dT}\\\\\n",
    "{( - {I_{av}} + \\frac{{({E_1} - {E_2})}}{L}dT) - \\frac{{{E_2}}}{L}(t - dT)}&{for}&{dT \\le t \\le {t_1}}\\\\\n",
    "{ - {I_{av}}}&{for}&{{\\rm{ }}{t_1} \\le t \\le T}\n",
    "\\end{array}} \\right.$$\n",
    "\n",
    "where\n",
    "\n",
    "$${I_{av}} = \\frac{{{P_{rated}}}}{{{E_2}}}$$\n",
    "\n",
    "and\n",
    "\n",
    "$${t_1} = \\frac{{{E_1}}}{{{E_2}}}dT$$"
   ]
  },
  {
   "cell_type": "code",
   "execution_count": 18,
   "metadata": {},
   "outputs": [],
   "source": [
    "d=0.35\n",
    "Iav=Prated/E2\n",
    "t1=E1/E2*d*T\n",
    "t=sp.symbols('t')\n",
    "ia_s1=-Iav+(E1-E2)/L*t\n",
    "ia_s1\n",
    "ia_s2=ia_s1.subs(t,d*T)-E2/L*(t-d*T)\n",
    "ia_s2\n",
    "ia_s3=-Iav"
   ]
  },
  {
   "cell_type": "markdown",
   "metadata": {},
   "source": [
    "Since $i_{ac}$ is periodic with period $T$, its harmonic component can be obtained from the Fourier Series"
   ]
  },
  {
   "cell_type": "markdown",
   "metadata": {},
   "source": [
    "The hamonic component at $f_{sw}$ is:\n",
    "$${I_{ac}} = \\sqrt {{{({I_{ac\\_\\cos }})}^2} + {{({I_{ac\\_\\sin }})}^2}} $$\n",
    "\n",
    "where\n",
    "$$\\begin{array}{l}\n",
    "{I_{ac\\_\\cos }} = \\frac{2}{T}\\int_0^T {{i_{ac}}} (t)\\cos (\\frac{{2\\pi }}{T}t)dt\\\\\n",
    "{I_{ac\\_\\sin }} = \\frac{2}{T}\\int_0^T {{i_{ac}}} (t)\\sin (\\frac{{2\\pi }}{T}t)dt\n",
    "\\end{array}$$"
   ]
  },
  {
   "cell_type": "code",
   "execution_count": 19,
   "metadata": {},
   "outputs": [
    {
     "name": "stdout",
     "output_type": "stream",
     "text": [
      "Iac= 1.68330076223817 A  @ 100.0 kHz\n"
     ]
    }
   ],
   "source": [
    "Iac_cos1=2/T*( sp.integrate(ia_s1*sp.cos(2*pi/T*t),(t,0,d*T) ) )\n",
    "Iac_cos2=2/T*( sp.integrate(ia_s2*sp.cos(2*pi/T*t),(t,d*T,t1)) )\n",
    "Iac_cos3=2/T*( sp.integrate(ia_s3*sp.cos(2*pi/T*t),(t,t1,T ) ) ) \n",
    "Iac_cos=Iac_cos1+Iac_cos2+Iac_cos3\n",
    "\n",
    "Iac_sin1=2/T*( sp.integrate(ia_s1*sp.sin(2*pi/T*t),(t,0,d*T) ) )\n",
    "Iac_sin2=2/T*( sp.integrate(ia_s2*sp.sin(2*pi/T*t),(t,d*T,t1)) )\n",
    "Iac_sin3=2/T*( sp.integrate(ia_s3*sp.sin(2*pi/T*t),(t,t1,T ) ) ) \n",
    "Iac_sin=Iac_sin1+Iac_sin2+Iac_sin3\n",
    "Iac=sp.sqrt(Iac_sin**2+Iac_cos**2)\n",
    "print( 'Iac=', Iac, 'A  @',fsw/1000,'kHz')"
   ]
  },
  {
   "cell_type": "markdown",
   "metadata": {},
   "source": [
    "### Lets us find the amplitude of the output voltage ripple peak to peak  in time domain"
   ]
  },
  {
   "cell_type": "markdown",
   "metadata": {},
   "source": [
    "$${v_c} = C\\frac{{d{i_c}}}{{dt}}$$\n",
    "or\n",
    "$${v_c}(t) = {v_c}({t_o}) + \\int_{{t_o}}^t {{i_c}(t)dt}$$"
   ]
  },
  {
   "cell_type": "markdown",
   "metadata": {},
   "source": [
    "Let $t_0$ be the time instant when the capacitor current transiton from negative to positive \n",
    "and $t_2$ be the time instant when the capaticor current transition from positive to nevative within the periot T\n",
    "\n",
    "$$\\begin{array}{l}\n",
    "{v_c}({t_2}) - {v_c}({t_o}) = \\Delta V = C\\int_{{t_o}}^{{t_2}} {{i_c}(t)dt} \\\\\n",
    "\\Delta Q = \\int_{{t_o}}^{{t_2}} {{i_c}(t)dt} \\\\\n",
    "\\Delta Q = C\\Delta V\n",
    "\\end{array}$$"
   ]
  },
  {
   "cell_type": "markdown",
   "metadata": {},
   "source": [
    "First let us find $t_0$ by soving the equation that governs the capcitor current, that is:\n",
    "$$ { - {I_{av}} + \\frac{{({E_1} - {E_2})}}{L}t_0}=0$$\n",
    "\n"
   ]
  },
  {
   "cell_type": "code",
   "execution_count": 20,
   "metadata": {
    "scrolled": true
   },
   "outputs": [
    {
     "name": "stdout",
     "output_type": "stream",
     "text": [
      "1.53125 us\n"
     ]
    }
   ],
   "source": [
    "t0=Iav*L/(E1-E2)\n",
    "print( t0*10**6 ,'us')"
   ]
  },
  {
   "cell_type": "markdown",
   "metadata": {},
   "source": [
    "First let us find $t_2$ by soving the equation that governs the capcitor current in the second stage, that is: \n",
    "$${( - {I_{av}} + \\frac{{({E_1} - {E_2})}}{L}dT) - \\frac{{{E_2}}}{L}(t_2 - dT)=0}$$"
   ]
  },
  {
   "cell_type": "code",
   "execution_count": 21,
   "metadata": {},
   "outputs": [
    {
     "name": "stdout",
     "output_type": "stream",
     "text": [
      "6.453125 us\n"
     ]
    }
   ],
   "source": [
    "t2=(-Iav+(E1-E2)/L*d*T)*L/E2+d*T\n",
    "print( t2*10**6 ,'us')"
   ]
  },
  {
   "cell_type": "code",
   "execution_count": 22,
   "metadata": {},
   "outputs": [
    {
     "name": "stdout",
     "output_type": "stream",
     "text": [
      "Ripple peak to peak = 1.18335660779749 V\n",
      "Ripple = 0.986130506497912 %\n"
     ]
    }
   ],
   "source": [
    "Delta_Q=( sp.integrate(ia_s1,(t,t0,d*T)) + sp.integrate(ia_s2,(t,d*T,t2)) )\n",
    "Delta_V=Delta_Q/C\n",
    "print ( 'Ripple peak to peak =',Delta_V,'V')\n",
    "print ( 'Ripple =',Delta_V/E2*100,'%')"
   ]
  },
  {
   "cell_type": "markdown",
   "metadata": {},
   "source": [
    "## Input Filter Design"
   ]
  },
  {
   "cell_type": "markdown",
   "metadata": {},
   "source": [
    "#### The second order LC input filter is used to attenuate the current harmonics drawn by the converter from the input. The design procedure considered has three steps. \n",
    "          1) First the capacitor is selected to keep the ac component of t the voltage across the capacitor smaller then a predefiend value\n",
    "          2) Then, the inductor is selected to make the input current \n",
    "          3) The damping resistor is design "
   ]
  },
  {
   "cell_type": "markdown",
   "metadata": {},
   "source": [
    "The ac current drawn by the Buck converter, in DCM, from the input source is:\n",
    "\n",
    "$${i_{ac E1}} = \\left\\{ {\\begin{array}{*{20}{c}}\n",
    "{ - {I_{av1}} + \\frac{{({E_1} - {E_2})}}{L}t}&{0 \\le t \\le dT}\\\\\n",
    "{ - {I_{av1}}}&{dT \\le t \\le T}\n",
    "\\end{array}} \\right.$$\n",
    "\n",
    "where\n",
    "\n",
    "$${I_{av1}} = \\frac{{{P_{rated}}}}{{{E_1}}}$$"
   ]
  },
  {
   "cell_type": "markdown",
   "metadata": {},
   "source": [
    " Let us assume that this ac current circulates interely through the input filter capacitor, $C_1$, then, it possible to compute the resulting ac voltage across the input capacitor.\n",
    " \n",
    "$${i_{c1}} = {i_{acE1}}$$\n",
    "\n",
    "$$\\begin{array}{l}\n",
    "{v_{c1}}({dT}) - {v_{c1}}({t_3}) = \\Delta V_{c1} = C_{in}\\int_{{t_3}}^{{dT}} {{i_{c1}}(t)dt} \\\\\n",
    "\\Delta Q_{c1} = \\int_{{t_3}}^{{dT}} {{i_{c1}}(t)dt} \\\\\n",
    "\\Delta Q_{c1} = C_{in}\\Delta V_{c1}\n",
    "\\end{array}$$\n",
    "\n",
    "where $t_3$ id the instant when the input capacitor current, ${i_{c1}}$, crosses zero within the first stage of operation, therefore\n",
    "\n",
    "$${t_3} = \\frac{{{I_{av1}}L}}{{({E_1} - {E_2})}}$$"
   ]
  },
  {
   "cell_type": "code",
   "execution_count": 23,
   "metadata": {},
   "outputs": [
    {
     "name": "stdout",
     "output_type": "stream",
     "text": [
      "Average current drawn from the input, Iav1= 0.6666666666666666 A\n"
     ]
    }
   ],
   "source": [
    "Iav1=Prated/E1\n",
    "print ('Average current drawn from the input, Iav1=', Iav1,'A')"
   ]
  },
  {
   "cell_type": "code",
   "execution_count": 24,
   "metadata": {},
   "outputs": [
    {
     "name": "stdout",
     "output_type": "stream",
     "text": [
      "t3= 0.6124999999999999 us\n"
     ]
    }
   ],
   "source": [
    "t3=Iav1*L/(E1-E2)\n",
    "print ( 't3=',t3*10**6,'us')"
   ]
  },
  {
   "cell_type": "code",
   "execution_count": 25,
   "metadata": {},
   "outputs": [
    {
     "data": {
      "image/png": "[encoded data removed]",
      "text/latex": [
       "$$1088435.37414966 t - 0.666666666666667$$"
      ],
      "text/plain": [
       "1088435.37414966⋅t - 0.666666666666667"
      ]
     },
     "execution_count": 25,
     "metadata": {},
     "output_type": "execute_result"
    }
   ],
   "source": [
    "ic1_1=-Iav1+(E1-E2)/L*t;\n",
    "ic1_1"
   ]
  },
  {
   "cell_type": "code",
   "execution_count": 26,
   "metadata": {},
   "outputs": [
    {
     "name": "stdout",
     "output_type": "stream",
     "text": [
      " DelatQ= 4.53750000000000 uC\n"
     ]
    }
   ],
   "source": [
    "DeltaQ1=sp.integrate(ic1_1,(t,t3,d*T))\n",
    "print(' DelatQ=',DeltaQ1*10**6,'uC')"
   ]
  },
  {
   "cell_type": "markdown",
   "metadata": {},
   "source": [
    "Now, for a given specification of input capacitor voltage rippple it is possible to compute $C_1$, for example "
   ]
  },
  {
   "cell_type": "code",
   "execution_count": 27,
   "metadata": {},
   "outputs": [
    {
     "name": "stdout",
     "output_type": "stream",
     "text": [
      "Vac1_p2p = 15.0 V\n"
     ]
    }
   ],
   "source": [
    "Ripple_v1=5 \n",
    "Vac1_p2p=Ripple_v1/100*E1\n",
    "print ( 'Vac1_p2p =',Vac1_p2p,'V')"
   ]
  },
  {
   "cell_type": "markdown",
   "metadata": {},
   "source": [
    "The capacitance required to make the voltage ripple at this value is:"
   ]
  },
  {
   "cell_type": "code",
   "execution_count": 28,
   "metadata": {},
   "outputs": [
    {
     "name": "stdout",
     "output_type": "stream",
     "text": [
      " Cin= 0.302500000000000 uF\n"
     ]
    }
   ],
   "source": [
    "Cin=DeltaQ1/Vac1_p2p\n",
    "print (' Cin=',Cin*10**6,'uF')"
   ]
  },
  {
   "cell_type": "code",
   "execution_count": null,
   "metadata": {},
   "outputs": [],
   "source": []
  },
  {
   "cell_type": "markdown",
   "metadata": {},
   "source": [
    "Now, let us define the inductor of the input filter. In order to simplify the design it is reasable to assume that $V_{ac1 p2p}$ is harmonic amplitude at the frequency $f_{sw}$. This alternate component will result in a current ripple at the input of the following amplitude:\n",
    "\n",
    "$${I_{Lin\\_ac}} = \\frac{{{V_{ac1\\_p2p}}}}{{{X_L}}} = \\frac{{{V_{ac1\\_p2p}}}}{{\\frac{{2\\pi }}{T}L}}$$\n",
    "\n",
    "As a result, for a given ${I_{Lin\\_ac}}$ the inductance of the inductor can be computed as:\n",
    "\n",
    "$$L_{in} = \\frac{{{V_{ac1\\_p2p}}}}{{\\frac{{2\\pi }}{T}{I_{Lin\\_ac}}}}$$"
   ]
  },
  {
   "cell_type": "markdown",
   "metadata": {},
   "source": [
    "If the acceptable input current ripple is given, then:\n",
    "$$L_{in} = \\frac{{{V_{ac1\\_p2p}}}}{{\\frac{{2\\pi }}{T}\\frac{{Ripple\\_Iin}}{{100}}{I_{av1}}}}$$"
   ]
  },
  {
   "cell_type": "code",
   "execution_count": 29,
   "metadata": {},
   "outputs": [
    {
     "name": "stdout",
     "output_type": "stream",
     "text": [
      "Lin= 0.716197243913529 mH\n"
     ]
    }
   ],
   "source": [
    "Ripple_Iin=5\n",
    "Lin=Vac1_p2p/(2*pi/T*Ripple_Iin/100*Iav1)\n",
    "print('Lin=',Lin*1000,'mH')"
   ]
  },
  {
   "cell_type": "markdown",
   "metadata": {},
   "source": [
    "The resonant frenquency of the input filter is "
   ]
  },
  {
   "cell_type": "code",
   "execution_count": 35,
   "metadata": {},
   "outputs": [
    {
     "name": "stdout",
     "output_type": "stream",
     "text": [
      "Input filter resonant frequency 10.8128734312289 kHz\n"
     ]
    }
   ],
   "source": [
    "print('Input filter resonant frequency',sp.sqrt(1/(Lin*Cin))/2/pi/1000,'kHz')"
   ]
  },
  {
   "cell_type": "code",
   "execution_count": null,
   "metadata": {},
   "outputs": [],
   "source": []
  }
 ],
 "metadata": {
  "kernelspec": {
   "display_name": "Python 3",
   "language": "python",
   "name": "python3"
  },
  "language_info": {
   "codemirror_mode": {
    "name": "ipython",
    "version": 3
   },
   "file_extension": ".py",
   "mimetype": "text/x-python",
   "name": "python",
   "nbconvert_exporter": "python",
   "pygments_lexer": "ipython3",
   "version": "3.6.5"
  }
 },
 "nbformat": 4,
 "nbformat_minor": 2
}
