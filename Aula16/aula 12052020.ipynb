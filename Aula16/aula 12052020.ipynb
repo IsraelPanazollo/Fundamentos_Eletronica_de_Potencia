{
 "cells": [
  {
   "cell_type": "markdown",
   "metadata": {},
   "source": [
    "# DPEE 1072\n",
    "### Boost in CCM with Inductor Design\n",
    "#### Prof. Humberto Pinheiro,Ph.D."
   ]
  },
  {
   "cell_type": "code",
   "execution_count": 13,
   "metadata": {},
   "outputs": [
    {
     "ename": "ModuleNotFoundError",
     "evalue": "No module named 'mpld3'",
     "output_type": "error",
     "traceback": [
      "\u001b[1;31m---------------------------------------------------------------------------\u001b[0m",
      "\u001b[1;31mModuleNotFoundError\u001b[0m                       Traceback (most recent call last)",
      "\u001b[1;32m<ipython-input-13-6f38214a1ce8>\u001b[0m in \u001b[0;36m<module>\u001b[1;34m\u001b[0m\n\u001b[0;32m      4\u001b[0m \u001b[1;32mfrom\u001b[0m \u001b[0mscipy\u001b[0m\u001b[1;33m.\u001b[0m\u001b[0mlinalg\u001b[0m \u001b[1;32mimport\u001b[0m \u001b[0mblock_diag\u001b[0m\u001b[1;33m\u001b[0m\u001b[1;33m\u001b[0m\u001b[0m\n\u001b[0;32m      5\u001b[0m \u001b[1;32mimport\u001b[0m \u001b[0mmatplotlib\u001b[0m\u001b[1;33m.\u001b[0m\u001b[0mpyplot\u001b[0m \u001b[1;32mas\u001b[0m \u001b[0mplt\u001b[0m\u001b[1;33m\u001b[0m\u001b[1;33m\u001b[0m\u001b[0m\n\u001b[1;32m----> 6\u001b[1;33m \u001b[1;32mimport\u001b[0m \u001b[0mmpld3\u001b[0m\u001b[1;33m\u001b[0m\u001b[1;33m\u001b[0m\u001b[0m\n\u001b[0m\u001b[0;32m      7\u001b[0m \u001b[1;32mimport\u001b[0m \u001b[0mmath\u001b[0m \u001b[1;32mas\u001b[0m \u001b[0mm\u001b[0m\u001b[1;33m\u001b[0m\u001b[1;33m\u001b[0m\u001b[0m\n\u001b[0;32m      8\u001b[0m \u001b[1;32mimport\u001b[0m \u001b[0mcmath\u001b[0m\u001b[1;33m\u001b[0m\u001b[1;33m\u001b[0m\u001b[0m\n",
      "\u001b[1;31mModuleNotFoundError\u001b[0m: No module named 'mpld3'"
     ]
    }
   ],
   "source": [
    "import numpy as np\n",
    "from numpy import pi\n",
    "from scipy import sqrt, exp, cos, matrix, vstack, hstack, zeros\n",
    "from scipy.linalg import block_diag\n",
    "import matplotlib.pyplot as plt\n",
    "import mpld3\n",
    "import math as m\n",
    "import cmath\n",
    "import sympy as sp\n",
    "sp.init_printing()"
   ]
  },
  {
   "cell_type": "markdown",
   "metadata": {},
   "source": [
    "![Boostin CCM](img/boost_000.png)\n",
    "\n",
    "## Input Data"
   ]
  },
  {
   "cell_type": "code",
   "execution_count": null,
   "metadata": {},
   "outputs": [],
   "source": [
    "Prated=200\n",
    "E1=200\n",
    "E2=400  \n",
    "fsw=100000\n",
    " \n",
    "\n",
    "T=1/fsw\n",
    "print ( ' fsw=', fsw/1000,'kHz')\n",
    "print ( ' T=', T*10**6,'us')"
   ]
  },
  {
   "cell_type": "code",
   "execution_count": null,
   "metadata": {},
   "outputs": [],
   "source": [
    "d=0.4\n",
    "t1=np.linspace(0,2*T,1000)\n",
    "ts1=t1<d*T\n",
    "ts2=(t1>=d*T)*(t1<T)\n",
    "ts3=(t1>T)*(t1<(d*T+T))\n",
    "ts4=(t1>T)*(t1>(d*T+T))\n",
    "vag=1*ts1+0*ts2+1*ts3+0*ts4\n",
    "mpld3.enable_notebook()\n",
    "plt.grid()\n",
    "plt.plot(t1*10**6,15*vag,'r')\n",
    "plt.xlabel('t (us)')\n",
    "plt.ylabel('vgs (V)' )\n",
    "plt.title('MOSFET gate source voltage')"
   ]
  },
  {
   "cell_type": "markdown",
   "metadata": {},
   "source": [
    "In CCM the boost conveter has two stages of operation that are described bellow. \n",
    "\n",
    "## Stage 1            \n",
    "The first stage lasts for $0 \\le t \\le dT$. The voltage $v_{gs}=15V$, the MOSFET conducts, and  the equivalent circuit is, :\n",
    "![Buck in CCM. Equivalente circuit for the stage 1](img/boost_stage1.png)\n",
    "\n",
    "\n",
    "In this stage $ v_{gs}=15V$ and the MOSFET is on.\n",
    "From the KVL one has:\n",
    "\n",
    "${v_L} = L\\frac{{di_L}}{{dt}} = {E_1}$           \n",
    "\n",
    "without losing generatily let us assume that \n",
    "\n",
    "${i_L}(0) = {I_m} \\ge 0$ \n",
    "\n",
    "By soving the diferential equation results:\n",
    "\n",
    "\n",
    "${i_L}(t) = I_m + \\frac{E_1}{L}t{\\rm{ }}$\n",
    "\n",
    "for any $0 \\le t \\le dT$.\n",
    "\n",
    "At the end of this stage when $t=dT$ the inductor current is at its peak, that is:\n",
    "\n",
    "${i_L}(dT) = {I_m} + \\frac{{{E_1}}}{L}dT{\\rm{ }}$\n",
    "\n",
    "Let us name the peak value of the inductor current $I_M$, therefore\n",
    "\n",
    "${i_L}(dT)={I_M} = {I_m} + \\frac{{{E_1}}}{L}dT{\\rm{ }}$\n",
    "\n",
    "or \n",
    "\n",
    "${I_M} - {I_m} = \\Delta I = {\\rm{ }}\\frac{{{E_1}}}{L}dT{\\rm{  }}$\n",
    "\n",
    "\n",
    "In addtion the voltage across the diode is:\n",
    "\n",
    "$v_{ak}=-E_2$\n",
    "\n",
    "\n"
   ]
  },
  {
   "cell_type": "markdown",
   "metadata": {},
   "source": [
    "\n",
    "## Stage 2            \n",
    "This stage last for $dT \\le t \\le T$ and the equivalent circuit is:\n",
    "![Stage 2 - Equivalent circuit for the Boost converter operating in CCM](img/boost_stage2.png)\n",
    "\n",
    "\n",
    "Once again, from the KVL one has:\n",
    "\n",
    "${v_L} = L\\frac{{di_L}}{{dt}} = {E_1- E_2}$   \n",
    "\n",
    "with \n",
    "${i_L}(dT) = {I_M} \\ge 0$ \n",
    "\n",
    "By soving the diferential equation results:\n",
    "\n",
    "${i_L}(t) = {I_M} + \\frac{{ E_1- {E_2}}}{L}(t-dT){\\rm{ }}$\n",
    "\n",
    "for any $dT \\le t \\le T$.\n",
    "\n",
    "\n",
    "\n",
    "For operation in steady state in CCM the following equality must be satisfied\n",
    "\n",
    "${i_L}(T)=I_m$\n",
    "\n",
    "\n",
    "therefore,\n",
    "\n",
    "${i_L}(T)={I_m} = {I_M} + \\frac{{E_1 - {E_2}}}{L}(1-d)T{\\rm{ }}$\n",
    "\n",
    "or\n",
    "\n",
    "$\\Delta I = {\\rm{ }}\\frac{{{E_2-E_1}}}{L}(1 - d)T{\\rm{  }}$\n",
    "\n",
    "\n",
    "Now by equating the equation of the $\\Delta I$ obtained in satge 1 and 2 we have\n",
    "\n",
    "${\\rm{ }}\\frac{{{E_1}}}{L}dT{\\rm{  }}=\\Delta I = {\\rm{ }}\\frac{{{E_2-E_1}}}{L}(1 - d)T{\\rm{  }}$\n",
    "\n",
    "By simplifing the above equation results in the relation between the input and output voltage of the boost converter operating in CCM, or the voltage gain:\n",
    "\n",
    "$$\\frac{1}{1-d} = \\frac{{{E_2}}}{{{E_1}}}$$\n",
    "\n",
    "This means that for operation in steady state in CCM the above equation must be satisfied!\n",
    "\n",
    "Therefore for CCM \n",
    "\n",
    "$\\Delta I = {\\rm{ }}\\frac{{({E_2-E_1})E_1T}}{E_2L}{\\rm{  }}$\n",
    "\n",
    "Finally the voltage across the MOSFET is:\n",
    "\n",
    "$v_{DS}=E_2$"
   ]
  },
  {
   "cell_type": "code",
   "execution_count": null,
   "metadata": {},
   "outputs": [],
   "source": [
    "d = np.linspace(0, 0.9, 100)\n",
    "gain=1/(1-d)\n",
    "mpld3.enable_notebook()\n",
    "plt.grid()\n",
    "plt.plot(d,gain,'r.')\n",
    "plt.xlabel('d')\n",
    "plt.ylabel('E2 / E1')\n",
    "plt.title('Boost in CCM gain')"
   ]
  },
  {
   "cell_type": "markdown",
   "metadata": {},
   "source": [
    "## Desiging \n",
    "\n",
    "Let us start by defining the current through the inductor\n",
    "\n",
    "${i_L}(t) = \\left\\{ {\\begin{array}{*{20}{c}}\n",
    "{{I_m} + \\frac{{{E_1}}}{L}t}&\\forall &{0 < t \\le dT}\\\\\n",
    "{{I_M} + \\frac{{  E_1-{E_2}}}{L}(t - dT)}&\\forall &{dT < t \\le T}\n",
    "\\end{array}} \\right.$\n",
    "\n",
    "Therefore the average current at the output is:\n",
    "\n",
    "${I_{L\\_av}} = \\frac{1}{T}\\int_0^T {{i_L}(t)dt}$\n",
    "\n",
    "${I_{L\\_av}} = {I_m} + \\frac{{{E_1}({E_2} - {E_1})T}}{{2L{E_2}}} = {I_M} - \\frac{{{E_1}({E_2} - {E_1})T}}{{2L{E_2}}}$\n",
    "\n",
    "which leads to\n",
    "\n",
    "${I_{L\\_av}} = \\frac{{{I_m} + {I_M}}}{2}$\n",
    "\n",
    "Note that\n",
    "\n",
    "${I_{L\\_av}} = {I_m} + \\frac{{\\Delta I}}{2}$.\n",
    "\n",
    "or\n",
    "\n",
    "${I_m} = {I_{L\\_av}} - \\frac{{\\Delta I}}{2}$,\n",
    "\n",
    "therefore, to ensure operation in CCM, the inductor current must be greater than zero or ${I_m} > 0$,\n",
    "and as a result\n",
    "\n",
    "${I_{L\\_av}} > \\frac{{\\Delta I}}{2}$.\n",
    "\n",
    "The smallest inductor average current for operation in CCM can be expressed as a function of the output power\n",
    "\n",
    "${I_{L\\_av\\_\\min }} = \\frac{{{P_{\\min }}}}{{{E_1}}}$\n",
    "\n",
    "It is possible to conclude that the inductor required to ensure operation in CCM for output power greater than $P_{min}$ is found from\n",
    "\n",
    "$\\frac{{2{P_{\\min }}}}{{{E_1}}} \\ge \\Delta I$\n",
    "\n",
    "that is\n",
    "\n",
    "$L \\ge \\frac{{{E_1}^2({E_2} - {E_1})T}}{{2{E_2}{P_{\\min }}}}$\n",
    "\n",
    "\n"
   ]
  },
  {
   "cell_type": "markdown",
   "metadata": {},
   "source": [
    "## Example"
   ]
  },
  {
   "cell_type": "code",
   "execution_count": null,
   "metadata": {},
   "outputs": [],
   "source": [
    "Pmin=0.4*Prated\n",
    "L=E1**2*(E2-E1)*T/(2*E2*Pmin)\n",
    "print( 'L=',L*10**6,'uH')\n",
    "d=1-E1/E2\n",
    "print('d=',d)\n",
    "Delta_I=E1/L*d*T\n",
    "print( 'Delta I =',Delta_I,'A' )\n",
    "Iav=Prated/E1\n",
    "print( 'Average input current  Iav=',Iav,'A' )\n",
    "Im=Iav-Delta_I/2\n",
    "print( 'Im=',Im,'A' )\n",
    "IM=Iav+Delta_I/2\n",
    "print( 'IM=',IM,'A' )\n"
   ]
  },
  {
   "cell_type": "markdown",
   "metadata": {},
   "source": [
    "###### RMS Current on the MOSFET\n",
    "\n",
    "${i_{MOSFET}}(t) = \\left\\{ {\\begin{array}{*{20}{c}}\n",
    "{{I_m} + \\frac{{{E_1}}}{L}t}&\\forall &{0 < t \\le dT}\\\\\n",
    "0&\\forall &{dT < t \\le T}\n",
    "\\end{array}} \\right.$\n",
    "\n",
    "\n",
    "The MOSFET rms current is:\n",
    "\n",
    "$${I_{MOSFET\\_rms}} = \\sqrt {\\frac{1}{T}\\int_0^T {{i_{MOSFET}}{{(t)}^2}dt} }  $$"
   ]
  },
  {
   "cell_type": "code",
   "execution_count": null,
   "metadata": {},
   "outputs": [],
   "source": [
    "Im=Iav-Delta_I/2\n",
    "t=sp.symbols('t')\n",
    "Irms=sp.sqrt(1/T*sp.integrate( (Im+E1*t/L)**2,(t,0,d*T)))\n",
    "print('Irms_MOSFET=',Irms,'A')"
   ]
  },
  {
   "cell_type": "markdown",
   "metadata": {},
   "source": [
    "Average and RMS current on the diode\n",
    "\n",
    "$${i_{DIODE}}(t) = \\left\\{ {\\begin{array}{*{20}{c}}\n",
    "0&\\forall &{0 < t \\le dT}\\\\\n",
    "{{I_M} + \\frac{{ {E_1-E_2}}}{L}(t - dT)}&\\forall &{dT < t \\le T}\n",
    "\\end{array}} \\right.\\frac{{\\frac{{}}{{}}}}{{}}$$\n",
    "\n",
    "\n",
    "$$\\begin{array}{l}\n",
    "{I_{DIODE\\_rms}} = \\sqrt {\\frac{1}{T}\\int_0^T {{i_{DIODE}}{{(t)}^2}dt} } \\\\\n",
    "\\\\\n",
    "{I_{DIODE\\_av}} = \\frac{1}{T}\\int_0^T {{i_{DIODE}}(t)dt} \n",
    "\\end{array}$$\n"
   ]
  },
  {
   "cell_type": "code",
   "execution_count": null,
   "metadata": {},
   "outputs": [],
   "source": [
    "IM=Iav+Delta_I/2\n",
    "t=sp.symbols('t')\n",
    "Irms_diode=sp.sqrt( 1/T*sp.integrate( (IM+(E1-E2)/L*(t-d*T))**2,(t,d*T,T) ) )\n",
    "print('Irms_diode=',Irms_diode,'A')\n",
    "Iav_diode=1/T*sp.integrate( (IM+(E1-E2)*(t-d*T)/L),(t,d*T,T))\n",
    "print('Iav_diode=',Iav_diode,'A')"
   ]
  },
  {
   "cell_type": "markdown",
   "metadata": {},
   "source": [
    "Simulation results validates the theoritical analysis\n",
    "\n",
    "![Inductor current - Boost converter operating in CCM](img/BOOST_CCM_Inductor_current.png)"
   ]
  },
  {
   "cell_type": "markdown",
   "metadata": {},
   "source": [
    "##  Inductor design\n",
    "\n",
    "${i_L} = \\left\\{ {\\begin{array}{*{20}{c}}\n",
    "{{I_m} + \\frac{{{E_1} }}{L}t}&\\forall &{0 < t \\le dT}\\\\\n",
    "{{I_M} + \\frac{{ E_1- {E_2}}}{L}(t - dT)}&\\forall &{dT < t \\le T}\n",
    "\\end{array}} \\right.$\n",
    "\n",
    "Therefore the peak value of the inductor current is:"
   ]
  },
  {
   "cell_type": "code",
   "execution_count": null,
   "metadata": {},
   "outputs": [],
   "source": [
    "print ( ' Inductor peak current =',IM,'A')"
   ]
  },
  {
   "cell_type": "markdown",
   "metadata": {},
   "source": [
    "The RMS value of the inductor current is:"
   ]
  },
  {
   "cell_type": "code",
   "execution_count": null,
   "metadata": {},
   "outputs": [],
   "source": [
    "Irms_inductor=sp.sqrt(1/T*(sp.integrate((IM+(E1-E2)*(t-d*T)/L)**2,(t,d*T,T))+sp.integrate((Im+(E1)*t/L)**2,(t,0,d*T))))\n",
    "print('RMS value of the inductor current =',Irms_inductor,'A')\n",
    "print( 'Delta I =',Delta_I,'A', ' @ fsw=',fsw/1000,'kHz')"
   ]
  },
  {
   "cell_type": "markdown",
   "metadata": {},
   "source": [
    "![Boostin CCM](img/bh_curve_boost_ccm1.png)\n",
    "\n",
    "\n",
    "Here the inductor will be design using the $A_eA_w$ method.\n",
    "\n",
    "$${A_e}{A_w} = \\frac{{L{I_{L\\_peak}}{I_{L\\_rms}}}}{{{B_{\\max }}{J_{\\max }}{k_w}}}({m^4})$$\n",
    "\n",
    "where\n",
    "\n",
    "$\\begin{array}{l}\n",
    "I(A)\\\\\n",
    "B(T)\\\\\n",
    "J(A/{m^2})\n",
    "\\end{array}$\n",
    "\n",
    "\n",
    "Typical values for the current density , $J$, are between $200$ to $400A/c{m^2}$ for switching mode power supply magnetics. On the other hand, the maximum flux density depends on the core material and its losses. Let us consider a ferrite core designed for the maximum flux density of $B_{max}$ expressed in $T$ ( Tesla).\n"
   ]
  },
  {
   "cell_type": "code",
   "execution_count": null,
   "metadata": {},
   "outputs": [],
   "source": [
    "Bmax=0.1\n",
    "Jmax=300*10**4\n",
    "kw=0.6\n",
    "AeAw=L*IM*Irms_inductor/(Bmax*Jmax*kw)\n",
    "print( \"AeAw=\",AeAw*10**8,'cm^4')"
   ]
  },
  {
   "cell_type": "markdown",
   "metadata": {},
   "source": [
    "Note that $k_w$ is the window occupation factor. "
   ]
  },
  {
   "cell_type": "markdown",
   "metadata": {},
   "source": [
    "The Ferrite Core can be selected from the manufacture data sheets, for instance:\n",
    "\n",
    "https://www.mag-inc.com/\n",
    "\n",
    "https://www.magmattec.com.br/nucleo-de-ferrite\n",
    "\n",
    "https://product.tdk.com/info/en/products/ferrite/ferrite/ferrite-core/catalog.html\n",
    "\n"
   ]
  },
  {
   "cell_type": "markdown",
   "metadata": {},
   "source": [
    "Let us start by selecting a Ferrite E core with $A_eA_w$ close to the previously computed, that is: "
   ]
  },
  {
   "cell_type": "markdown",
   "metadata": {},
   "source": [
    "\n",
    "\n",
    "![Inductor current - Boost converter operating in CCM](img/Core_1.png)"
   ]
  },
  {
   "cell_type": "code",
   "execution_count": null,
   "metadata": {},
   "outputs": [],
   "source": [
    "M=0.8\n",
    "D=0.98\n",
    "F=0.93\n",
    "C=0.93\n",
    "Aw=M*2*D\n",
    "Ae=F*C\n",
    "print ( 'Ae=', Ae,'cm^2')\n",
    "print ( 'AeAw=',Ae*Aw,'cm^4')"
   ]
  },
  {
   "cell_type": "markdown",
   "metadata": {},
   "source": [
    "Now let us select the number of turns to obtain the predefined peak value of the flux density, that is:\n",
    "\n",
    "$\\begin{array}{l}\n",
    "Li = N\\phi \\\\\n",
    "L{I_{peak}} = N{\\phi _{\\max }}\\\\\n",
    "\\\\\n",
    "{\\phi _{\\max }} = {B_{\\max }}{A_e}\\\\\n",
    "\\\\\n",
    "L{I_{peak}} = N{B_{\\max }}{A_e}\\\\\n",
    "\\\\\n",
    "N = \\frac{{L{I_{peak}}}}{{{B_{\\max }}{A_e}}}\n",
    "\\end{array}$"
   ]
  },
  {
   "cell_type": "code",
   "execution_count": null,
   "metadata": {},
   "outputs": [],
   "source": [
    "N=L*IM/(Bmax*Ae*10**(-4))\n",
    "print ( 'Number of Turns N=',np.int(N))"
   ]
  },
  {
   "cell_type": "markdown",
   "metadata": {},
   "source": [
    "Usually, inductors use air gap to avoid the inductance dependence on the  core permeability. Thus, considering that the air gap reluctance is predominant in the inductor, the inductance can be expressed as:\n",
    "\n",
    "$L = \\frac{{{N^2}}}{{{\\Re _g}}} = \\frac{{{N^2}{\\mu _0}{A_e}}}{{{l_g}}}$\n",
    "\n",
    "or\n",
    "\n",
    "${l_g} = \\frac{{{N^2}{\\mu _0}{A_e}}}{L}$\n",
    "\n",
    "where\n",
    "\n",
    "${\\mu _0} = 4\\pi {10^{ - 7}}H/m$"
   ]
  },
  {
   "cell_type": "code",
   "execution_count": null,
   "metadata": {},
   "outputs": [],
   "source": [
    "mu0=4*np.pi*10**-7\n",
    "lg=np.int(N)**2*mu0*(Ae*10**(-4))/L\n",
    "print('L=',L*10**6 )\n",
    "print ( 'N=', np.int(N))\n",
    "print('Total Air gap length lg=',lg*1000,'mm')"
   ]
  },
  {
   "cell_type": "markdown",
   "metadata": {},
   "source": [
    "\n",
    "![gap EE](img/gap.png)\n",
    "\n",
    "            (a) 3 leg gapped ferrite                     (b)Center leg gapped ferrite"
   ]
  },
  {
   "cell_type": "markdown",
   "metadata": {},
   "source": [
    "Now, let us select the conductor cross section. Note that the current desinty is:\n",
    "\n",
    "$J = \\frac{{{I_{L\\_rms}}}}{{{A_{cu}}}}$\n",
    "\n",
    "therefore,\n",
    "\n",
    "${A_{cu}} = \\frac{{{I_{L\\_rms}}}}{J}$\n"
   ]
  },
  {
   "cell_type": "code",
   "execution_count": null,
   "metadata": {},
   "outputs": [],
   "source": [
    "Acu=Irms_inductor/Jmax\n",
    "print ('Jmax=',Jmax*10**(-4),'cm^2')\n",
    "print ( 'Conductor total cross section, Acu=',Acu*10**6,'mm^2')"
   ]
  },
  {
   "cell_type": "markdown",
   "metadata": {},
   "source": [
    "## Copper Losses\n",
    "The length of the turn is estimated here as:\n"
   ]
  },
  {
   "cell_type": "code",
   "execution_count": null,
   "metadata": {},
   "outputs": [],
   "source": [
    "lcu=(F+M)*2+(1.2*C)*2\n",
    "lcuT=lcu*N/100\n",
    "print ( ' Length of a turn lcu=',lcu,'cm')\n",
    "print ( ' Total Length of the winding lcuT=',lcuT,'m')\n"
   ]
  },
  {
   "cell_type": "markdown",
   "metadata": {},
   "source": [
    " The dc resistance of the winding is \n",
    " \n",
    "${R_{dc}} = \\frac{{\\rho {l_{cuT}}}}{{{A_{cu}}}}$\n",
    " where\n",
    " \n",
    "$\\rho  = 1.68 \\times {10^{ - 8}}(1 + 0.00404(T - {20^0})){\\rm{  }}\\Omega {\\rm{/m}}$"
   ]
  },
  {
   "cell_type": "code",
   "execution_count": null,
   "metadata": {},
   "outputs": [],
   "source": [
    "Ro=1.68*10**(-8)*(1+0.00404*(100-20))\n",
    "Rdc=Ro*lcuT/Acu\n",
    "print( ' DC resisitance of the winding Rdc=',Rdc,'ohm')"
   ]
  },
  {
   "cell_type": "markdown",
   "metadata": {},
   "source": [
    "The high frequency current components can be thought as circulating in an annular cylindrical equivalent conductor with width $\\delta$, which is known as skin depth. The equivalent ac resistance at a given frequency can be expressed as [3]:\n",
    "\n",
    "${R_{ac}} = {k_s}{R_{dc}}$\n",
    "\n",
    "where\n",
    "\n",
    "${k_s} = \\left\\{ {\\begin{array}{*{20}{c}}\n",
    "{1 + \\frac{{{{\\left( {\\frac{r}{\\delta }} \\right)}^4}}}{{48 + 0.8{{\\left( {\\frac{r}{\\delta }} \\right)}^4}}}}&{{\\rm{for}}}&{\\frac{r}{\\delta } < 1.7}\\\\\n",
    "{0.25 + 0.5\\frac{r}{\\delta } + \\frac{3}{{32}}{{\\left( {\\frac{r}{\\delta }} \\right)}^{ - 1}}}&{{\\rm{for}}}&{\\frac{r}{\\delta } > 1.7}\n",
    "\\end{array}} \\right.$\n",
    "\n",
    "and\n",
    "\n",
    "$\\delta  = \\sqrt {\\frac{\\rho }{{\\pi f{\\mu _0}}}} $.\n",
    "\n",
    "In the above equation:\n",
    "\n",
    "$r$ is the  radius  of the conductor\n",
    "\n",
    "$\\rho$ is the resistivity of the considered conductor\n",
    "\n",
    "$\\mu _0$ is the permeability of the air\n",
    "\n",
    "$f$  is the considered frequency component\n",
    "\n",
    "Alternatively, the AC resistance can be expressed as [4]:\n",
    "\n",
    "${R_{ac}} \\approx \\frac{{{l_{cuT}}\\rho }}{{\\pi (D - \\delta )\\delta }}$\n"
   ]
  },
  {
   "cell_type": "code",
   "execution_count": null,
   "metadata": {},
   "outputs": [],
   "source": [
    "fsw=100000\n",
    "Skin_depth=np.sqrt(Ro/(np.pi*fsw*mu0))\n",
    "print ('fsw=',fsw/1000,'kHz')\n",
    "print ('Skin_depth=',Skin_depth*1000,'mm')\n",
    "r1=sp.sqrt(Acu/np.pi)\n",
    "print ('Radius of the conductor, r=',r1*1000,'mm')\n",
    "print ('Ratio r/Skin_depth =',r1/Skin_depth)\n",
    "ks=1+( (r1/Skin_depth)**4 )/( 48 + 0.8*(r1/Skin_depth)**4 )\n",
    "##ks=0.25+0.5*(r1/Skin_depth)+3/32*(r1/Skin_depth)**(-1)\n",
    "print('ks=',ks)\n",
    "Rac=ks*Rdc\n",
    "print('DC resistance     , Rdc=',Rdc,'ohm')\n",
    "print('AC resistance @fsw, Rac=',Rac,'ohm')\n",
    "print('AC resistance @fsw, Rac=',Ro*lcuT/(np.pi*(2*sp.sqrt(Acu/np.pi)-Skin_depth)*Skin_depth), 'ohm' )\n",
    "print('Rac/Rdc=',Rac/Rdc)"
   ]
  },
  {
   "cell_type": "markdown",
   "metadata": {},
   "source": [
    "${P_{cu}} = {R_{dc}}I_{L\\_av}^2 + \\frac{{{R_{dc}}}}{2}\\sum\\limits_h^\\infty  {{k_{s\\_h}}I_h^2}$\n",
    "\n",
    "Here just the amplitude, peak value, of the inductor current component at $f_{sw}$ will be considered and it can be approximate as:"
   ]
  },
  {
   "cell_type": "code",
   "execution_count": null,
   "metadata": {},
   "outputs": [],
   "source": [
    "Iac_fsw=Delta_I/2"
   ]
  },
  {
   "cell_type": "code",
   "execution_count": null,
   "metadata": {},
   "outputs": [],
   "source": [
    "Pcu=Rdc*Iav**2+Rdc/2*ks*(Iac_fsw)**2\n",
    "print( 'Copper losses Pcu=',Pcu*10**3,'mW')"
   ]
  },
  {
   "cell_type": "markdown",
   "metadata": {},
   "source": [
    "Note that proximity effect losses can increase the estimanted copper losses [3]."
   ]
  },
  {
   "cell_type": "markdown",
   "metadata": {},
   "source": [
    "## Core Losses"
   ]
  },
  {
   "cell_type": "markdown",
   "metadata": {},
   "source": [
    "The core losses can be estimated from the core volume, flux density ac component at the switching frequency,$\\Delta B$, that is:\n",
    "\n",
    "$\\frac{{\\Delta B}}{{{B_{\\max }}}} = \\frac{{\\Delta H}}{{{H_{\\max }}}}=\\frac{{\\Delta I}}{{{I_{\\max }}}}$\n",
    "\n",
    "or\n",
    "\n",
    "$\\Delta B = \\frac{{\\Delta I}}{{{I_{\\max }}}}{B_{\\max }}$\n"
   ]
  },
  {
   "cell_type": "code",
   "execution_count": null,
   "metadata": {},
   "outputs": [],
   "source": [
    "DeltaB=Delta_I/IM*Bmax\n",
    "print ( ' Delta B=',DeltaB*1000,'mT')"
   ]
  },
  {
   "cell_type": "markdown",
   "metadata": {},
   "source": [
    "\n",
    "\n",
    "![Ferrite Core Losses Magnetics R material](img/corelosses.png)\n",
    "\n",
    "Source:https://www.mag-inc.com/Design/Technical-Documents/Ferrite-Core-Documents"
   ]
  },
  {
   "cell_type": "code",
   "execution_count": null,
   "metadata": {
    "scrolled": true
   },
   "outputs": [],
   "source": [
    "Pcore_volume=15\n",
    "print ( 'Core losses per volume ',Pcore_volume,'mW/cm^3')\n",
    "Ve=5590*10**(-3)\n",
    "print ( 'Core Volume, Ve=',Ve,'cm^3')\n",
    "Pcore=15*Ve/1000\n",
    "print( 'Estimated Core Losses, Pcore=',Pcore*10**3,'mW')"
   ]
  },
  {
   "cell_type": "markdown",
   "metadata": {},
   "source": [
    "## Total Inductor Losses"
   ]
  },
  {
   "cell_type": "code",
   "execution_count": null,
   "metadata": {},
   "outputs": [],
   "source": [
    "PL_total=Pcore+Pcu\n",
    "print ( 'Total inductor losses Pl_total=',PL_total*1000,'mW')"
   ]
  },
  {
   "cell_type": "markdown",
   "metadata": {},
   "source": [
    "## Second interaction of the inductor design\n",
    "Let us increase the maximum value of the flux density, $B_{max}$, and reduce the current density, $J_{max}$, aiming to reduce the copper losses and increase the core losses."
   ]
  },
  {
   "cell_type": "code",
   "execution_count": null,
   "metadata": {},
   "outputs": [],
   "source": [
    "Bmax=0.25\n",
    "Jmax=180*10**4\n",
    "kw=0.6\n",
    "AeAw=L*IM*Irms_inductor/(Bmax*Jmax*kw)\n",
    "print( \"AeAw=\",AeAw*10**8,'cm^4')"
   ]
  },
  {
   "cell_type": "markdown",
   "metadata": {},
   "source": [
    "\n",
    "![Inductor current - Boost converter operating in CCM](img/FerriteCore2.png)"
   ]
  },
  {
   "cell_type": "code",
   "execution_count": null,
   "metadata": {},
   "outputs": [],
   "source": [
    "M=0.64\n",
    "D=1.26\n",
    "F=0.635\n",
    "C=0.635\n",
    "Aw=M*2*D\n",
    "Ae=F*C\n",
    "print ( 'Ae=', Ae,'cm^2')\n",
    "print ( 'AeAw=',Ae*Aw,'cm^4')"
   ]
  },
  {
   "cell_type": "code",
   "execution_count": null,
   "metadata": {},
   "outputs": [],
   "source": [
    "N=L*IM/(Bmax*Ae*10**(-4))\n",
    "print ( 'Number of Turns N=',np.int(N))"
   ]
  },
  {
   "cell_type": "code",
   "execution_count": null,
   "metadata": {},
   "outputs": [],
   "source": [
    "mu0=4*np.pi*10**-7\n",
    "lg=np.int(N)**2*mu0*(Ae*10**(-4))/L\n",
    "print('L=',L*10**6 )\n",
    "print ( 'N=', np.int(N))\n",
    "print('Total Air gap length lg=',lg*1000,'mm')"
   ]
  },
  {
   "cell_type": "code",
   "execution_count": null,
   "metadata": {},
   "outputs": [],
   "source": [
    "Acu=Irms_inductor/Jmax\n",
    "print (Jmax)\n",
    "print ( 'Conductor total cross section, Acu=',Acu*10**6,'mm^2')"
   ]
  },
  {
   "cell_type": "code",
   "execution_count": null,
   "metadata": {},
   "outputs": [],
   "source": [
    "lcu=(F+M)*2+(1.2*C)*2\n",
    "lcuT=lcu*N*10**(-2)\n",
    "print ( ' Length of a turn lcu=',lcu,'cm')\n",
    "print ( ' Total Length of the winding lcuT=',lcuT,'m')"
   ]
  },
  {
   "cell_type": "code",
   "execution_count": null,
   "metadata": {},
   "outputs": [],
   "source": [
    "Ro=1.68*10**(-8)*(1+0.00404*(100-20))\n",
    "Rdc=Ro*lcuT/Acu\n",
    "print( ' DC resisitance of the winding Rdc=',Rdc,'ohms')"
   ]
  },
  {
   "cell_type": "code",
   "execution_count": null,
   "metadata": {},
   "outputs": [],
   "source": [
    "fsw=100000\n",
    "Skin_depth=np.sqrt(Ro/(np.pi*fsw*mu0))\n",
    "print ('fsw=',fsw/1000,'kHz')\n",
    "print ('Skin_depth=',Skin_depth*1000,'mm')\n",
    "r1=sp.sqrt(Acu/np.pi)\n",
    "print ('Radius of the conductor, r=',r1*1000,'mm')\n",
    "print ('Ratio r/Skin_depth =',r1/Skin_depth)\n",
    "ks=1+( (r1/Skin_depth)**4 )/( 48 + 0.8*(r1/Skin_depth)**4 )\n",
    "##ks=0.25+0.5*(r1/Skin_depth)+3/32*(r1/Skin_depth)**(-1)\n",
    "print('ks=',ks)\n",
    "Rac=ks*Rdc\n",
    "print('DC resistance     , Rdc=',Rdc,'ohm')\n",
    "print('AC resistance @fsw, Rac=',Rac,'ohm')\n",
    "\n",
    "Iac_fsw=Delta_I/2\n",
    "Pcu=Rdc*Iav**2+Rdc/2*ks*(Iac_fsw)**2\n",
    "print( 'Copper losses Pcu=',Pcu*10**3,'mW')\n",
    "\n"
   ]
  },
  {
   "cell_type": "code",
   "execution_count": null,
   "metadata": {},
   "outputs": [],
   "source": [
    "DeltaB=Delta_I/IM*Bmax\n",
    "print ( ' Delta B=',DeltaB*1000,'mT')"
   ]
  },
  {
   "cell_type": "code",
   "execution_count": null,
   "metadata": {},
   "outputs": [],
   "source": [
    "Pcore_volume=150\n",
    "print ( 'Core losses per volume ',Pcore_volume,'mW/cm^3')\n",
    "Ve=2950*10**(-3)\n",
    "print ( 'Core Volume, Ve=',Ve,'cm^3')\n",
    "Pcore=Pcore_volume*Ve/1000\n",
    "print( 'Estimanted Core Losses, Pcore=',Pcore*10**3,'mW')"
   ]
  },
  {
   "cell_type": "code",
   "execution_count": null,
   "metadata": {},
   "outputs": [],
   "source": [
    "PL_total=Pcore+Pcu\n",
    "print ( 'Total inductor losses Pl_total=',PL_total*1000,'mW')"
   ]
  },
  {
   "cell_type": "markdown",
   "metadata": {},
   "source": [
    "\n",
    "\n",
    "To converter ${mm^2}$ to American wire gauge (AWG) one may access https://www.rapidtables.com/calc/wire/awg-to-mm.html"
   ]
  },
  {
   "cell_type": "markdown",
   "metadata": {},
   "source": [
    "## Output Capacitor Design"
   ]
  },
  {
   "cell_type": "markdown",
   "metadata": {},
   "source": [
    "### Frequency domain approach\n",
    "\n",
    "![ Boost converter operating in CCM](img/boost_ccm_voltage_ripple.png)\n",
    "#### For a given frequency componant of current through the capacitor the corresponding voltage is found as\n",
    "$${V_{ac}} =  - j{X_c}{I_{ac}}$$\n",
    "#### and their magnitude can be expressed as\n",
    "$$\\left| {{V_{ac}}} \\right| = {X_c}\\left| {{I_{ac}}} \\right|$$\n",
    "#### where\n",
    "$${X_c} = \\frac{1}{{2\\pi fC}}$$\n",
    "#### and $f$ is the frenquency of the consired frequency component\n",
    "\n",
    "\n"
   ]
  },
  {
   "cell_type": "markdown",
   "metadata": {},
   "source": [
    "Example 1"
   ]
  },
  {
   "cell_type": "code",
   "execution_count": null,
   "metadata": {},
   "outputs": [],
   "source": [
    "C=10*10**-6\n",
    "print( 'C=',C*10**6, 'uF')"
   ]
  },
  {
   "cell_type": "markdown",
   "metadata": {},
   "source": [
    "then"
   ]
  },
  {
   "cell_type": "code",
   "execution_count": null,
   "metadata": {},
   "outputs": [],
   "source": [
    "Xc=1/(2*pi*fsw*C)\n",
    "print ( 'Xc=',Xc, 'ohms')"
   ]
  },
  {
   "cell_type": "markdown",
   "metadata": {},
   "source": [
    "From the simulation it is possible to find the amplitude of the current component @fsw through the capacitor\n",
    "\n",
    "\n",
    "![Boost output capacitor current](img/boost_ccm_capacitor_current.png)\n",
    "\n",
    "\n",
    "![Boost output capacitor current spectrum](img/boost_ccm_capacitor_current_FFT.png)"
   ]
  },
  {
   "cell_type": "code",
   "execution_count": null,
   "metadata": {},
   "outputs": [],
   "source": [
    "Iac=0.6569\n",
    "print( 'Iac=',Iac,'A @',fsw/1000,'kHz')"
   ]
  },
  {
   "cell_type": "markdown",
   "metadata": {},
   "source": [
    "Then the peak to peak ac component of the capacitor voltage is: "
   ]
  },
  {
   "cell_type": "code",
   "execution_count": null,
   "metadata": {},
   "outputs": [],
   "source": [
    "Vca_p2p=Xc*Iac*2\n",
    "print ( 'Vca_p2p=',Vca_p2p,'V @',fsw/1000,'kHz')"
   ]
  },
  {
   "cell_type": "markdown",
   "metadata": {},
   "source": [
    "The voltage ripple as a percetage of the output dc component is"
   ]
  },
  {
   "cell_type": "code",
   "execution_count": null,
   "metadata": {},
   "outputs": [],
   "source": [
    "Ripple=Vca_p2p/E2*100\n",
    "print ( 'The peak to peak voltage ripple =', Ripple,'%')"
   ]
  },
  {
   "cell_type": "markdown",
   "metadata": {},
   "source": [
    "Example 2"
   ]
  },
  {
   "cell_type": "markdown",
   "metadata": {},
   "source": [
    "Let us consider in the above example that the maximum allowed ripple is "
   ]
  },
  {
   "cell_type": "code",
   "execution_count": null,
   "metadata": {},
   "outputs": [],
   "source": [
    "Ripple=1\n",
    "print ( 'Maximum allowed output capacitor voltage ripple =',Ripple,'%')"
   ]
  },
  {
   "cell_type": "code",
   "execution_count": null,
   "metadata": {},
   "outputs": [],
   "source": [
    "Vca_p2p=Ripple/100*E2\n",
    "print ( 'Maximum allowed output capacitor voltage ripple =',Vca_p2p,'V peak to peak')"
   ]
  },
  {
   "cell_type": "markdown",
   "metadata": {},
   "source": [
    "From the simulation, file buck_ccm_1.psimsch, it is possible to find that capacitor current component at $f_{sw}$ using the FFT function, that is:\n"
   ]
  },
  {
   "cell_type": "code",
   "execution_count": null,
   "metadata": {},
   "outputs": [],
   "source": [
    "Iac=0.6569"
   ]
  },
  {
   "cell_type": "markdown",
   "metadata": {},
   "source": [
    "Therefore"
   ]
  },
  {
   "cell_type": "code",
   "execution_count": null,
   "metadata": {},
   "outputs": [],
   "source": [
    "Xc=Vca_p2p/(2*Iac)\n",
    "print ( 'Xc=',Xc, 'ohms')"
   ]
  },
  {
   "cell_type": "code",
   "execution_count": null,
   "metadata": {
    "scrolled": true
   },
   "outputs": [],
   "source": [
    "C=1/(2*pi*fsw*Xc)\n",
    "print ( ' C=', C*10**6, 'uF')"
   ]
  },
  {
   "cell_type": "markdown",
   "metadata": {},
   "source": [
    "boost_ccm_capacitor_votage_ripple\n",
    "\n",
    "![Boost output capacitor voltage ripple](img/boost_ccm_capacitor_votage_ripple.png)"
   ]
  },
  {
   "cell_type": "markdown",
   "metadata": {},
   "source": [
    "## Output capacitor current component by means of Fourier Series"
   ]
  },
  {
   "cell_type": "markdown",
   "metadata": {},
   "source": [
    "For a buck opeating in CCM the current through the output capacitor can be found by subtracting the inductor current from its average value, that is:\n",
    "\n",
    "$${i_{ac}}(t) = \\left\\{ {\\begin{array}{*{20}{c}}\n",
    "{ - {I_{av2}}}&\\forall &{0 < t \\le dT}\\\\\n",
    "{{I_M} + \\frac{{{E_1} - {E_2}}}{L}(t - dT) - {I_{av2}}}&\\forall &{dT < t \\le T}\n",
    "\\end{array}} \\right.$$\n",
    "\n",
    "\n",
    "\n",
    "\n",
    "where, as mentioned above\n",
    "\n",
    "$$d = 1-\\frac{{{E_1}}}{{{E_2}}}$$\n",
    "\n",
    "\n",
    "$$I_M=I_{av1}+\\frac{\\Delta I}{2}$$\n",
    "\n",
    "$$I_{av1}=\\frac{P_{rated}}{E_1}$$"
   ]
  },
  {
   "cell_type": "code",
   "execution_count": null,
   "metadata": {},
   "outputs": [],
   "source": [
    "d=1-E1/E2\n",
    "Delta_I=E1/L*d*T\n",
    "Iav1=Prated/E1\n",
    "Iav2=Prated/E2\n",
    "IM=Iav1+Delta_I/2\n",
    "print('Delta_I=',Delta_I,'A')\n",
    "t=sp.symbols('t')\n",
    "ia_s1=-Iav2\n",
    "ia_s2=IM+(E1-E2)/L*(t-d*T)-Iav2\n",
    "ia_s2"
   ]
  },
  {
   "cell_type": "code",
   "execution_count": null,
   "metadata": {},
   "outputs": [],
   "source": [
    "t1=np.linspace(0,T,1000)\n",
    "ts1=t1<d*T\n",
    "ts2=t1>=d*T\n",
    "iac=-Iav2*ts1+(IM+(E1-E2)/L*(t1-d*T)-Iav2)*ts2\n",
    "mpld3.enable_notebook()\n",
    "plt.grid()\n",
    "plt.plot(t1*10**6,iac,'r')\n",
    "plt.xlabel('t (us)')\n",
    "plt.ylabel('iac (A)' )\n",
    "plt.title('Output Capacitor Current')"
   ]
  },
  {
   "cell_type": "markdown",
   "metadata": {},
   "source": [
    "Since $i_{ac}$ is periodic with period $T$, its harmonic components can be obtained from the Fourier Series"
   ]
  },
  {
   "cell_type": "markdown",
   "metadata": {},
   "source": [
    "The magnitude of the hamonic component at $f_{sw}$ is:\n",
    "$${I_{ac}} = \\sqrt {{{({I_{ac\\_\\cos }})}^2} + {{({I_{ac\\_\\sin }})}^2}} $$\n",
    "\n",
    "where\n",
    "$$\\begin{array}{l}\n",
    "{I_{ac\\_\\cos }} = \\frac{2}{T}\\int_0^T {{i_{ac}}} (t)\\cos (\\frac{{2\\pi }}{T}t)dt\\\\\n",
    "{I_{ac\\_\\sin }} = \\frac{2}{T}\\int_0^T {{i_{ac}}} (t)\\sin (\\frac{{2\\pi }}{T}t)dt\n",
    "\\end{array}$$"
   ]
  },
  {
   "cell_type": "code",
   "execution_count": null,
   "metadata": {},
   "outputs": [],
   "source": [
    "Iac_cos1=2/T*( sp.integrate(ia_s1*sp.cos(2*pi/T*t),(t,0,d*T) ) )\n",
    "Iac_cos2=2/T*( sp.integrate(ia_s2*sp.cos(2*pi/T*t),(t,d*T,T)) )\n",
    "Iac_cos=Iac_cos1+Iac_cos2\n",
    "\n",
    "Iac_sin1=2/T*( sp.integrate(ia_s1*sp.sin(2*pi/T*t),(t,0,d*T) ) )\n",
    "Iac_sin2=2/T*( sp.integrate(ia_s2*sp.sin(2*pi/T*t),(t,d*T,T)) )\n",
    "Iac_sin=Iac_sin1+Iac_sin2\n",
    "Iac=sp.sqrt(Iac_sin**2+Iac_cos**2)\n",
    "print( 'Iac=', Iac, 'A  @',fsw/1000,'kHz')"
   ]
  },
  {
   "cell_type": "markdown",
   "metadata": {},
   "source": [
    "### Lets us find the amplitude of the output voltage ripple peak to peak  in time domain"
   ]
  },
  {
   "cell_type": "markdown",
   "metadata": {},
   "source": [
    "$${v_c} = C\\frac{{d{i_c}}}{{dt}}$$\n",
    "or\n",
    "$${v_c}(t) = {v_c}({t_o}) + \\int_{{t_o}}^t {{i_c}(t)dt}$$"
   ]
  },
  {
   "cell_type": "markdown",
   "metadata": {},
   "source": [
    "Let $t_0$ be the time instant when the capacitor current transiton from negative to positive \n",
    "and $t_2$ be the time instant when the capaticor current transition from positive to nevative within the periot $T$\n",
    "\n",
    "$$\\begin{array}{l}\n",
    "{v_c}({dT}) - {v_c}({0}) = \\Delta V = C\\int_{{0}}^{{dT}} {{i_c}(t)dt} \\\\\n",
    "\\Delta Q = \\int_{{0}}^{{dT}} {I_{av2}(t)dt} \\\\\n",
    "\\Delta V = C\\Delta Q\n",
    "\\end{array}$$"
   ]
  },
  {
   "cell_type": "markdown",
   "metadata": {},
   "source": [
    "Note that this is valide only if $i_{ac}(T)>0$. In the present example we have:"
   ]
  },
  {
   "cell_type": "code",
   "execution_count": null,
   "metadata": {},
   "outputs": [],
   "source": [
    "ia_s2.subs(t,T)"
   ]
  },
  {
   "cell_type": "code",
   "execution_count": null,
   "metadata": {},
   "outputs": [],
   "source": [
    "Delta_Q=sp.integrate(ia_s1,(t,0,d*T)) \n",
    "Delta_V=np.abs(Delta_Q/C)\n",
    "print ( 'Ripple peak to peak =',Delta_V,'V')\n",
    "print ( 'Ripple =',Delta_V/E2*100,'%')"
   ]
  },
  {
   "cell_type": "markdown",
   "metadata": {},
   "source": [
    "## References\n",
    "[1] M. S. S. Nia, S. Saadatmand, M. Altimania, P. Shamsi and M. Ferdowsi, \"Analysis of Skin Effect in High Frequency Isolation Transformers,\" 2019 North American Power Symposium (NAPS), Wichita, KS, USA, 2019, pp. 1-6,\n",
    "\n",
    "[2]W. G. Hurley, E. Gath and J. G. Breslin, \"Optimizing the AC resistance of multilayer transformer windings with arbitrary current waveforms,\" in IEEE Transactions on Power Electronics, vol. 15, no. 2, pp. 369-376, March 2000, doi: 10.1109/63.838110.\n",
    "\n",
    "[3]TRANSFORMERS AND INDUCTORS FOR POWER ELECTRONICS THEORY, DESIGN AND APPLICATIONS,W. G. Hurley , W. H. W€olﬂe,  2013 John Wiley & Sons Ltd.\n",
    "\n",
    "[4]https://en.wikipedia.org/wiki/Skin_effect\n",
    "\n",
    "[5] https://math.stackexchange.com/questions/1575650/modified-bessel-differential-equation\n",
    "\n",
    "[6] https://en.wikipedia.org/wiki/Bessel_function\n",
    "\n",
    "[7]https://en.wikipedia.org/wiki/Kelvin_functions\n",
    "\n",
    "[8] https://math.stackexchange.com/questions/2204475/derivative-of-bessel-function-of-second-kind-zero-order\n",
    "\n",
    "[9] N. Kondrath and M. K. Kazimierczuk, \"Inductor winding loss owing to skin and proximity effects including harmonics in non-isolated pulse-width modulated dc-dc converters operating in continuous conduction mode,\" in IET Power Electronics, vol. 3, no. 6, pp. 989-1000, Nov. 2010, doi: 10.1049/iet-pel.2009.0299\n",
    " \n",
    "\n"
   ]
  },
  {
   "cell_type": "markdown",
   "metadata": {},
   "source": [
    "## Appendix\n",
    "### Skin Effect\n",
    "\n",
    "![Skin Effect](img/skindepth.jpg)\n",
    "Let us start from the Maxwell's equations \n",
    "\n",
    "$\\begin{array}{l}\n",
    "\\nabla  \\times {\\bf{H}} = {\\bf{J}}\\\\\n",
    "\\nabla  \\times {\\bf{E}} =  - {\\mu _o}\\frac{{\\partial {\\bf{H}}}}{{\\partial t}}\n",
    "\\end{array}$\n",
    "\n"
   ]
  },
  {
   "cell_type": "markdown",
   "metadata": {},
   "source": [
    "In the circular conductor where the current circulates in the ${{\\bf{a}}_z}$ direction, we have\n",
    "\n",
    "${\\bf{J}} = {J_z}{{\\bf{a}}_z}$\n",
    "\n",
    "as a result\n",
    "\n",
    "${\\bf{H}} = {H_\\phi }{{\\bf{a}}_\\phi }$.\n",
    "\n",
    "The curl of the magnetic field vector is:\n",
    "\n",
    "$\\nabla  \\times {\\bf{H}} = \\frac{1}{r}\\left| {\\begin{array}{*{20}{c}}\n",
    "{{{\\bf{a}}_r}}&{r{{\\bf{a}}_\\phi }}&{{{\\bf{a}}_z}}\\\\\n",
    "{\\frac{\\partial }{{\\partial r}}}&{\\frac{\\partial }{{\\partial \\phi }}}&{\\frac{\\partial }{{\\partial z}}}\\\\\n",
    "0&{r{H_\\phi }}&0\n",
    "\\end{array}} \\right| = \\frac{1}{r}\\frac{{\\partial r{H_\\phi }}}{{\\partial r}}{{\\bf{a}}_z} = {J_z}{{\\bf{a}}_z}$,\n",
    "\n",
    "therefore\n",
    "\n",
    "${J_z} = \\frac{1}{r}{H_\\phi } + \\frac{{\\partial {H_\\phi }}}{{\\partial r}}$.\n",
    "\n",
    "From the Faradays law\n",
    "\n",
    "$\\nabla  \\times {\\bf{E}} =  - {\\mu _o}\\frac{{\\partial {\\bf{H}}}}{{\\partial t}}$\n",
    "\n",
    "or\n",
    "\n",
    "$\\nabla  \\times \\frac{{\\bf{J}}}{\\sigma } =  - {\\mu _o}\\frac{{\\partial {\\bf{H}}}}{{\\partial t}}$\n",
    "\n",
    "$\\begin{array}{l}\n",
    "\\nabla  \\times {\\bf{J}} =  - \\sigma {\\mu _o}\\frac{{\\partial {\\bf{H}}}}{{\\partial t}}\\\\\n",
    "\\\\\n",
    "\\nabla  \\times {\\bf{J}} =  - \\sigma {\\mu _o}\\frac{{\\partial {H_\\phi }}}{{\\partial t}}{{\\bf{a}}_\\phi }\n",
    "\\end{array}$\n",
    "\n",
    "$\\nabla  \\times {\\bf{J}} = \\frac{1}{r}\\left| {\\begin{array}{*{20}{c}}\n",
    "{{{\\bf{a}}_r}}&{r{{\\bf{a}}_\\phi }}&{{{\\bf{a}}_z}}\\\\\n",
    "{\\frac{\\partial }{{\\partial r}}}&{\\frac{\\partial }{{\\partial \\phi }}}&{\\frac{\\partial }{{\\partial z}}}\\\\\n",
    "0&0&{{J_z}}\n",
    "\\end{array}} \\right| =  - \\frac{{\\partial {J_z}}}{{\\partial r}}{{\\bf{a}}_\\phi }$\n",
    "\n",
    "as a result\n",
    "\n",
    "$\\frac{{\\partial {J_z}}}{{\\partial r}} = \\sigma {\\mu _o}\\frac{{\\partial {H_\\phi }}}{{\\partial t}}$\n",
    "\n",
    "${J_z} = \\frac{1}{r}{H_\\phi } + \\frac{{\\partial {H_\\phi }}}{{\\partial r}}$.\n",
    "\n",
    "\n",
    "\n",
    "\n"
   ]
  },
  {
   "cell_type": "markdown",
   "metadata": {},
   "source": [
    "Let us assume that the current is sinusoidal with frequency $\\omega $, then"
   ]
  },
  {
   "cell_type": "markdown",
   "metadata": {},
   "source": [
    "${H_\\phi } = {{\\bar H}_\\phi }{e^{j\\omega t}}$"
   ]
  },
  {
   "cell_type": "markdown",
   "metadata": {},
   "source": [
    "and\n",
    "\n",
    "${{\\bar J}_z} = \\frac{1}{r}{{\\bar H}_\\phi } + \\frac{{\\partial {{\\bar H}_\\phi }}}{{\\partial r}}$"
   ]
  },
  {
   "cell_type": "markdown",
   "metadata": {},
   "source": [
    "$\\frac{{\\partial {{\\bar J}_z}}}{{\\partial r}} = \\sigma {\\mu _o}j\\omega {{\\bar H}_\\phi }$"
   ]
  },
  {
   "cell_type": "markdown",
   "metadata": {},
   "source": [
    "which can be expressed as "
   ]
  },
  {
   "cell_type": "markdown",
   "metadata": {},
   "source": [
    "${{\\bar J}_z} = \\frac{1}{{\\sigma {\\mu _o}j\\omega }}\\frac{1}{r}\\frac{{\\partial {{\\bar J}_z}}}{{\\partial r}} + \\frac{1}{{\\sigma {\\mu _o}j\\omega }}\\frac{{{\\partial ^2}{{\\bar J}_z}}}{{\\partial {r^2}}}$\n",
    "\n",
    "or\n",
    "\n",
    "$\\frac{{{d^2}{{\\bar J}_z}}}{{d{r^2}}} + \\frac{1}{r}\\frac{{d{{\\bar J}_z}}}{{dr}} - \\sigma {\\mu _o}j\\omega {{\\bar J}_z} = 0$\n",
    "\n"
   ]
  },
  {
   "cell_type": "markdown",
   "metadata": {},
   "source": [
    "which is a Modified Bessel equation [5]. The homogenous  solution of this differential equation is:\n",
    "\n",
    "${{\\bar J}_z}(r) = A{I_o}( r\\sqrt {\\sigma {\\mu _o}j\\omega }) + {B}{K_o}(r\\sqrt {\\sigma {\\mu _o}j\\omega } )$\n"
   ]
  },
  {
   "cell_type": "markdown",
   "metadata": {},
   "source": [
    "where $I_o$ and $K_o$ are linear independent functions and can be understood as cousins of exponentials  ${e^x}$ and $e^{-x}$ respectively. $I_o$ and $K_o$  are known as modified  Bessel functions of first and second kind, of order zero [6].  The coefficients A and B are determined from the boundary conditions and will be complex numbers in this case. Note that $K_o$ is singular for $r=0$ and taking into account that the current is finite at center of the conductor it is concluded that $B=0$.\n",
    "![Skin Effect](img/Io_Ko_modified Bessel Function.png)\n"
   ]
  },
  {
   "cell_type": "markdown",
   "metadata": {},
   "source": [
    "Source [6].\n",
    "\n"
   ]
  },
  {
   "cell_type": "markdown",
   "metadata": {},
   "source": [
    "In order to understand how the current density changes as a function of the conductor radium,$r$, for diferent frequencies, let us plot the ratio"
   ]
  },
  {
   "cell_type": "markdown",
   "metadata": {},
   "source": [
    "$\\frac{{{{\\bar J}_z}(r)}}{{{{\\bar J}_z}({r_o})}} = \\frac{{A{I_o}(r\\sqrt {\\sigma {\\mu _o}j\\omega } )}}{{A{I_o}({r_o}\\sqrt {\\sigma {\\mu _o}j\\omega } )}} = \\frac{{{I_o}(r\\sqrt {\\sigma {\\mu _o}j\\omega } )}}{{{I_o}({r_o}\\sqrt {\\sigma {\\mu _o}j\\omega } )}}$"
   ]
  },
  {
   "cell_type": "markdown",
   "metadata": {},
   "source": [
    "In the above current density ratio,the argument of the modified Bessel functions are complex numbers,that is ${I_o}(\\sqrt j r\\sqrt {\\sigma {\\mu _o}\\omega } )$. It is possible to use Kelvin functions [7] to solve them with real arguments, that is. \n",
    "\n",
    "${I_o}(\\sqrt j r\\sqrt {\\sigma {\\mu _o}\\omega } ) = ber(r\\sqrt {\\sigma {\\mu _o}\\omega } ) + jbei(r\\sqrt {\\sigma {\\mu _o}\\omega } )$\n"
   ]
  },
  {
   "cell_type": "code",
   "execution_count": null,
   "metadata": {},
   "outputs": [],
   "source": [
    "import scipy.special as ss\n",
    "import mpmath as mp"
   ]
  },
  {
   "cell_type": "code",
   "execution_count": null,
   "metadata": {},
   "outputs": [],
   "source": [
    "mu0=4*np.pi*10**-7;\n",
    "Ro=1.68*10**(-8)*(1+0.00404*(0-20))\n",
    "fsw=10*10**3;\n",
    "w=2*np.pi*fsw\n",
    "ro=1.25*10**(-3)\n",
    "print ( 'fw',fsw*10**(-3),'kHz')\n",
    "print ( 'ro=',ro*10**3,'mm')\n",
    "r=np.linspace(-ro,ro,1000)\n",
    "m=np.sqrt(w*mu0/Ro)\n",
    "m1=np.sqrt(w*10*mu0/Ro)\n",
    "Ratio_rs10=np.sqrt( ss.ber(r*m)**2 + ss.bei(r*m)**2 )/np.sqrt(ss.ber(ro*m)**2+ss.bei(ro*m)**2)\n",
    "Ratio_rs100=np.sqrt( ss.ber(r*m1)**2 + ss.bei(r*m1)**2 )/np.sqrt(ss.ber(ro*m1)**2+ss.bei(ro*m1)**2)\n",
    "mpld3.enable_notebook()\n",
    "plt.grid()\n",
    "plt.plot(r,Ratio_rs10,'r',r,Ratio_rs100,'b')\n",
    "plt.xlabel('r ')\n",
    "plt.ylabel('|J(r)/J(ro)|' )\n",
    "plt.title('Current Density Ratio')\n"
   ]
  },
  {
   "cell_type": "markdown",
   "metadata": {},
   "source": [
    "Note that from and Ampere's Law one has\n",
    "\n",
    "$\\oint_{c({r_o})} {\\bf{H}}  \\cdot d{\\bf{l}} = i$\n",
    "\n",
    "in this case results\n",
    "\n",
    "\n",
    "${H_\\phi } = \\frac{i}{{2\\pi {r_o}}}$\n",
    "\n",
    "and\n",
    "\n",
    "${{\\bar H}_\\phi } = \\frac{{\\bar I}}{{2\\pi {r_o}}}$\n"
   ]
  },
  {
   "cell_type": "markdown",
   "metadata": {},
   "source": [
    "On the other hand  since\n",
    "\n",
    "$\\frac{{{{\\bar J}_z}(r)}}{{{{\\bar J}_z}({r_o})}} = \\frac{{{I_o}(r\\sqrt {\\sigma {\\mu _o}j\\omega } )}}{{{I_o}({r_o}\\sqrt {\\sigma {\\mu _o}j\\omega } )}}$\n",
    "\n",
    "and\n",
    "\n",
    "${{\\bar E}_z}(r) = \\frac{{{{\\bar J}_z}(r)}}{\\sigma }$\n",
    "\n",
    "then\n",
    "\n",
    "$\\frac{{{{\\bar E}_z}(r)}}{{{{\\bar E}_z}({r_o})}} = \\frac{{{I_o}(r\\sqrt {\\sigma {\\mu _o}j\\omega } )}}{{{I_o}({r_o}\\sqrt {\\sigma {\\mu _o}j\\omega } )}}$\n",
    "\n",
    "or\n",
    "\n",
    "${{\\bar E}_z}(r) = {{\\bar E}_z}({r_o})\\frac{{{I_o}(r\\sqrt {\\sigma {\\mu _o}j\\omega } )}}{{{I_o}({r_o}\\sqrt {\\sigma {\\mu _o}j\\omega } )}}$."
   ]
  },
  {
   "cell_type": "markdown",
   "metadata": {},
   "source": [
    "From the above derivation  it is possible to say\n",
    "\n",
    "$\\frac{{\\partial {{\\bar E}_z}}}{{\\partial r}} = {\\mu _o}j\\omega {{\\bar H}_\\phi }$"
   ]
  },
  {
   "cell_type": "markdown",
   "metadata": {},
   "source": [
    "$\\frac{{\\partial {{\\bar E}_z}}}{{\\partial r}} = {{\\bar E}_z}({r_o})\\frac{{\\frac{{\\partial {I_o}(r\\sqrt {\\sigma {\\mu _o}j\\omega } )}}{{\\partial r}}}}{{{I_o}({r_o}\\sqrt {\\sigma {\\mu _o}j\\omega } )}}$"
   ]
  },
  {
   "cell_type": "markdown",
   "metadata": {},
   "source": [
    "The derivative of the modified Bessel function of first kind,of order zero, with respect its argument is [8]:\n",
    "\n",
    "$\\frac{{dI_0(ax)}}{{dx}} = a{I_1}(x)$,\n",
    "\n",
    "therefore\n",
    "\n",
    "$\\frac{{\\partial {{\\bar E}_z}}}{{\\partial r}} = {{\\bar E}_z}({r_o})\\frac{{\\sqrt {\\sigma {\\mu _o}j\\omega } {I_1}(r\\sqrt {\\sigma {\\mu _o}j\\omega } )}}{{{I_o}({r_o}\\sqrt {\\sigma {\\mu _o}j\\omega } )}} = {\\mu _o}j\\omega {{\\bar H}_\\phi } = {\\mu _o}j\\omega \\frac{{\\bar I}}{{2\\pi {r_o}}}$\n"
   ]
  },
  {
   "cell_type": "markdown",
   "metadata": {},
   "source": [
    "According to [3] the internal impedance of the conductor per unity of length is defined as:\n",
    "\n",
    "$\\frac{{{{\\bar E}_z}({r_o})}}{{\\bar I}} = \\frac{{{\\mu _o}j\\omega }}{{2\\pi {r_o}\\sqrt {\\sigma {\\mu _o}j\\omega } }}\\frac{{{I_o}({r_o}\\sqrt {\\sigma {\\mu _o}j\\omega } )}}{{{I_1}({r_o}\\sqrt {\\sigma {\\mu _o}j\\omega } )}} = {R_{dc}}\\frac{{{r_o}\\sigma {\\mu _o}j\\omega }}{{2\\sqrt {\\sigma {\\mu _o}j\\omega } }}\\frac{{{I_o}({r_o}\\sqrt {\\sigma {\\mu _o}j\\omega } )}}{{{I_1}({r_o}\\sqrt {\\sigma {\\mu _o}j\\omega } )}} = {R_{dc}}\\frac{{{r_o}\\sqrt {\\sigma {\\mu _o}j\\omega } }}{2}\\frac{{{I_o}({r_o}\\sqrt {\\sigma {\\mu _o}j\\omega } )}}{{{I_1}({r_o}\\sqrt {\\sigma {\\mu _o}j\\omega } )}}$\n",
    "\n",
    "the ac resistance is de real part of the internal impedance, or\n",
    "\n",
    "$\\frac{{{R_{ac}}}}{{{R_{dc}}}} = {\\mathop{\\rm Re}\\nolimits} (\\frac{{{r_o}\\sqrt {\\sigma {\\mu _o}j\\omega } }}{2}\\frac{{{I_o}({r_o}\\sqrt {\\sigma {\\mu _o}j\\omega } )}}{{{I_1}({r_o}\\sqrt {\\sigma {\\mu _o}j\\omega } )}})$.\n",
    "\n",
    "The skin depth is defined as ${\\delta _o}$ is usually defined as:\n",
    "\n",
    "$\\delta_o  = \\sqrt {\\frac{\\rho }{{\\pi f{\\mu _0}}}} $.\n",
    "\n",
    "$\\frac{{{R_{ac}}}}{{{R_{dc}}}} = {\\rm{Re}}(\\frac{{{r_o}}}{{{\\delta _o}}}\\frac{{\\sqrt j }}{{\\sqrt 2 }}\\frac{{{I_o}(\\sqrt j \\sqrt 2 \\frac{{{r_o}}}{{{\\delta _o}}})}}{{{I_1}(\\sqrt j \\sqrt 2 \\frac{{{r_o}}}{{{\\delta _o}}})}})$\n",
    "\n",
    "Noting that\n",
    "\n",
    "${I_n}(x) = {i^{ - n}}{J_n}(ix)$\n",
    "\n",
    "${J_n}(x{e^{\\frac{{3\\pi i}}{4}}}) = {{\\mathop{\\rm ber}\\nolimits} _n}(x) + i{{\\mathop{\\rm bei}\\nolimits} _n}(x)$\n",
    "\n",
    "\n",
    "\n",
    "\n",
    "\n",
    "    "
   ]
  },
  {
   "cell_type": "code",
   "execution_count": null,
   "metadata": {},
   "outputs": [],
   "source": [
    "print(mp.ber(0,1))\n",
    "print(ss.ber(1))\n",
    "print ( 1j*np.sqrt(1j))\n",
    "print (np.exp(3*np.pi/4*1j))\n",
    "print( np.real(np.sqrt(1j)*1j))\n"
   ]
  },
  {
   "cell_type": "markdown",
   "metadata": {},
   "source": [
    "${I_n}(x) = {i^{ - n}}{J_n}(ix)$\n",
    "\n",
    "${J_n}(x{e^{\\frac{{3\\pi i}}{4}}}) = {{\\mathop{\\rm ber}\\nolimits} _n}(x) + i{{\\mathop{\\rm bei}\\nolimits} _n}(x)$\n",
    "\n",
    "$\\frac{{{R_{ac}}}}{{{R_{dc}}}} = {\\rm{Re}}(\\frac{{{r_o}}}{{{\\delta _o}}}\\frac{{\\sqrt j }}{{\\sqrt 2 }}\\frac{{{J_o}(j\\sqrt j \\sqrt 2 \\frac{{{r_o}}}{{{\\delta _o}}})}}{{{j^{ - 1}}{J_1}(j\\sqrt j \\sqrt 2 \\frac{{{r_o}}}{{{\\delta _o}}})}})$\n",
    "\n",
    "$\\alpha  = \\frac{{{r_o}}}{{{\\delta _o}}}$\n",
    "\n",
    "\n",
    "$\\frac{{{R_{ac}}}}{{{R_{dc}}}} = {\\rm{Re}}(\\alpha \\frac{{{e^{j\\frac{{3\\pi }}{4}}}}}{{\\sqrt 2 }}\\frac{{{J_o}({e^{j\\frac{{3\\pi }}{4}}}\\sqrt 2 \\alpha )}}{{{J_1}({e^{j\\frac{{3\\pi }}{4}}}\\sqrt 2 \\alpha )}})$\n",
    "\n",
    "\n",
    "$\\frac{{{R_{ac}}}}{{{R_{dc}}}} = {\\rm{Re}}(\\alpha \\frac{{{e^{j\\frac{{3\\pi }}{4}}}}}{{\\sqrt 2 }}\\frac{{{{{\\mathop{\\rm ber}\\nolimits} }_0}(\\sqrt 2 \\alpha ) + i{{{\\mathop{\\rm bei}\\nolimits} }_0}(\\sqrt 2 \\alpha )}}{{{{{\\mathop{\\rm ber}\\nolimits} }_1}(\\sqrt 2 \\alpha ) + i{{{\\mathop{\\rm bei}\\nolimits} }_1}(\\sqrt 2 \\alpha ))}})$"
   ]
  },
  {
   "cell_type": "code",
   "execution_count": null,
   "metadata": {},
   "outputs": [],
   "source": [
    "alpha=np.linspace(0.1,10,100) \n",
    "b=alpha*np.exp(np.pi*3/4*1j)*np.sqrt(2)\n",
    "ratioRac_Rdc= np.real(b/2*ss.jn(0,b)/ss.jn(1,b))\n",
    "plt.plot(alpha,ratioRac_Rdc)\n",
    "plt.xlabel('ro/delta_o ')\n",
    "plt.ylabel('Rac/Rdc' )\n",
    "plt.title('Skin effect impact on the ac resistance  ')\n"
   ]
  },
  {
   "cell_type": "markdown",
   "metadata": {},
   "source": [
    "## Skin and Proximity Effects"
   ]
  },
  {
   "cell_type": "markdown",
   "metadata": {},
   "source": [
    "![Skin Effect](img/Skin_proximity.jpg)\n",
    "\n",
    "Now let us compute ac resistance considering both the skin and proximity effect according to [9]. $N_l$ is the number of layers, $d$ is the diameter of the conductor, $p$ is the winding pitch, that is, the distance between the center of two adjancent conductors in the same layer, and $n$ is the order of the harmonic considering the fundamental, $n=1$, at the frequency $f_{sw}$."
   ]
  },
  {
   "cell_type": "code",
   "execution_count": null,
   "metadata": {},
   "outputs": [],
   "source": [
    "delta=np.sqrt(Ro/(np.pi*mu0*fsw))\n",
    "d=2*0.000426\n",
    "p=d\n",
    "A=(np.pi/4)**(3/4)*d/delta*np.sqrt(d/p)\n",
    "n=1\n",
    "Rac_s=sqrt(n)*A* (np.sinh(2*A*np.sqrt(n))+np.sin(2*A*np.sqrt(n)))/(np.cosh(2*A*np.sqrt(n))-np.cos(2*A*np.sqrt(n)))\n",
    "NL=3\n",
    "B=2*(NL**2-1)/3\n",
    "Rac_p=sqrt(n)*A*B*(np.sinh(2*A*np.sqrt(n))-np.sin(2*A*np.sqrt(n)))/(np.cosh(2*A*np.sqrt(n))+np.cos(2*A*np.sqrt(n)))\n",
    "\n",
    "print( 'Rac_s/Rdc=',Rac_s)\n",
    "print( 'Rac_p/Rdc=',Rac_p)\n",
    "print(r1)"
   ]
  },
  {
   "cell_type": "markdown",
   "metadata": {},
   "source": [
    "## Flyback Transformer  - Coupled Inductor with two windings"
   ]
  },
  {
   "cell_type": "markdown",
   "metadata": {},
   "source": [
    "![Skin Effect](img/Flyback Inductor2.jpg)"
   ]
  },
  {
   "cell_type": "markdown",
   "metadata": {},
   "source": [
    "Initially,  let us assume that there is no leakage flux, that is, all flux is common to both windings. From the Faraday's law it is possible to obtain the voltage across the inductor windings, that is: \n",
    "\n",
    "${v_1} = {N_1}\\frac{{d\\varphi }}{{dt}}$\n",
    "\n",
    "${v_2} = {N_2}\\frac{{d\\varphi }}{{dt}}$.\n",
    "\n",
    "Now, from the Ampere's law, \n",
    "\n",
    "${N_1}{i_1} + {N_2}{i_2} = \\oint {{\\mathbf{H}}d{\\mathbf{l}}}$.\n",
    "\n",
    "Now, by taking into account that the FMM droop is almost entirely across the air gap, results:\n",
    "\n",
    "${N_1}{i_1} + {N_2}{i_2} = H{l_g}$.\n",
    "\n",
    "In the air gap the magnet field and the flux density are related by the air permeability, ${\\mu _0}$, therefore:\n",
    "\n",
    "${N_1}{i_1} + {N_2}{i_2} = \\frac{{B{l_g}}}{{{\\mu _0}}}$.\n",
    "\n",
    "By negleting the  flux fringing\n",
    "\n",
    "\n",
    "${N_1}{i_1} + {N_2}{i_2} = \\frac{{\\varphi {l_g}}}{{{A_e}{\\mu _0}}}$\n",
    "\n",
    "or\n",
    "\n",
    "${N_1}{i_1} + {N_2}{i_2} = \\varphi {\\Re _g}$\n",
    "\n",
    "where $ {\\Re _g}$ is the total air gap reluctance.\n",
    "\n",
    "Note that:\n",
    "\n",
    "$\\varphi  = \\frac{{{N_1}}}{{{\\Re _g}}}{i_1} + \\frac{{{N_2}}}{{{\\Re _g}}}{i_2}$.\n"
   ]
  },
  {
   "cell_type": "markdown",
   "metadata": {},
   "source": [
    "Now, by differentiating $\\varphi$ with respect to time, and multipling the result by $N_1$, results in the winding voltage\n",
    "\n",
    "${v_1} = \\frac{{N_1^2}}{{{\\Re _g}}}\\frac{{d{i_1}}}{{dt}} + \\frac{{{N_1}{N_2}}}{{{\\Re _g}}}\\frac{{d{i_2}}}{{dt}}$."
   ]
  },
  {
   "cell_type": "markdown",
   "metadata": {},
   "source": [
    "Similarly, the voltage across the winding two, $v_2$, is:\n",
    "\n",
    "${v_2} = \\frac{{{N_1}{N_2}}}{{{\\Re _g}}}\\frac{{d{i_1}}}{{dt}} + \\frac{{N_2^2}}{{{\\Re _g}}}\\frac{{d{i_2}}}{{dt}}$."
   ]
  },
  {
   "cell_type": "markdown",
   "metadata": {},
   "source": [
    "The above equations can be expressed in a compact matrix form  as:"
   ]
  },
  {
   "cell_type": "markdown",
   "metadata": {},
   "source": [
    "$\\left[ {\\begin{array}{*{20}{c}}\n",
    "  {{L_{11}}}&{{M_{12}}} \\\\ \n",
    "  {{M_{12}}}&{{L_{22}}} \n",
    "\\end{array}} \\right]\\frac{d}{{dt}}\\left[ {\\begin{array}{*{20}{c}}\n",
    "  {{i_1}} \\\\ \n",
    "  {{i_2}} \n",
    "\\end{array}} \\right] = \\left[ {\\begin{array}{*{20}{c}}\n",
    "  {{v_1}} \\\\ \n",
    "  {{v_2}} \n",
    "\\end{array}} \\right]$"
   ]
  },
  {
   "cell_type": "markdown",
   "metadata": {},
   "source": [
    "where ${L_{11}} $ and ${L_{22}} $ are known as self inductances of windings one and  two and are given by:\n",
    "\n",
    "${L_{11}} = \\frac{{N_1^2}}{{{\\Re _g}}}$\n",
    "\n",
    "${L_{22}} = \\frac{{N_2^2}}{{{\\Re _g}}}$\n",
    "\n",
    "and \n",
    "\n",
    "${M_{12}} = k\\frac{{{N_1}{N_2}}}{{{\\Re _g}}}$"
   ]
  },
  {
   "cell_type": "markdown",
   "metadata": {},
   "source": [
    "is the mutual inductance. Note that a coupling coefficient, $k$, has been introduced to take into account that there is leakage flux. From the above equation we have:\n",
    "\n",
    "$\\frac{{{L_{11}}}}{{{L_{22}}}} = \\frac{{N_1^2}}{{N_2^2}}$"
   ]
  },
  {
   "cell_type": "markdown",
   "metadata": {},
   "source": [
    "$k = \\frac{{{M_{12}}}}{{\\sqrt {{L_{11}}{L_{22}}} }}$."
   ]
  },
  {
   "cell_type": "markdown",
   "metadata": {},
   "source": [
    "The coupling coefficient is $0 > k > 1$. In an inductor where the coupling between the windings are strong $k$ is close to one, that is $k \\approx 1$ ."
   ]
  },
  {
   "cell_type": "code",
   "execution_count": null,
   "metadata": {},
   "outputs": [],
   "source": [
    "-"
   ]
  }
 ],
 "metadata": {
  "kernelspec": {
   "display_name": "Python 3",
   "language": "python",
   "name": "python3"
  },
  "language_info": {
   "codemirror_mode": {
    "name": "ipython",
    "version": 3
   },
   "file_extension": ".py",
   "mimetype": "text/x-python",
   "name": "python",
   "nbconvert_exporter": "python",
   "pygments_lexer": "ipython3",
   "version": "3.6.5"
  }
 },
 "nbformat": 4,
 "nbformat_minor": 2
}
