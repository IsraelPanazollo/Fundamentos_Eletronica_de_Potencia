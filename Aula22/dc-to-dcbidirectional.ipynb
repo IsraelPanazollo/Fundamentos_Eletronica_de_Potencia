{
 "cells": [
  {
   "cell_type": "markdown",
   "metadata": {
    "slideshow": {
     "slide_type": "slide"
    }
   },
   "source": [
    "\n",
    "##  Bidirectional dc-to-dc converter\n",
    "##### Professor Humberto Pinheiro, Ph.D.\n",
    "##### Fundamentos de Eletrônica de Potência - DPEE 1072\n"
   ]
  },
  {
   "cell_type": "code",
   "execution_count": 1,
   "metadata": {
    "slideshow": {
     "slide_type": "skip"
    }
   },
   "outputs": [],
   "source": [
    "import numpy as np\n",
    "from numpy import pi\n",
    "from scipy import sqrt, exp, cos, matrix, vstack, hstack, zeros\n",
    "from scipy.linalg import block_diag\n",
    "import matplotlib.pyplot as plt\n",
    "import mpld3\n",
    "import math as m\n",
    "import cmath\n",
    "import sympy as sp\n",
    "sp.init_printing()"
   ]
  },
  {
   "cell_type": "markdown",
   "metadata": {
    "slideshow": {
     "slide_type": "slide"
    }
   },
   "source": [
    "## Introduction\n",
    "* Dc-to-dc converter are widely used to interface dc links with diferent voltages in applications such as UPS, Electrical Vehicles and Energy store systems [1].\n",
    "![dc-to-dc2.png](dc-to-dc2.png)\n"
   ]
  },
  {
   "cell_type": "markdown",
   "metadata": {
    "slideshow": {
     "slide_type": "skip"
    }
   },
   "source": [
    " The transistors $Q_1$ and $Q_2$ are controlled in a complementary way, that is, when $Q_1$ is on the transistor $Q_2$ is off. Similarly, when $Q_2$ is on $Q_1$ is off. It is essential to mention that, in practice, a small deadtime is required to be introduced during the transitions $v_{gs}$ signals of $Q_1$ and $Q_2$. This is to avoid short circuits and possible damage to the transistors. The duration of the deadtime can be defined from the transistor datasheet switching parameters."
   ]
  },
  {
   "cell_type": "markdown",
   "metadata": {
    "slideshow": {
     "slide_type": "slide"
    }
   },
   "source": [
    " \n",
    " ![dc-to-dc bidirectinal1.png](PWM0.png)\n",
    "                (a)Asymmetric Regular Sampled PWM.  $T_s=0.5T_{sw}$\n",
    " ![dc-to-dc bidirectinal1.png](PWM.png)\n",
    "                (b)Symmetric Regular Sampled PWM.    $T_s=T_{sw}$\n",
    " ![dc-to-dc bidirectinal1.png](PWM2.png)\n",
    "                (c) Regular Sampled PWM where $T_s=2T_{sw}$.\n",
    "                \n",
    "  $T_s$: Sampling Period.\n",
    "  \n",
    "  $T_{sw}$: Switching Period."
   ]
  },
  {
   "cell_type": "markdown",
   "metadata": {
    "slideshow": {
     "slide_type": "skip"
    }
   },
   "source": [
    "The above figure also indicates the signal that defines the interruption service routine execution: the green arrow. In addition, it is also indicated the time duration of the AD conversion, the controller, and modulation. In the above figure (b), the switching and the sampling frequency and equal, resulting in what is known as symmetric regular sampled PWM. Figures (a) and (c) can be selected depending on the computational power available.  "
   ]
  },
  {
   "cell_type": "code",
   "execution_count": 2,
   "metadata": {
    "slideshow": {
     "slide_type": "slide"
    }
   },
   "outputs": [
    {
     "name": "stdout",
     "output_type": "stream",
     "text": [
      " fsw= 100.0 kHz\n",
      " T= 10.0 us\n",
      " d= 0.5\n"
     ]
    }
   ],
   "source": [
    "Prated=3000\n",
    "E1=400\n",
    "E2=200   \n",
    "d=200/400  \n",
    "fsw=100000\n",
    "T=1/fsw\n",
    "print ( ' fsw=', fsw/1000,'kHz')\n",
    "print ( ' T=', T*10**6,'us')\n",
    "print( ' d=',d)\n"
   ]
  },
  {
   "cell_type": "markdown",
   "metadata": {
    "slideshow": {
     "slide_type": "slide"
    }
   },
   "source": [
    "The operation of this converter is similar to a Buck in CCM, that is, it has two operation stages and the inductor current ripple can be expressed as:\n",
    "\n",
    "${I_M} - {I_m} = \\Delta I = {\\rm{ }}\\frac{{{E_1} - {E_2}}}{L}dT{\\rm{  }}$\n",
    "\n",
    "The maximum and minimum values os the current can be expressed as:\n",
    "\n",
    "${I_M} =I_{L_{av}}+ \\frac{\\Delta I}{2} $\n",
    "\n",
    "${I_m} =I_{L_{av}}- \\frac{\\Delta I}{2} $\n",
    "\n",
    "where\n",
    "\n",
    "$I_{L_{av}}=\\frac{P_{rated}}{E_2}$\n",
    "\n",
    "Let us assume that $I_M$ and $I_m$ are greater than zero, then energy associated with the turn-off the transistor $Q_1$ must be compute for $I_M$ and the energy associated wiht the turn on of $Q_1$ must be compute for $I_m$. The turn-on and turn-off losses associates $Q_2$ are zero but there is recovery losses associated with its body diode.\n",
    "In order to exemplify the design let us assum a \n",
    "current ripple of 100% peak-to-peak.\n"
   ]
  },
  {
   "cell_type": "code",
   "execution_count": 3,
   "metadata": {
    "slideshow": {
     "slide_type": "slide"
    }
   },
   "outputs": [
    {
     "name": "stdout",
     "output_type": "stream",
     "text": [
      " L= 66.66666666666667 uH\n",
      " I_M= 22.5 A\n",
      " I_m= 7.5 A\n"
     ]
    }
   ],
   "source": [
    "IL_av=Prated/E2\n",
    "Delta_I=1*IL_av\n",
    "L=(E1-E2)/Delta_I*d*T\n",
    "print ( ' L=', L*10**6,'uH')\n",
    "I_M=IL_av+Delta_I/2\n",
    "I_m=IL_av-Delta_I/2\n",
    "print ( ' I_M=', I_M,'A')\n",
    "print ( ' I_m=', I_m,'A')"
   ]
  },
  {
   "cell_type": "markdown",
   "metadata": {
    "slideshow": {
     "slide_type": "slide"
    }
   },
   "source": [
    "Let us initially select the SiC MOSFET \n",
    "\n",
    "![dc-to-dc bidirectinal1.png](MOSFET.png)\n",
    "\n",
    "\n",
    "https://www.wolfspeed.com/media/downloads/1628/C3M0060065D.pdf\n"
   ]
  },
  {
   "cell_type": "markdown",
   "metadata": {
    "slideshow": {
     "slide_type": "subslide"
    }
   },
   "source": [
    "The transistor manufacture provides the energies associated with the commutations, in this case, for example, one has:\n",
    "![dc-to-dc bidirectinal1.png](energies.png)"
   ]
  },
  {
   "cell_type": "markdown",
   "metadata": {},
   "source": [
    "From the energy curves above we have:"
   ]
  },
  {
   "cell_type": "code",
   "execution_count": 4,
   "metadata": {
    "slideshow": {
     "slide_type": "subslide"
    }
   },
   "outputs": [
    {
     "name": "stdout",
     "output_type": "stream",
     "text": [
      "E_on= 46.25535714285714 uJ\n",
      "E_off= 45.27500000000007 uJ\n",
      "E_total= 91.53035714285721 uJ\n",
      "Total Commutation Losses= 9.153035714285721 W\n",
      "Irms_Q1= 11.0397010829098 A\n",
      "Q1 Conduction Losses= 7.31250000000000 W\n",
      "Total Q1 Losses= 16.4655357142857 W\n",
      "Irms_Q2= 11.0397010829098 A\n",
      "Q2 Conduction Losses= 7.31249999999999 W\n",
      "Total Q2 Losses= 7.31249999999999 W\n",
      "Total Power Semiconductor losses= 23.7780357142857 W\n"
     ]
    }
   ],
   "source": [
    "x=[5,10,15,20,25]\n",
    "yoff=[16,15,21,40,50]\n",
    "yon=[40,57,93,145,214]\n",
    "pol_on=np.polyfit(x,yon,3)\n",
    "pol_off=np.polyfit(x,yoff,3)\n",
    "\n",
    "\n",
    "current=I_m\n",
    "Eon=0\n",
    "for c, p in enumerate(pol_on):\n",
    "    Eon += p * I_m ** (3 - c)\n",
    "\n",
    "Eoff=0\n",
    "for c, p in enumerate(pol_off):\n",
    "    Eoff += p * I_M ** (3 - c)    \n",
    "Etotal=Eon+Eoff\n",
    "print( 'E_on=',Eon,'uJ')\n",
    "print( 'E_off=',Eoff,'uJ')\n",
    "print( 'E_total=',Etotal,'uJ')\n",
    "Pcomm_Q1=(Etotal*10**-6)*fsw;\n",
    "print( 'Total Commutation Losses=',Pcomm_Q1,'W')\n",
    "\n",
    "Rdson=60*10**-3\n",
    "t=sp.symbols('t')\n",
    "Irms_Q1=sp.sqrt(1/T*sp.integrate( (I_m+(E1-E2)*t/L)**2,(t,0,d*T)))\n",
    "print('Irms_Q1=',Irms_Q1,'A')\n",
    "Pcond_Q1=Rdson*Irms_Q1**2\n",
    "P_total_Q1=Pcond_Q1+Pcomm_Q1;\n",
    "print('Q1 Conduction Losses=',Pcond_Q1,'W')\n",
    "print('Total Q1 Losses=',P_total_Q1,'W')\n",
    "\n",
    "Irms_Q2=sp.sqrt(1/T*sp.integrate( (I_M-(E2*(t-d*T))/L)**2,(t,d*T,T)))\n",
    "print('Irms_Q2=',Irms_Q2,'A')\n",
    "Pcond_Q2=Rdson*Irms_Q2**2;\n",
    "P_total_Q2=Pcond_Q2+0;\n",
    "print('Q2 Conduction Losses=',Pcond_Q2,'W')\n",
    "print('Total Q2 Losses=',P_total_Q2,'W')\n",
    "\n",
    "\n",
    "print ('Total Power Semiconductor losses=',P_total_Q2+P_total_Q1,'W')"
   ]
  },
  {
   "cell_type": "markdown",
   "metadata": {
    "slideshow": {
     "slide_type": "slide"
    }
   },
   "source": [
    "### Thermal Model\n",
    "The heatsink can be defined from the thermal model below\n",
    "![dc-to-dc bidirectinal1.png](ThermalModel.png)"
   ]
  },
  {
   "cell_type": "markdown",
   "metadata": {
    "slideshow": {
     "slide_type": "subslide"
    }
   },
   "source": [
    " \n",
    " Le us assume that $P_{Q1}$ is greater than $P_{Q2}$ then\n",
    " \n",
    " ${R_{heatsink}} = \\frac{(T_{J_{Q1}} - {R_{\\theta JC}}P_{Q1})-T_{amb}}{P_{Q1}+P_{Q2}}$\n",
    " "
   ]
  },
  {
   "cell_type": "code",
   "execution_count": 5,
   "metadata": {
    "slideshow": {
     "slide_type": "subslide"
    }
   },
   "outputs": [
    {
     "name": "stdout",
     "output_type": "stream",
     "text": [
      "Heatsink Thermal Resistance= 0.996681135802098 C/W\n"
     ]
    }
   ],
   "source": [
    "TJ_Q1=100\n",
    "RJC=0.99\n",
    "Tamb=60\n",
    "R_heatsink=((TJ_Q1-RJC*P_total_Q1)-Tamb)/(P_total_Q2+P_total_Q1)\n",
    "print('Heatsink Thermal Resistance=',R_heatsink,'C/W')"
   ]
  },
  {
   "cell_type": "markdown",
   "metadata": {
    "slideshow": {
     "slide_type": "slide"
    }
   },
   "source": [
    "![dc-to-dc bidirectinal1.png](Dissipador.png)\n",
    "![dc-to-dc bidirectinal1.png](CorrenctionFactor.png)\n",
    "\n",
    "https://www.brazelli.com.br/brazelli-dissipadores.pdf"
   ]
  },
  {
   "cell_type": "markdown",
   "metadata": {
    "slideshow": {
     "slide_type": "slide"
    }
   },
   "source": [
    "The required dimentions for a heatsink with natural cooling is:"
   ]
  },
  {
   "cell_type": "code",
   "execution_count": 6,
   "metadata": {
    "slideshow": {
     "slide_type": "subslide"
    }
   },
   "outputs": [
    {
     "name": "stdout",
     "output_type": "stream",
     "text": [
      "Correction Factor= 1.596774193548387\n",
      "width= 21.5 cm\n",
      "depth= 7.5 cm\n",
      "height= 4.0 cm\n",
      "Volume of the Heatsink= 0.6450000000000001 Liters\n"
     ]
    }
   ],
   "source": [
    "w=0.215\n",
    "d=0.075\n",
    "Factor=0.99/0.62\n",
    "print ('Correction Factor=',Factor)\n",
    "h=.04\n",
    "print('width=',w*100,'cm')\n",
    "print('depth=',d*100,'cm')\n",
    "print ('height=',h*100,'cm')\n",
    "Volume_heatsink=w*d*h*10**6\n",
    "print ('Volume of the Heatsink=',Volume_heatsink*10**-3,'Liters')"
   ]
  },
  {
   "cell_type": "markdown",
   "metadata": {
    "slideshow": {
     "slide_type": "slide"
    }
   },
   "source": [
    "## Inductor Design"
   ]
  },
  {
   "cell_type": "markdown",
   "metadata": {
    "slideshow": {
     "slide_type": "subslide"
    }
   },
   "source": [
    "Here the inductor will be design using the $A_eA_w$ method.\n",
    "\n",
    "$${A_e}{A_w} = \\frac{{L{I_{L\\_peak}}{I_{L\\_rms}}}}{{{B_{\\max }}{J_{\\max }}{k_w}}}({m^4})$$\n",
    "\n",
    "where\n",
    "\n",
    "$\\begin{array}{l}\n",
    "I(A)\\\\\n",
    "B(T)\\\\\n",
    "J(A/{m^2})\n",
    "\\end{array}$\n",
    "\n",
    "\n",
    "Typical values for the current density , $J$, are between $200$ to $400A/c{m^2}$ for switching mode power supply magnetics. On the other hand, the maximum flux density depends on the core material and its losses. Let us consider a ferrite core designed for the maximum flux density of $B_{max}$ expressed in $T$ ( Tesla).\n",
    "\n",
    "The inductor current can be expressed as:"
   ]
  },
  {
   "cell_type": "markdown",
   "metadata": {
    "slideshow": {
     "slide_type": "subslide"
    }
   },
   "source": [
    "${i_L} = \\left\\{ {\\begin{array}{*{20}{c}}\n",
    "{{I_m} + \\frac{{{E_1-E_2} }}{L}t}&\\forall &{0 < t \\le dT}\\\\\n",
    "{{I_M} - \\frac{{  {E_2}}}{L}(t - dT)}&\\forall &{dT < t \\le T}\n",
    "\\end{array}} \\right.$"
   ]
  },
  {
   "cell_type": "code",
   "execution_count": 7,
   "metadata": {
    "slideshow": {
     "slide_type": "subslide"
    }
   },
   "outputs": [
    {
     "name": "stdout",
     "output_type": "stream",
     "text": [
      "RMS value of the inductor current = 11.5663844826290 A\n",
      "Peak value of the inductor current = 22.5 A\n",
      "L = 66.66666666666667 uH\n"
     ]
    }
   ],
   "source": [
    "t=sp.symbols('t')\n",
    "Irms_inductor=sp.sqrt(1/T*(sp.integrate((I_M-E2*(t-d*T)/L)**2,(t,d*T,T))+sp.integrate((I_m+(E1-E2)*t/L)**2,(t,0,d*T))))\n",
    "print('RMS value of the inductor current =',Irms_inductor,'A')\n",
    "print('Peak value of the inductor current =', I_M, 'A')\n",
    "print ('L =', L*10**6,'uH')"
   ]
  },
  {
   "cell_type": "code",
   "execution_count": 8,
   "metadata": {
    "slideshow": {
     "slide_type": "subslide"
    }
   },
   "outputs": [
    {
     "name": "stdout",
     "output_type": "stream",
     "text": [
      "AeAw= 4.81932686776207 cm^4\n"
     ]
    }
   ],
   "source": [
    "Bmax=0.2\n",
    "Jmax=300*10**4\n",
    "kw=0.6\n",
    "AeAw=L*I_M*Irms_inductor/(Bmax*Jmax*kw)\n",
    "print( \"AeAw=\",AeAw*10**8,'cm^4')"
   ]
  },
  {
   "cell_type": "markdown",
   "metadata": {},
   "source": [
    "Note that $k_w$ is the window occupation factor. "
   ]
  },
  {
   "cell_type": "markdown",
   "metadata": {
    "slideshow": {
     "slide_type": "slide"
    }
   },
   "source": [
    "The Ferrite Core can be selected from the manufacture data sheets, for instance:\n",
    "\n",
    "https://www.mag-inc.com/\n",
    "\n",
    "https://www.magmattec.com.br/nucleo-de-ferrite\n",
    "\n",
    "https://product.tdk.com/info/en/products/ferrite/ferrite/ferrite-core/catalog.html\n",
    "\n",
    "Let us start by selecting a Ferrite E core with AeAw close to the previously computed, that is:\n",
    "![dc-to-dc bidirectinal1.png](Nucleo.png)"
   ]
  },
  {
   "cell_type": "code",
   "execution_count": 9,
   "metadata": {
    "slideshow": {
     "slide_type": "subslide"
    }
   },
   "outputs": [
    {
     "name": "stdout",
     "output_type": "stream",
     "text": [
      "Ae= 2.52 cm^2\n",
      "AeAw= 11.072880000000003 cm^4\n"
     ]
    }
   ],
   "source": [
    "E=2.95\n",
    "D=2.6\n",
    "F=1.26\n",
    "C=2\n",
    "M=(E-F)/2\n",
    "Aw=M*2*D\n",
    "Ae=F*C\n",
    "print ( 'Ae=', Ae,'cm^2')\n",
    "print ( 'AeAw=',Ae*Aw,'cm^4')"
   ]
  },
  {
   "cell_type": "markdown",
   "metadata": {
    "slideshow": {
     "slide_type": "slide"
    }
   },
   "source": [
    "Now let us select the number of turns to obtain the predefined peak value of the flux density, that is:"
   ]
  },
  {
   "cell_type": "code",
   "execution_count": 10,
   "metadata": {
    "slideshow": {
     "slide_type": "subslide"
    }
   },
   "outputs": [
    {
     "name": "stdout",
     "output_type": "stream",
     "text": [
      "L= 66.66666666666667 uH\n",
      "Number of Turns N= 29\n"
     ]
    }
   ],
   "source": [
    "N=L*I_M/(Bmax*Ae*10**(-4))\n",
    "print ( 'L=',L*10**6,'uH')\n",
    "print ( 'Number of Turns N=',np.int(N))"
   ]
  },
  {
   "cell_type": "markdown",
   "metadata": {
    "slideshow": {
     "slide_type": "subslide"
    }
   },
   "source": [
    "Usually, inductors use air gap to avoid the inductance dependence on the  core permeability. Thus, considering that the air gap reluctance is predominant in the inductor, the inductance can be expressed as:\n",
    "\n",
    "$L = \\frac{{{N^2}}}{{{\\Re _g}}} = \\frac{{{N^2}{\\mu _0}{A_e}}}{{{l_g}}}$\n",
    "\n",
    "or\n",
    "\n",
    "${l_g} = \\frac{{{N^2}{\\mu _0}{A_e}}}{L}$\n",
    "\n",
    "where\n",
    "\n",
    "${\\mu _0} = 4\\pi {10^{ - 7}}H/m$"
   ]
  },
  {
   "cell_type": "code",
   "execution_count": 11,
   "metadata": {
    "slideshow": {
     "slide_type": "subslide"
    }
   },
   "outputs": [
    {
     "name": "stdout",
     "output_type": "stream",
     "text": [
      "L= 66.66666666666667\n",
      "N= 29\n",
      "Total Air gap length lg= 3.994824085563552 mm\n"
     ]
    }
   ],
   "source": [
    "mu0=4*np.pi*10**-7\n",
    "lg=np.int(N)**2*mu0*(Ae*10**(-4))/L\n",
    "print('L=',L*10**6 )\n",
    "print ( 'N=', np.int(N))\n",
    "print('Total Air gap length lg=',lg*1000,'mm')"
   ]
  },
  {
   "cell_type": "markdown",
   "metadata": {
    "slideshow": {
     "slide_type": "subslide"
    }
   },
   "source": [
    "![gap EE](gap.png)"
   ]
  },
  {
   "cell_type": "markdown",
   "metadata": {
    "slideshow": {
     "slide_type": "slide"
    }
   },
   "source": [
    "Now, let us select the conductor cross section. Note that the current desinty is:\n",
    "\n",
    "$J = \\frac{{{I_{L\\_rms}}}}{{{A_{cu}}}}$\n",
    "\n",
    "therefore,\n",
    "\n",
    "${A_{cu}} = \\frac{{{I_{L\\_rms}}}}{J}$"
   ]
  },
  {
   "cell_type": "code",
   "execution_count": 12,
   "metadata": {
    "slideshow": {
     "slide_type": "subslide"
    }
   },
   "outputs": [
    {
     "name": "stdout",
     "output_type": "stream",
     "text": [
      "Jmax= 300.0 cm^2\n",
      "Conductor total cross section, Acu= 3.85546149420965 mm^2\n"
     ]
    }
   ],
   "source": [
    "Acu=Irms_inductor/Jmax\n",
    "print ('Jmax=',Jmax*10**(-4),'cm^2')\n",
    "print ( 'Conductor total cross section, Acu=',Acu*10**6,'mm^2')"
   ]
  },
  {
   "cell_type": "markdown",
   "metadata": {
    "slideshow": {
     "slide_type": "slide"
    }
   },
   "source": [
    "## Copper Losses\n",
    "The length of the turn is estimated here as:"
   ]
  },
  {
   "cell_type": "code",
   "execution_count": 13,
   "metadata": {
    "slideshow": {
     "slide_type": "subslide"
    }
   },
   "outputs": [
    {
     "name": "stdout",
     "output_type": "stream",
     "text": [
      " Length of a turn lcu= 9.01 cm\n",
      " Total Length of the winding lcuT= 2.6815476190476186 m\n"
     ]
    }
   ],
   "source": [
    "lcu=(F+M)*2+(1.2*C)*2\n",
    "lcuT=lcu*N/100\n",
    "print ( ' Length of a turn lcu=',lcu,'cm')\n",
    "print ( ' Total Length of the winding lcuT=',lcuT,'m')"
   ]
  },
  {
   "cell_type": "markdown",
   "metadata": {
    "slideshow": {
     "slide_type": "subslide"
    }
   },
   "source": [
    " The dc resistance of the winding is \n",
    " \n",
    "${R_{dc}} = \\frac{{\\rho {l_{cuT}}}}{{{A_{cu}}}}$\n",
    " where\n",
    " \n",
    "$\\rho  = 1.68 \\times {10^{ - 8}}(1 + 0.00404(T - {20^0})){\\rm{  }}\\Omega {\\rm{/m}}$"
   ]
  },
  {
   "cell_type": "code",
   "execution_count": 14,
   "metadata": {
    "slideshow": {
     "slide_type": "subslide"
    }
   },
   "outputs": [
    {
     "name": "stdout",
     "output_type": "stream",
     "text": [
      " DC resistance of the winding Rdc= 0.0154612256119082 ohm\n"
     ]
    }
   ],
   "source": [
    "Ro=1.68*10**(-8)*(1+0.00404*(100-20))\n",
    "Rdc=Ro*lcuT/Acu\n",
    "print( ' DC resistance of the winding Rdc=',Rdc,'ohm')"
   ]
  },
  {
   "cell_type": "markdown",
   "metadata": {
    "slideshow": {
     "slide_type": "subslide"
    }
   },
   "source": [
    "The high frequency current components can be thought as circulating in an annular cylindrical equivalent conductor with width $\\delta$, which is known as skin depth. The equivalent ac resistance at a given frequency can be expressed as [3]:\n",
    "\n",
    "${R_{ac}} = {k_s}{R_{dc}}$\n",
    "\n",
    "where\n",
    "\n",
    "${k_s} = \\left\\{ {\\begin{array}{*{20}{c}}\n",
    "{1 + \\frac{{{{\\left( {\\frac{r}{\\delta }} \\right)}^4}}}{{48 + 0.8{{\\left( {\\frac{r}{\\delta }} \\right)}^4}}}}&{{\\rm{for}}}&{\\frac{r}{\\delta } < 1.7}\\\\\n",
    "{0.25 + 0.5\\frac{r}{\\delta } + \\frac{3}{{32}}{{\\left( {\\frac{r}{\\delta }} \\right)}^{ - 1}}}&{{\\rm{for}}}&{\\frac{r}{\\delta } > 1.7}\n",
    "\\end{array}} \\right.$\n",
    "\n",
    "and\n",
    "\n",
    "$\\delta  = \\sqrt {\\frac{\\rho }{{\\pi f{\\mu _0}}}} $.\n",
    "\n",
    "In the above equation:\n",
    "\n",
    "$r$ is the  radius  of the conductor\n",
    "\n",
    "$\\rho$ is the resistivity of the considered conductor\n",
    "\n",
    "$\\mu _0$ is the permeability of the air\n",
    "\n",
    "$f$  is the considered frequency component\n",
    "\n",
    "Alternatively, the AC resistance can be expressed as [4]:\n",
    "\n",
    "${R_{ac}} \\approx \\frac{{{l_{cuT}}\\rho }}{{\\pi (D - \\delta )\\delta }}$"
   ]
  },
  {
   "cell_type": "code",
   "execution_count": 15,
   "metadata": {
    "slideshow": {
     "slide_type": "subslide"
    }
   },
   "outputs": [
    {
     "name": "stdout",
     "output_type": "stream",
     "text": [
      "fsw= 100.0 kHz\n",
      "Skin_depth= 0.23729441603655016 mm\n",
      "Radius of the conductor, r= 1.10780481557351 mm\n",
      "Ratio r/Skin_depth = 4.66848244504362\n",
      "ks= 2.10981575243427\n",
      "DC resistance     , Rdc= 0.0154612256119082 ohm\n",
      "AC resistance @fsw, Rac= 0.0326203373479440 ohm\n",
      "AC resistance @fsw, Rac= 0.0404191712994634 ohm\n"
     ]
    }
   ],
   "source": [
    "\n",
    "Skin_depth=np.sqrt(Ro/(np.pi*fsw*mu0))\n",
    "print ('fsw=',fsw/1000,'kHz')\n",
    "print ('Skin_depth=',Skin_depth*1000,'mm')\n",
    "r1=sp.sqrt(Acu/np.pi)\n",
    "print ('Radius of the conductor, r=',r1*1000,'mm')\n",
    "print ('Ratio r/Skin_depth =',r1/Skin_depth)\n",
    "ks=1+( (r1/Skin_depth)**4 )/( 48 + 0.8*(r1/Skin_depth)**4 )\n",
    "##ks=0.25+0.5*(r1/Skin_depth)+3/32*(r1/Skin_depth)**(-1)\n",
    "print('ks=',ks)\n",
    "Rac=ks*Rdc\n",
    "print('DC resistance     , Rdc=',Rdc,'ohm')\n",
    "print('AC resistance @fsw, Rac=',Rac,'ohm')\n",
    "print('AC resistance @fsw, Rac=',Ro*lcuT/(np.pi*(2*sp.sqrt(Acu/np.pi)-Skin_depth)*Skin_depth), 'ohm' )\n"
   ]
  },
  {
   "cell_type": "markdown",
   "metadata": {
    "slideshow": {
     "slide_type": "slide"
    }
   },
   "source": [
    "${P_{cu}} = {R_{dc}}I_{L\\_av}^2 + \\frac{{{R_{dc}}}}{2}\\sum\\limits_h^\\infty  {{k_{s\\_h}}I_h^2}$\n",
    "\n",
    "Here just the amplitude, peak value, of the inductor current component at $f_{sw}$ will be considered and it can be approximate as:"
   ]
  },
  {
   "cell_type": "code",
   "execution_count": 16,
   "metadata": {
    "slideshow": {
     "slide_type": "subslide"
    }
   },
   "outputs": [],
   "source": [
    "Iac_fsw=Delta_I/2"
   ]
  },
  {
   "cell_type": "code",
   "execution_count": 17,
   "metadata": {
    "slideshow": {
     "slide_type": "subslide"
    }
   },
   "outputs": [
    {
     "name": "stdout",
     "output_type": "stream",
     "text": [
      "Copper losses Pcu= 4.39622275059026 W\n"
     ]
    }
   ],
   "source": [
    "Pcu=Rdc*IL_av**2+Rdc/2*ks*(Iac_fsw)**2\n",
    "print( 'Copper losses Pcu=',Pcu,'W')"
   ]
  },
  {
   "cell_type": "markdown",
   "metadata": {
    "slideshow": {
     "slide_type": "subslide"
    }
   },
   "source": [
    "Note that proximity effect losses can increase the estimanted copper losses [3].\n",
    "\n"
   ]
  },
  {
   "cell_type": "markdown",
   "metadata": {
    "slideshow": {
     "slide_type": "slide"
    }
   },
   "source": [
    "# Core Losses\n",
    "The core losses can be estimated from the core volume, flux density ac component at the switching frequency,$\\Delta B$, that is:\n",
    "\n",
    "$\\frac{{\\Delta B}}{{{B_{\\max }}}} = \\frac{{\\Delta H}}{{{H_{\\max }}}}=\\frac{{\\Delta I}}{{{I_{\\max }}}}$\n",
    "\n",
    "or\n",
    "\n",
    "$\\Delta B = \\frac{{\\Delta I}}{{{I_{\\max }}}}{B_{\\max }}$"
   ]
  },
  {
   "cell_type": "code",
   "execution_count": 18,
   "metadata": {
    "slideshow": {
     "slide_type": "subslide"
    }
   },
   "outputs": [
    {
     "name": "stdout",
     "output_type": "stream",
     "text": [
      " Delta B= 66.66666666666667 mT\n"
     ]
    }
   ],
   "source": [
    "DeltaB=Bmax*(Delta_I/2)/I_M\n",
    "print ( ' Delta B=',DeltaB*1000,'mT')"
   ]
  },
  {
   "cell_type": "markdown",
   "metadata": {
    "slideshow": {
     "slide_type": "subslide"
    }
   },
   "source": [
    "\n",
    "![Ferrite Core Losses Magnetics R material](corelosses.png)\n",
    "\n",
    "Source:https://www.mag-inc.com/Design/Technical-Documents/Ferrite-Core-Documents"
   ]
  },
  {
   "cell_type": "code",
   "execution_count": 19,
   "metadata": {
    "slideshow": {
     "slide_type": "subslide"
    }
   },
   "outputs": [
    {
     "name": "stdout",
     "output_type": "stream",
     "text": [
      "Core losses per volume  18 mW/cm^3\n",
      "Core Volume, Ve= 68.4 cm^3\n",
      "Estimated Core Losses, Pcore= 1.2312 W\n"
     ]
    }
   ],
   "source": [
    "Pcore_volume=18\n",
    "print ( 'Core losses per volume ',Pcore_volume,'mW/cm^3')\n",
    "Ve=34.2*2\n",
    "print ( 'Core Volume, Ve=',Ve,'cm^3')\n",
    "Pcore=Pcore_volume*Ve/1000\n",
    "print( 'Estimated Core Losses, Pcore=',Pcore,'W')"
   ]
  },
  {
   "cell_type": "markdown",
   "metadata": {
    "slideshow": {
     "slide_type": "slide"
    }
   },
   "source": [
    "## Total Inductor Losses¶"
   ]
  },
  {
   "cell_type": "code",
   "execution_count": 20,
   "metadata": {
    "slideshow": {
     "slide_type": "subslide"
    }
   },
   "outputs": [
    {
     "name": "stdout",
     "output_type": "stream",
     "text": [
      "Total inductor losses Pl_total= 5.62742275059026 W\n"
     ]
    }
   ],
   "source": [
    "PL_total=Pcore+Pcu\n",
    "print ( 'Total inductor losses Pl_total=',PL_total,'W')"
   ]
  },
  {
   "cell_type": "markdown",
   "metadata": {
    "slideshow": {
     "slide_type": "slide"
    }
   },
   "source": [
    "## Output capacitor Selection\n",
    "### Method of the current component by means of Fourier Series"
   ]
  },
  {
   "cell_type": "markdown",
   "metadata": {
    "slideshow": {
     "slide_type": "subslide"
    }
   },
   "source": [
    "The current through the output capacitor can be found by subtracting the inductor current from its average value, that is:\n",
    "\n",
    "$${i_{ac}}(t) = \\left\\{ {\\begin{array}{*{20}{c}}\n",
    "{{I_m} + \\frac{{{E_1} - {E_2}}}{L}t}-I_{av}&\\forall &{0 < t \\le dT}\\\\\n",
    "{{I_M} - \\frac{{  {E_2}}}{L}(t - dT)}- I_{av}&\\forall &{dT < t \\le T} \n",
    "\\end{array}} \\right.$$\n",
    "\n",
    "or\n",
    "\n",
    "$${i_{ac}}(t) = \\left\\{ {\\begin{array}{*{20}{c}}\n",
    "{-\\frac{\\Delta I}{2} + \\frac{{{E_1} - {E_2}}}{L}t}&\\forall &{0 < t \\le dT}\\\\\n",
    "{\\frac{\\Delta I}{2} - \\frac{{  {E_2}}}{L}(t - dT)}&\\forall &{dT < t \\le T} \n",
    "\\end{array}} \\right.$$\n",
    "\n",
    "\n",
    "\n",
    "where, as mentioned above\n",
    "\n",
    "$$d = \\frac{{{E_2}}}{{{E_1}}}$$\n",
    "\n",
    "\n",
    "$$\\Delta I = {\\rm{ }}\\frac{{{E_2}}}{L}(1 - d)T{\\rm{  }}$$"
   ]
  },
  {
   "cell_type": "code",
   "execution_count": 21,
   "metadata": {
    "slideshow": {
     "slide_type": "subslide"
    }
   },
   "outputs": [
    {
     "name": "stdout",
     "output_type": "stream",
     "text": [
      "15.000000000000002\n"
     ]
    },
    {
     "data": {
      "image/png": "[encoded data removed]",
      "text/latex": [
       "$$3000000.0 t - 7.5$$"
      ],
      "text/plain": [
       "3000000.0⋅t - 7.5"
      ]
     },
     "execution_count": 21,
     "metadata": {},
     "output_type": "execute_result"
    }
   ],
   "source": [
    "d=E2/E1\n",
    "DeltaI=E2/L*(1-d)*T\n",
    "print(DeltaI)\n",
    "t=sp.symbols('t')\n",
    "ia_s2=DeltaI/2-E2/L*(t-d*T)\n",
    "ia_s1=-DeltaI/2+(E1-E2)/L*t\n",
    "ia_s1"
   ]
  },
  {
   "cell_type": "markdown",
   "metadata": {
    "slideshow": {
     "slide_type": "subslide"
    }
   },
   "source": [
    "Since $i_{ac}$ is periodic with period $T$, its harmonic components can be obtained from the Fourier Series.\n",
    "\n",
    "The magnitude of the hamonic component at $f_{sw}$ is:\n",
    "$${I_{ac}} = \\sqrt {{{({I_{ac\\_\\cos }})}^2} + {{({I_{ac\\_\\sin }})}^2}} $$\n",
    "\n",
    "where\n",
    "$$\\begin{array}{l}\n",
    "{I_{ac\\_\\cos }} = \\frac{2}{T}\\int_0^T {{i_{ac}}} (t)\\cos (\\frac{{2\\pi }}{T}t)dt\\\\\n",
    "{I_{ac\\_\\sin }} = \\frac{2}{T}\\int_0^T {{i_{ac}}} (t)\\sin (\\frac{{2\\pi }}{T}t)dt\n",
    "\\end{array}$$"
   ]
  },
  {
   "cell_type": "code",
   "execution_count": 22,
   "metadata": {
    "slideshow": {
     "slide_type": "subslide"
    }
   },
   "outputs": [
    {
     "name": "stdout",
     "output_type": "stream",
     "text": [
      "The peak value of Capacitor ac current,Iac= 6.07927101854027 A  @ 100.0 kHz\n"
     ]
    }
   ],
   "source": [
    "Iac_cos1=2/T*( sp.integrate(ia_s1*sp.cos(2*pi/T*t),(t,0,d*T) ) )\n",
    "Iac_cos2=2/T*( sp.integrate(ia_s2*sp.cos(2*pi/T*t),(t,d*T,T)) )\n",
    "Iac_cos=Iac_cos1+Iac_cos2\n",
    "\n",
    "Iac_sin1=2/T*( sp.integrate(ia_s1*sp.sin(2*pi/T*t),(t,0,d*T) ) )\n",
    "Iac_sin2=2/T*( sp.integrate(ia_s2*sp.sin(2*pi/T*t),(t,d*T,T)) )\n",
    "Iac_sin=Iac_sin1+Iac_sin2\n",
    "Iac=sp.sqrt(Iac_sin**2+Iac_cos**2)\n",
    "print( 'The peak value of Capacitor ac current,Iac=', Iac, 'A  @',fsw/1000,'kHz')"
   ]
  },
  {
   "cell_type": "markdown",
   "metadata": {
    "slideshow": {
     "slide_type": "slide"
    }
   },
   "source": [
    "### Lets us find the amplitude of the output voltage ripple peak to peak  in time domain"
   ]
  },
  {
   "cell_type": "markdown",
   "metadata": {
    "slideshow": {
     "slide_type": "subslide"
    }
   },
   "source": [
    "$${v_c} = C\\frac{{d{i_c}}}{{dt}}$$\n",
    "or\n",
    "$${v_c}(t) = {v_c}({t_o}) + \\int_{{t_o}}^t {{i_c}(t)dt}$$"
   ]
  },
  {
   "cell_type": "markdown",
   "metadata": {
    "slideshow": {
     "slide_type": "subslide"
    }
   },
   "source": [
    "Let $t_0$ be the time instant when the capacitor current transiton from negative to positive \n",
    "and $t_2$ be the time instant when the capaticor current transition from positive to nevative within the period $T$\n",
    "\n",
    "$$\\begin{array}{l}\n",
    "{v_c}({t_2}) - {v_c}({t_o}) = \\Delta V = C\\int_{{t_o}}^{{t_2}} {{i_c}(t)dt} \\\\\n",
    "\\Delta Q = \\int_{{t_o}}^{{t_2}} {{i_c}(t)dt} \\\\\n",
    "\\Delta V = C\\Delta Q\n",
    "\\end{array}$$"
   ]
  },
  {
   "cell_type": "markdown",
   "metadata": {
    "slideshow": {
     "slide_type": "subslide"
    }
   },
   "source": [
    "First let us find $t_0$ by soving the equation that governs the capcitor current, that is:\n",
    "$$ -\\frac{\\Delta I}{2} + \\frac{{{E_1} - {E_2}}}{L}t_0=0$$"
   ]
  },
  {
   "cell_type": "code",
   "execution_count": 23,
   "metadata": {
    "slideshow": {
     "slide_type": "subslide"
    }
   },
   "outputs": [
    {
     "name": "stdout",
     "output_type": "stream",
     "text": [
      "2.5000000000000004 us\n"
     ]
    }
   ],
   "source": [
    "t0=DeltaI/2*L/(E1-E2)\n",
    "print( t0*10**6 ,'us')"
   ]
  },
  {
   "cell_type": "markdown",
   "metadata": {
    "slideshow": {
     "slide_type": "subslide"
    }
   },
   "source": [
    "Now, let us find $t_2$ by soving the equation that governs the capcitor current in the second stage, that is: \n",
    "$$\\frac{\\Delta I}{2} + \\frac{{ - {E_2}}}{L}(t_2 - dT)=0$$"
   ]
  },
  {
   "cell_type": "code",
   "execution_count": 24,
   "metadata": {
    "slideshow": {
     "slide_type": "subslide"
    }
   },
   "outputs": [
    {
     "name": "stdout",
     "output_type": "stream",
     "text": [
      "t2= 7.500000000000001 us\n"
     ]
    }
   ],
   "source": [
    "t2=DeltaI/2*L/E2+d*T\n",
    "print( 't2=',t2*10**6 ,'us')"
   ]
  },
  {
   "cell_type": "code",
   "execution_count": 25,
   "metadata": {
    "slideshow": {
     "slide_type": "subslide"
    }
   },
   "outputs": [
    {
     "name": "stdout",
     "output_type": "stream",
     "text": [
      "Ripple peak to peak = 4.0 V\n",
      "Ripple = 2.0 %\n",
      "Output Capacitor C= 4.68750000000001 uF\n"
     ]
    }
   ],
   "source": [
    "Delta_Q=( sp.integrate(ia_s1,(t,t0,d*T)) + sp.integrate(ia_s2,(t,d*T,t2)) )\n",
    "Delta_V=0.02*E2\n",
    "C=Delta_Q/Delta_V\n",
    "print ( 'Ripple peak to peak =',Delta_V,'V')\n",
    "print ( 'Ripple =',Delta_V/E2*100,'%')\n",
    "print ( 'Output Capacitor C=',C*10**6,'uF')"
   ]
  },
  {
   "cell_type": "markdown",
   "metadata": {
    "slideshow": {
     "slide_type": "slide"
    }
   },
   "source": [
    "![](Cap00.png)\n",
    "\n",
    "\n",
    "https://www.tdk-electronics.tdk.com/inf/20/20/ds/MMKP_B32641B_B32643B.pdf"
   ]
  },
  {
   "cell_type": "code",
   "execution_count": null,
   "metadata": {
    "slideshow": {
     "slide_type": "subslide"
    }
   },
   "outputs": [],
   "source": [
    "![](capacitor.png)"
   ]
  },
  {
   "cell_type": "code",
   "execution_count": null,
   "metadata": {
    "slideshow": {
     "slide_type": "subslide"
    }
   },
   "outputs": [],
   "source": [
    "![](cap3.png)"
   ]
  },
  {
   "cell_type": "markdown",
   "metadata": {
    "slideshow": {
     "slide_type": "subslide"
    }
   },
   "source": [
    "### Capacitor bank volume\n",
    "Let us consider 10 capacitors of .47uF in paralle"
   ]
  },
  {
   "cell_type": "code",
   "execution_count": 26,
   "metadata": {
    "slideshow": {
     "slide_type": "slide"
    }
   },
   "outputs": [
    {
     "name": "stdout",
     "output_type": "stream",
     "text": [
      "Total capacitor bank Volume= 36.63 cm^3\n"
     ]
    }
   ],
   "source": [
    "l=1.8 \n",
    "w=1.1*10\n",
    "h=1.85 \n",
    "Vcap=l*w*h\n",
    "print ( 'Total capacitor bank Volume=',Vcap,'cm^3')"
   ]
  },
  {
   "cell_type": "markdown",
   "metadata": {
    "slideshow": {
     "slide_type": "slide"
    }
   },
   "source": [
    "## Total Semicontutor plus Inductor Losses and Volume"
   ]
  },
  {
   "cell_type": "code",
   "execution_count": 40,
   "metadata": {
    "slideshow": {
     "slide_type": "subslide"
    }
   },
   "outputs": [
    {
     "data": {
      "image/png": "[encoded data removed]",
      "text/plain": [
       "<Figure size 432x288 with 1 Axes>"
      ]
     },
     "metadata": {},
     "output_type": "display_data"
    },
    {
     "name": "stdout",
     "output_type": "stream",
     "text": [
      "Total losses = 29.4054584648760 W\n",
      "Estimated efficiency = 99.0293323601596 %\n"
     ]
    },
    {
     "data": {
      "image/png": "[encoded data removed]",
      "text/plain": [
       "<Figure size 432x288 with 1 Axes>"
      ]
     },
     "metadata": {},
     "output_type": "display_data"
    },
    {
     "name": "stdout",
     "output_type": "stream",
     "text": [
      " Total Volume = 0.7842300000000001 L\n",
      " Power Density = 3.82540836234268 kW/dm^3\n"
     ]
    }
   ],
   "source": [
    "Pt=PL_total+P_total_Q2+Pcond_Q1+Pcomm_Q1\n",
    "\n",
    "\n",
    "labels = [\"Pcore\", \"Pcopper\", \"P_Q2\", \"P_Q1_cond\",\"P_Q1_comm\"]\n",
    "# Pie chart, where the slices will be ordered and plotted counter-clockwise:\n",
    "\n",
    "sizes = np.array([Pcore/Pt,Pcu/Pt,P_total_Q2/Pt,Pcond_Q1/Pt,Pcomm_Q1/Pt])\n",
    "explode = (0.1, 0.1, 0.1, 0.1,0.1)  # only \"explode\" the 2nd slice (i.e. 'Hogs')\n",
    "\n",
    "fig1, ax1 = plt.subplots()\n",
    "ax1.pie(sizes, explode=explode, labels=labels, autopct='%1.1f%%',\n",
    "        shadow=True, startangle=90)\n",
    "ax1.axis('equal')  # Equal aspect ratio ensures that pie is drawn as a circle.\n",
    "plt.title(\"Losses Distribution \")\n",
    "plt.show()\n",
    "print ( 'Total losses =',Pt,'W')\n",
    "print ( 'Estimated efficiency =', Prated/(Prated+Pt)*100,'%')\n",
    "\n",
    "## Volume\n",
    "\n",
    "labels11 = [\"Inductor\", \"Heatsink\",\"Capacitors\"]\n",
    "# Pie chart, where the slices will be ordered and plotted counter-clockwise:\n",
    "Vt=Ve*1.5+Volume_heatsink+Vcap\n",
    "sizes11 = np.array([Ve*1.5/Vt,Volume_heatsink/Vt,Vcap/Vt])\n",
    "explode11 = (0.1, 0.1,0.1)  # only \"explode\" the 2nd slice (i.e. 'Hogs')\n",
    "\n",
    "fig2, ax1 = plt.subplots()\n",
    "ax1.pie(sizes11, explode=explode11, labels=labels11, autopct='%1.1f%%',\n",
    "        shadow=True)\n",
    "ax1.axis('equal')  # Equal aspect ratio ensures that pie is drawn as a circle.\n",
    "plt.title(\" Heatsink, Inductor and Output Capacitors Volume\")\n",
    "plt.show()\n",
    "print (' Total Volume =',Vt/1000,'L')\n",
    "print (' Power Density =',Prated/1000/(Vt/1000), 'kW/dm^3')"
   ]
  },
  {
   "cell_type": "markdown",
   "metadata": {
    "slideshow": {
     "slide_type": "slide"
    }
   },
   "source": [
    "### References"
   ]
  },
  {
   "cell_type": "markdown",
   "metadata": {
    "slideshow": {
     "slide_type": "subslide"
    }
   },
   "source": [
    "[1]https://www.renesas.com/br/en/document/whp/design-considerations-bidirectional-dcdc-converter?language=en\n",
    "    \n",
    "HART, D. W. Eletrônica de Potência: análise e projetos de circuitos. – Porto Alegre: AMGH, 2012. \n",
    "\n",
    "PSIM - User's Guide - Version 11.1. POWERSIM INC, 2018.\n",
    "\n"
   ]
  }
 ],
 "metadata": {
  "celltoolbar": "Slideshow",
  "kernelspec": {
   "display_name": "Python 3",
   "language": "python",
   "name": "python3"
  },
  "language_info": {
   "codemirror_mode": {
    "name": "ipython",
    "version": 3
   },
   "file_extension": ".py",
   "mimetype": "text/x-python",
   "name": "python",
   "nbconvert_exporter": "python",
   "pygments_lexer": "ipython3",
   "version": "3.6.5"
  }
 },
 "nbformat": 4,
 "nbformat_minor": 2
}
