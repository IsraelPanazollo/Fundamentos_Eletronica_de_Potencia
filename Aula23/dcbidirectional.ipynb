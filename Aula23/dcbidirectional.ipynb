{
 "cells": [
  {
   "cell_type": "markdown",
   "metadata": {
    "slideshow": {
     "slide_type": "slide"
    }
   },
   "source": [
    "\n",
    "##  Bidirectional dc-to-dc converter with LCL filter\n",
    "###  Control Design\n",
    "##### Professor Humberto Pinheiro, Ph.D.\n",
    "##### Fundamentos de Eletrônica de Potência - DPEE 1072\n"
   ]
  },
  {
   "cell_type": "code",
   "execution_count": 2,
   "metadata": {
    "slideshow": {
     "slide_type": "skip"
    }
   },
   "outputs": [
    {
     "name": "stdout",
     "output_type": "stream",
     "text": [
      "Requirement already satisfied: numpy in c:\\users\\israe\\appdata\\local\\programs\\python\\python39\\lib\\site-packages (1.19.4)\n"
     ]
    },
    {
     "name": "stderr",
     "output_type": "stream",
     "text": [
      "WARNING: You are using pip version 20.3.3; however, version 21.0 is available.\n",
      "You should consider upgrading via the 'c:\\users\\israe\\appdata\\local\\programs\\python\\python39\\python.exe -m pip install --upgrade pip' command.\n"
     ]
    },
    {
     "name": "stdout",
     "output_type": "stream",
     "text": [
      "Collecting scipy\n",
      "  Downloading scipy-1.6.0-cp39-cp39-win_amd64.whl (32.7 MB)\n",
      "Requirement already satisfied: numpy>=1.16.5 in c:\\users\\israe\\appdata\\local\\programs\\python\\python39\\lib\\site-packages (from scipy) (1.19.4)\n",
      "Installing collected packages: scipy\n",
      "Successfully installed scipy-1.6.0\n"
     ]
    },
    {
     "name": "stderr",
     "output_type": "stream",
     "text": [
      "WARNING: You are using pip version 20.3.3; however, version 21.0 is available.\n",
      "You should consider upgrading via the 'c:\\users\\israe\\appdata\\local\\programs\\python\\python39\\python.exe -m pip install --upgrade pip' command.\n"
     ]
    },
    {
     "ename": "RuntimeError",
     "evalue": "The current Numpy installation ('c:\\\\users\\\\israe\\\\appdata\\\\local\\\\programs\\\\python\\\\python39\\\\lib\\\\site-packages\\\\numpy\\\\__init__.py') fails to pass a sanity check due to a bug in the windows runtime. See this issue for more information: https://tinyurl.com/y3dm3h86",
     "output_type": "error",
     "traceback": [
      "\u001b[1;31m---------------------------------------------------------------------------\u001b[0m",
      "\u001b[1;31mRuntimeError\u001b[0m                              Traceback (most recent call last)",
      "\u001b[1;32m<ipython-input-2-7deb142f2164>\u001b[0m in \u001b[0;36m<module>\u001b[1;34m\u001b[0m\n\u001b[0;32m      1\u001b[0m \u001b[0mget_ipython\u001b[0m\u001b[1;33m(\u001b[0m\u001b[1;33m)\u001b[0m\u001b[1;33m.\u001b[0m\u001b[0msystem\u001b[0m\u001b[1;33m(\u001b[0m\u001b[1;34m'pip install numpy'\u001b[0m\u001b[1;33m)\u001b[0m\u001b[1;33m\u001b[0m\u001b[1;33m\u001b[0m\u001b[0m\n\u001b[0;32m      2\u001b[0m \u001b[0mget_ipython\u001b[0m\u001b[1;33m(\u001b[0m\u001b[1;33m)\u001b[0m\u001b[1;33m.\u001b[0m\u001b[0msystem\u001b[0m\u001b[1;33m(\u001b[0m\u001b[1;34m'pip install scipy'\u001b[0m\u001b[1;33m)\u001b[0m\u001b[1;33m\u001b[0m\u001b[1;33m\u001b[0m\u001b[0m\n\u001b[1;32m----> 3\u001b[1;33m \u001b[1;32mimport\u001b[0m \u001b[0mnumpy\u001b[0m \u001b[1;32mas\u001b[0m \u001b[0mnp\u001b[0m\u001b[1;33m\u001b[0m\u001b[1;33m\u001b[0m\u001b[0m\n\u001b[0m\u001b[0;32m      4\u001b[0m \u001b[1;32mfrom\u001b[0m \u001b[0mnumpy\u001b[0m \u001b[1;32mimport\u001b[0m \u001b[0mpi\u001b[0m\u001b[1;33m\u001b[0m\u001b[1;33m\u001b[0m\u001b[0m\n\u001b[0;32m      5\u001b[0m \u001b[1;32mfrom\u001b[0m \u001b[0mscipy\u001b[0m \u001b[1;32mimport\u001b[0m \u001b[0msqrt\u001b[0m\u001b[1;33m,\u001b[0m \u001b[0mexp\u001b[0m\u001b[1;33m,\u001b[0m \u001b[0mcos\u001b[0m\u001b[1;33m,\u001b[0m \u001b[0mmatrix\u001b[0m\u001b[1;33m,\u001b[0m \u001b[0mvstack\u001b[0m\u001b[1;33m,\u001b[0m \u001b[0mhstack\u001b[0m\u001b[1;33m,\u001b[0m \u001b[0mzeros\u001b[0m\u001b[1;33m\u001b[0m\u001b[1;33m\u001b[0m\u001b[0m\n",
      "\u001b[1;32mc:\\users\\israe\\appdata\\local\\programs\\python\\python39\\lib\\site-packages\\numpy\\__init__.py\u001b[0m in \u001b[0;36m<module>\u001b[1;34m\u001b[0m\n\u001b[0;32m    303\u001b[0m \u001b[1;33m\u001b[0m\u001b[0m\n\u001b[0;32m    304\u001b[0m     \u001b[1;32mif\u001b[0m \u001b[0msys\u001b[0m\u001b[1;33m.\u001b[0m\u001b[0mplatform\u001b[0m \u001b[1;33m==\u001b[0m \u001b[1;34m\"win32\"\u001b[0m \u001b[1;32mand\u001b[0m \u001b[0msys\u001b[0m\u001b[1;33m.\u001b[0m\u001b[0mmaxsize\u001b[0m \u001b[1;33m>\u001b[0m \u001b[1;36m2\u001b[0m\u001b[1;33m**\u001b[0m\u001b[1;36m32\u001b[0m\u001b[1;33m:\u001b[0m\u001b[1;33m\u001b[0m\u001b[1;33m\u001b[0m\u001b[0m\n\u001b[1;32m--> 305\u001b[1;33m         \u001b[0m_win_os_check\u001b[0m\u001b[1;33m(\u001b[0m\u001b[1;33m)\u001b[0m\u001b[1;33m\u001b[0m\u001b[1;33m\u001b[0m\u001b[0m\n\u001b[0m\u001b[0;32m    306\u001b[0m \u001b[1;33m\u001b[0m\u001b[0m\n\u001b[0;32m    307\u001b[0m     \u001b[1;32mdel\u001b[0m \u001b[0m_win_os_check\u001b[0m\u001b[1;33m\u001b[0m\u001b[1;33m\u001b[0m\u001b[0m\n",
      "\u001b[1;32mc:\\users\\israe\\appdata\\local\\programs\\python\\python39\\lib\\site-packages\\numpy\\__init__.py\u001b[0m in \u001b[0;36m_win_os_check\u001b[1;34m()\u001b[0m\n\u001b[0;32m    300\u001b[0m                    \u001b[1;34m\"See this issue for more information: \"\u001b[0m\u001b[1;33m\u001b[0m\u001b[1;33m\u001b[0m\u001b[0m\n\u001b[0;32m    301\u001b[0m                    \"https://tinyurl.com/y3dm3h86\")\n\u001b[1;32m--> 302\u001b[1;33m             \u001b[1;32mraise\u001b[0m \u001b[0mRuntimeError\u001b[0m\u001b[1;33m(\u001b[0m\u001b[0mmsg\u001b[0m\u001b[1;33m.\u001b[0m\u001b[0mformat\u001b[0m\u001b[1;33m(\u001b[0m\u001b[0m__file__\u001b[0m\u001b[1;33m)\u001b[0m\u001b[1;33m)\u001b[0m \u001b[1;32mfrom\u001b[0m \u001b[1;32mNone\u001b[0m\u001b[1;33m\u001b[0m\u001b[1;33m\u001b[0m\u001b[0m\n\u001b[0m\u001b[0;32m    303\u001b[0m \u001b[1;33m\u001b[0m\u001b[0m\n\u001b[0;32m    304\u001b[0m     \u001b[1;32mif\u001b[0m \u001b[0msys\u001b[0m\u001b[1;33m.\u001b[0m\u001b[0mplatform\u001b[0m \u001b[1;33m==\u001b[0m \u001b[1;34m\"win32\"\u001b[0m \u001b[1;32mand\u001b[0m \u001b[0msys\u001b[0m\u001b[1;33m.\u001b[0m\u001b[0mmaxsize\u001b[0m \u001b[1;33m>\u001b[0m \u001b[1;36m2\u001b[0m\u001b[1;33m**\u001b[0m\u001b[1;36m32\u001b[0m\u001b[1;33m:\u001b[0m\u001b[1;33m\u001b[0m\u001b[1;33m\u001b[0m\u001b[0m\n",
      "\u001b[1;31mRuntimeError\u001b[0m: The current Numpy installation ('c:\\\\users\\\\israe\\\\appdata\\\\local\\\\programs\\\\python\\\\python39\\\\lib\\\\site-packages\\\\numpy\\\\__init__.py') fails to pass a sanity check due to a bug in the windows runtime. See this issue for more information: https://tinyurl.com/y3dm3h86"
     ]
    }
   ],
   "source": [
    "!pip install numpy\n",
    "!pip install scipy\n",
    "import numpy as np\n",
    "from numpy import pi\n",
    "from scipy import sqrt, exp, cos, matrix, vstack, hstack, zeros\n",
    "from scipy.linalg import block_diag\n",
    "import matplotlib.pyplot as plt\n",
    "import mpld3\n",
    "import math as m\n",
    "import cmath\n",
    "import sympy as sp\n",
    "sp.init_printing()\n",
    "import control"
   ]
  },
  {
   "cell_type": "markdown",
   "metadata": {
    "slideshow": {
     "slide_type": "slide"
    }
   },
   "source": [
    "## Introduction\n",
    "In this document, the design of a current controller for a bidirectional dc-to-dc converter is exemplified where a simple PI controller in continuous time domine will be considered.\n",
    "![dc-to-dc2.png](BI2.png)\n"
   ]
  },
  {
   "cell_type": "markdown",
   "metadata": {
    "slideshow": {
     "slide_type": "subslide"
    }
   },
   "source": [
    "The transistors $Q_1$ and $Q_2$ are controlled in a complementary way, that is, when $Q_1$ is on the transistor $Q_2$ is off. Similarly, when $Q_2$ is on $Q_1$ is off.\n",
    "\n",
    "For the controller design, it is considered that the average voltage synthesized by the converter over a sampling period $T_s$ is proportional to the duty cycle $d$. Besides, the open-loop gain cross over frequency is considered to be smaller than the switching and sampling frequencies. Therefore, the high-frequency ripple resulting from the PWM operation on the filter inductor current and capacitor voltage can be neglected. "
   ]
  },
  {
   "cell_type": "markdown",
   "metadata": {
    "slideshow": {
     "slide_type": "slide"
    }
   },
   "source": [
    " ![dc-to-dc bidirectinal1.png](PWM2.png)\n",
    "                (c) Regular Sampled PWM where $T_s=2T_{sw}$.\n",
    "                \n",
    "   $T_s$: Sampling Period.\n",
    "  \n",
    "  $T_{sw}$: Switching Period."
   ]
  },
  {
   "cell_type": "markdown",
   "metadata": {
    "slideshow": {
     "slide_type": "slide"
    }
   },
   "source": [
    "The above figure also indicates the signal that defines the interruption service routine execution: the green arrow. It is also indicated the time duration of the AD conversion, the controller, and modulation. This computation delay should be considered in the controller design.\n",
    "\n",
    " ![dc-to-dc bidirectinal1.png](Transportdelay.png)\n",
    "\n",
    "In the Figure above $T$ is the sampling period $T_s$ and $TPER$ is the peak value of the triangular carrier, which typically assumes values between zero and $TPER$.\n",
    "\n",
    "For frequencies below $\\frac{1}{2T_s}$ the following approximation is valid\n",
    "\n",
    "${e^{ - sT}} \\approx \\frac{{1 - sT}}{{1 + sT}}$\n"
   ]
  },
  {
   "cell_type": "code",
   "execution_count": 2,
   "metadata": {
    "slideshow": {
     "slide_type": "slide"
    }
   },
   "outputs": [
    {
     "name": "stdout",
     "output_type": "stream",
     "text": [
      " fsw= 100.0 kHz\n",
      " Tsw= 10.0 us\n",
      " fsample= 50.0 kHz\n",
      " Ts= 20.0 us\n",
      " L1= 65.99999999999999 uH\n",
      " C= 4.7 uF\n",
      " L2= 42.0 uH\n"
     ]
    }
   ],
   "source": [
    "Prated=3000\n",
    "E1=400\n",
    "E2=200   \n",
    "d=200/400  \n",
    "\n",
    "L1=66.*10**-6\n",
    "C=4.7*10**-6\n",
    "L2=42*10**-6\n",
    "fsw=100000\n",
    "Tsw=1/fsw\n",
    "Ts=2*Tsw\n",
    "print ( ' fsw=', fsw/1000,'kHz')\n",
    "print ( ' Tsw=', Tsw*10**6,'us')\n",
    "print ( ' fsample=', fsw/2/1000,'kHz')\n",
    "print ( ' Ts=', Ts*10**6,'us')\n",
    "print( ' L1=',L1*10**6,'uH')\n",
    "print( ' C=',C*10**6,'uF')\n",
    "print( ' L2=',L2*10**6,'uH')\n"
   ]
  },
  {
   "cell_type": "markdown",
   "metadata": {
    "slideshow": {
     "slide_type": "slide"
    }
   },
   "source": [
    "The $LCL$ filter can be represented in the frequency domain as:\n",
    "\n",
    "![dc-to-dc bidirectinal1.png](LCLfilter.png)"
   ]
  },
  {
   "cell_type": "markdown",
   "metadata": {
    "slideshow": {
     "slide_type": "subslide"
    }
   },
   "source": [
    " From the above circuit it is possible to obtain the blue part of the closed loop block diagram shown below\n",
    " \n",
    " ![dc-to-dc bidirectinal1.png](Blockdiagram.png)\n",
    "\n",
    "\n",
    "where \n",
    "\n",
    "${k_1} = \\frac{1}{{C{L_2}{L_1}}}$\n",
    "\n",
    "${\\omega _n} = \\sqrt {\\frac{{{L_1} + {L_2}}}{{C{L_1}{L_2}}}} $\n",
    "\n",
    "${k_2} = \\frac{1}{{{L_2}}}$\n",
    "\n",
    "${\\omega _{n2}} = \\sqrt {\\frac{1}{{C{L_1}}}} $\n",
    "\n",
    "For the controller design the battery voltage can be considered as an external disturbance. In addition the voltage $V_{in}=E_1$.\n",
    "\n",
    "The controller are represented by the block diagram in yellow. The PI controller has to paramenter to be adjusted, that are, the zero $z$ and the gain $k_{pi}$. The PI transferfuction can be expressed as:\n",
    "\n",
    "$\\frac{{{k_{pi}}(s + z)}}{s}$\n"
   ]
  },
  {
   "cell_type": "code",
   "execution_count": 3,
   "metadata": {
    "slideshow": {
     "slide_type": "subslide"
    }
   },
   "outputs": [
    {
     "name": "stdout",
     "output_type": "stream",
     "text": [
      "wn= 91047.14579638324 rad/s\n",
      "fn=wn/(2pi)= 14.490603307902873 kHz\n",
      "wn2= 56777.87093562022 rad/s\n",
      "fn2=wn2/(2pi)= 9.036478817637615 kHz\n",
      "k1= 76755395904332.08\n"
     ]
    }
   ],
   "source": [
    "wn=np.sqrt((L1+L2)/(L1*L2*C))\n",
    "print('wn=',wn,'rad/s')\n",
    "print( 'fn=wn/(2pi)=',wn/2/np.pi/1000,'kHz')\n",
    "wn2=np.sqrt(1/(L1*C))\n",
    "print('wn2=',wn2,'rad/s')\n",
    "print( 'fn2=wn2/(2pi)=',wn2/2/np.pi/1000,'kHz')\n",
    "k1=1/(C*L1*L2)\n",
    "print ( 'k1=',k1)"
   ]
  },
  {
   "cell_type": "markdown",
   "metadata": {
    "slideshow": {
     "slide_type": "slide"
    }
   },
   "source": [
    "### PI Design \n",
    "Here the rootlocus method will be used to select the parameters of the PI controller.  The open-loop transferfuction without the PI gain, $k_pi$, is:\n",
    "\n",
    "$OLTF = \\frac{{(s + z)}}{s}\\frac{{1 - sT}}{{1 + sT}}\\frac{{{k_1}}}{{s({s^2} + {\\omega _{n}}^2)}}$\n",
    "\n",
    "Let us select the zero and plot the rootlocus. \n",
    "\n",
    "\n"
   ]
  },
  {
   "cell_type": "code",
   "execution_count": 4,
   "metadata": {
    "slideshow": {
     "slide_type": "subslide"
    }
   },
   "outputs": [
    {
     "name": "stdout",
     "output_type": "stream",
     "text": [
      "\n",
      "s + 628.3\n",
      "---------\n",
      "    s\n",
      "\n",
      "\n",
      "-2e-05 s + 1\n",
      "------------\n",
      "2e-05 s + 1\n",
      "\n",
      "\n",
      "    3.07e+16\n",
      "----------------\n",
      "s^3 + 8.29e+09 s\n",
      "\n",
      "\n",
      "    -6.14e+11 s^2 + 3.032e+16 s + 1.929e+19\n",
      "----------------------------------------------\n",
      "2e-05 s^5 + s^4 + 1.658e+05 s^3 + 8.29e+09 s^2\n",
      "\n"
     ]
    }
   ],
   "source": [
    "\n",
    "z=2*np.pi*100\n",
    "PI=control.tf([1, z],[1,0])\n",
    "print(PI)\n",
    "TD=control.tf([-Ts,1],[Ts,1])\n",
    "\n",
    "print(TD)\n",
    "Gp=E1*k1*control.tf([1],[1,0,wn*wn,0])\n",
    "print(Gp)\n",
    "OLTF=PI*TD*Gp\n",
    "print(OLTF)\n",
    "\n"
   ]
  },
  {
   "cell_type": "code",
   "execution_count": 5,
   "metadata": {
    "slideshow": {
     "slide_type": "subslide"
    }
   },
   "outputs": [
    {
     "data": {
      "text/plain": [
       "<function matplotlib.pyplot.show(*args, **kw)>"
      ]
     },
     "execution_count": 5,
     "metadata": {},
     "output_type": "execute_result"
    },
    {
     "data": {
      "image/png": "[encoded data removed]",
      "text/plain": [
       "<Figure size 432x288 with 1 Axes>"
      ]
     },
     "metadata": {},
     "output_type": "display_data"
    }
   ],
   "source": [
    "[R,K]=control.root_locus(OLTF)\n",
    "plt.show\n"
   ]
  },
  {
   "cell_type": "markdown",
   "metadata": {
    "slideshow": {
     "slide_type": "slide"
    }
   },
   "source": [
    "Let us now select the gain $k_{pi}$\n"
   ]
  },
  {
   "cell_type": "code",
   "execution_count": 6,
   "metadata": {
    "slideshow": {
     "slide_type": "subslide"
    }
   },
   "outputs": [
    {
     "name": "stdout",
     "output_type": "stream",
     "text": [
      "[[-5.00000000e+04+0.00000000e+00j  0.00000000e+00+0.00000000e+00j\n",
      "   0.00000000e+00+0.00000000e+00j  3.63797881e-12-9.10471458e+04j\n",
      "   3.63797881e-12+9.10471458e+04j]\n",
      " [-5.00000000e+04+0.00000000e+00j  0.00000000e+00+0.00000000e+00j\n",
      "   0.00000000e+00+0.00000000e+00j  3.63797881e-12-9.10471458e+04j\n",
      "   3.63797881e-12+9.10471458e+04j]\n",
      " [-4.60894439e+04+0.00000000e+00j -1.29058201e+03+0.00000000e+00j\n",
      "  -1.29058196e+03+0.00000000e+00j -6.64696068e+02-9.00211564e+04j\n",
      "  -6.64696068e+02+9.00211564e+04j]\n",
      " [-4.27851808e+04+0.00000000e+00j -4.10857010e+03+0.00000000e+00j\n",
      "  -7.66583416e+02+0.00000000e+00j -1.16983283e+03-8.92466869e+04j\n",
      "  -1.16983283e+03+8.92466869e+04j]\n",
      " [-4.25611022e+04+0.00000000e+00j -4.27351450e+03+0.00000000e+00j\n",
      "  -7.61178535e+02+0.00000000e+00j -1.20210237e+03-8.91973804e+04j\n",
      "  -1.20210237e+03+8.91973804e+04j]\n",
      " [-4.23345926e+04+0.00000000e+00j -4.44029539e+03+0.00000000e+00j\n",
      "  -7.56196704e+02+0.00000000e+00j -1.23445767e+03-8.91479643e+04j\n",
      "  -1.23445767e+03+8.91479643e+04j]\n",
      " [-4.23337029e+04+0.00000000e+00j -4.44095065e+03+0.00000000e+00j\n",
      "  -7.56178006e+02+0.00000000e+00j -1.23458423e+03-8.91477710e+04j\n",
      "  -1.23458423e+03+8.91477710e+04j]\n",
      " [-4.23328132e+04+0.00000000e+00j -4.44160593e+03+0.00000000e+00j\n",
      "  -7.56159313e+02+0.00000000e+00j -1.23471079e+03-8.91475778e+04j\n",
      "  -1.23471079e+03+8.91475778e+04j]\n",
      " [-4.23319234e+04+0.00000000e+00j -4.44226124e+03+0.00000000e+00j\n",
      "  -7.56140626e+02+0.00000000e+00j -1.23483735e+03-8.91473845e+04j\n",
      "  -1.23483735e+03+8.91473845e+04j]\n",
      " [-4.23310337e+04+0.00000000e+00j -4.44291658e+03+0.00000000e+00j\n",
      "  -7.56121945e+02+0.00000000e+00j -1.23496391e+03-8.91471913e+04j\n",
      "  -1.23496391e+03+8.91471913e+04j]\n",
      " [-4.23274741e+04+0.00000000e+00j -4.44553825e+03+0.00000000e+00j\n",
      "  -7.56047276e+02+0.00000000e+00j -1.23547017e+03-8.91464182e+04j\n",
      "  -1.23547017e+03+8.91464182e+04j]\n",
      " [-4.23239140e+04+0.00000000e+00j -4.44816040e+03+0.00000000e+00j\n",
      "  -7.55972699e+02+0.00000000e+00j -1.23597644e+03-8.91456452e+04j\n",
      "  -1.23597644e+03+8.91456452e+04j]\n",
      " [-4.23203533e+04+0.00000000e+00j -4.45078303e+03+0.00000000e+00j\n",
      "  -7.55898212e+02+0.00000000e+00j -1.23648274e+03-8.91448721e+04j\n",
      "  -1.23648274e+03+8.91448721e+04j]\n",
      " [-4.23061042e+04+0.00000000e+00j -4.46127836e+03+0.00000000e+00j\n",
      "  -7.55601165e+02+0.00000000e+00j -1.23850815e+03-8.91417795e+04j\n",
      "  -1.23850815e+03+8.91417795e+04j]\n",
      " [-4.22918452e+04+0.00000000e+00j -4.47178141e+03+0.00000000e+00j\n",
      "  -7.55305554e+02+0.00000000e+00j -1.24053389e+03-8.91386865e+04j\n",
      "  -1.24053389e+03+8.91386865e+04j]\n",
      " [-4.22775765e+04+0.00000000e+00j -4.48229221e+03+0.00000000e+00j\n",
      "  -7.55011367e+02+0.00000000e+00j -1.24255997e+03-8.91355930e+04j\n",
      "  -1.24255997e+03+8.91355930e+04j]\n",
      " [-4.22204025e+04+0.00000000e+00j -4.52441348e+03+0.00000000e+00j\n",
      "  -7.53848647e+02+0.00000000e+00j -1.25066768e+03-8.91232148e+04j\n",
      "  -1.25066768e+03+8.91232148e+04j]\n",
      " [-4.21630694e+04+0.00000000e+00j -4.56666110e+03+0.00000000e+00j\n",
      "  -7.52707880e+02+0.00000000e+00j -1.25878081e+03-8.91108297e+04j\n",
      "  -1.25878081e+03+8.91108297e+04j]\n",
      " [-4.21055759e+04+0.00000000e+00j -4.60903695e+03+0.00000000e+00j\n",
      "  -7.51588428e+02+0.00000000e+00j -1.26689937e+03-8.90984377e+04j\n",
      "  -1.26689937e+03+8.90984377e+04j]\n",
      " [-4.18739721e+04+0.00000000e+00j -4.77985983e+03+0.00000000e+00j\n",
      "  -7.47311868e+02+0.00000000e+00j -1.29942809e+03-8.90488002e+04j\n",
      "  -1.29942809e+03+8.90488002e+04j]\n",
      " [-4.09199188e+04+0.00000000e+00j -5.48634784e+03+0.00000000e+00j\n",
      "  -7.32880713e+02+0.00000000e+00j -1.43042631e+03-8.88491267e+04j\n",
      "  -1.43042631e+03+8.88491267e+04j]\n",
      " [-3.99167236e+04+0.00000000e+00j -6.23589902e+03+0.00000000e+00j\n",
      "  -7.21637219e+02+0.00000000e+00j -1.56287005e+03-8.86476245e+04j\n",
      "  -1.56287005e+03+8.86476245e+04j]\n",
      " [-3.88563147e+04+0.00000000e+00j -7.03746280e+03+0.00000000e+00j\n",
      "  -7.12614506e+02+0.00000000e+00j -1.69680402e+03-8.84442499e+04j\n",
      "  -1.69680402e+03+8.84442499e+04j]\n",
      " [-3.37540501e+04+0.00000000e+00j -1.10598974e+04+0.00000000e+00j\n",
      "  -6.89217335e+02+0.00000000e+00j -2.24841757e+03-8.76110967e+04j\n",
      "  -2.24841757e+03+8.76110967e+04j]\n",
      " [-2.18338751e+04+0.00000000e+00j -2.18338745e+04+0.00000000e+00j\n",
      "  -6.76042134e+02+0.00000000e+00j -2.82810415e+03-8.67440346e+04j\n",
      "  -2.82810415e+03+8.67440346e+04j]\n",
      " [-2.13737882e+04-1.00760772e+04j -2.13737882e+04+1.00760772e+04j\n",
      "  -6.69297671e+02+0.00000000e+00j -3.29156293e+03-8.60578446e+04j\n",
      "  -3.29156293e+03+8.60578446e+04j]\n",
      " [-2.08917874e+04-1.43620586e+04j -2.08917874e+04+1.43620586e+04j\n",
      "  -6.64228637e+02+0.00000000e+00j -3.77609827e+03-8.53478783e+04j\n",
      "  -3.77609827e+03+8.53478783e+04j]\n",
      " [-2.08898586e+04-1.43765285e+04j -2.08898586e+04+1.43765285e+04j\n",
      "  -6.64211301e+02+0.00000000e+00j -3.77803578e+03-8.53450556e+04j\n",
      "  -3.77803578e+03+8.53450556e+04j]\n",
      " [-2.08879294e+04-1.43909857e+04j -2.08879294e+04+1.43909857e+04j\n",
      "  -6.64193983e+02+0.00000000e+00j -3.77997365e+03-8.53422326e+04j\n",
      "  -3.77997365e+03+8.53422326e+04j]\n",
      " [-2.08859998e+04-1.44054302e+04j -2.08859998e+04+1.44054302e+04j\n",
      "  -6.64176681e+02+0.00000000e+00j -3.78191188e+03-8.53394091e+04j\n",
      "  -3.78191188e+03+8.53394091e+04j]\n",
      " [-2.08840698e+04-1.44198622e+04j -2.08840698e+04+1.44198622e+04j\n",
      "  -6.64159395e+02+0.00000000e+00j -3.78385047e+03-8.53365853e+04j\n",
      "  -3.78385047e+03+8.53365853e+04j]\n",
      " [-2.08763463e+04-1.44774648e+04j -2.08763463e+04+1.44774648e+04j\n",
      "  -6.64090421e+02+0.00000000e+00j -3.79160849e+03-8.53252859e+04j\n",
      "  -3.79160849e+03+8.53252859e+04j]\n",
      " [-2.08686168e+04-1.45348687e+04j -2.08686168e+04+1.45348687e+04j\n",
      "  -6.64021712e+02+0.00000000e+00j -3.79937235e+03-8.53139801e+04j\n",
      "  -3.79937235e+03+8.53139801e+04j]\n",
      " [-2.08608813e+04-1.45920764e+04j -2.08608813e+04+1.45920764e+04j\n",
      "  -6.63953268e+02+0.00000000e+00j -3.80714206e+03-8.53026681e+04j\n",
      "  -3.80714206e+03+8.53026681e+04j]\n",
      " [-2.08298794e+04-1.48189912e+04j -2.08298794e+04+1.48189912e+04j\n",
      "  -6.63682102e+02+0.00000000e+00j -3.83827958e+03-8.52573560e+04j\n",
      "  -3.83827958e+03+8.52573560e+04j]\n",
      " [-2.07987809e+04-1.50429460e+04j -2.07987809e+04+1.50429460e+04j\n",
      "  -6.63415044e+02+0.00000000e+00j -3.86951162e+03-8.52119416e+04j\n",
      "  -3.86951162e+03+8.52119416e+04j]\n",
      " [-2.07675851e+04-1.52640739e+04j -2.07675851e+04+1.52640739e+04j\n",
      "  -6.63152001e+02+0.00000000e+00j -3.90083892e+03-8.51664243e+04j\n",
      "  -3.90083892e+03+8.51664243e+04j]\n",
      " [-2.06418143e+04-1.61226705e+04j -2.06418143e+04+1.61226705e+04j\n",
      "  -6.62138217e+02+0.00000000e+00j -4.02711655e+03-8.49833139e+04j\n",
      "  -4.02711655e+03+8.49833139e+04j]\n",
      " [-2.05144264e+04-1.69446082e+04j -2.05144264e+04+1.69446082e+04j\n",
      "  -6.61181923e+02+0.00000000e+00j -4.15498261e+03-8.47985092e+04j\n",
      "  -4.15498261e+03+8.47985092e+04j]\n",
      " [-2.03853696e+04-1.77351408e+04j -2.03853696e+04+1.77351408e+04j\n",
      "  -6.60278351e+02+0.00000000e+00j -4.28449122e+03-8.46119713e+04j\n",
      "  -4.28449122e+03+8.46119713e+04j]\n",
      " [-1.98513023e+04-2.06561540e+04j -1.98513023e+04+2.06561540e+04j\n",
      "  -6.57112595e+02+0.00000000e+00j -4.82014136e+03-8.38476590e+04j\n",
      "  -4.82014136e+03+8.38476590e+04j]\n",
      " [-1.73368745e+04-3.03797385e+04j -1.73368745e+04+3.03797385e+04j\n",
      "  -6.48946034e+02+0.00000000e+00j -7.33865250e+03-8.04443152e+04j\n",
      "  -7.33865250e+03+8.04443152e+04j]\n",
      " [-1.36963151e+04-3.90432754e+04j -1.36963151e+04+3.90432754e+04j\n",
      "  -6.44390565e+02+0.00000000e+00j -1.09814896e+04-7.63124838e+04j\n",
      "  -1.09814896e+04+7.63124838e+04j]\n",
      " [-7.01922208e+03-4.68016783e+04j -7.01922208e+03+4.68016783e+04j\n",
      "  -6.41483903e+02+0.00000000e+00j -1.76600360e+04-7.21840548e+04j\n",
      "  -1.76600360e+04+7.21840548e+04j]\n",
      " [-7.01922208e+03-4.68016783e+04j -7.01922208e+03+4.68016783e+04j\n",
      "  -6.41483903e+02+0.00000000e+00j -1.76600360e+04-7.21840548e+04j\n",
      "  -1.76600360e+04+7.21840548e+04j]\n",
      " [-5.51843255e+03-4.76587145e+04j -5.51843255e+03+4.76587145e+04j\n",
      "  -6.41096040e+02+0.00000000e+00j -1.91610194e+04-7.18751206e+04j\n",
      "  -1.91610194e+04+7.18751206e+04j]\n",
      " [-4.01792040e+03-4.83128613e+04j -4.01792040e+03+4.83128613e+04j\n",
      "  -6.40730385e+02+0.00000000e+00j -2.06617144e+04-7.17544813e+04j\n",
      "  -2.06617144e+04+7.17544813e+04j]\n",
      " [-2.57054919e+03-4.87916984e+04j -2.57054919e+03+4.87916984e+04j\n",
      "  -6.40385083e+02+0.00000000e+00j -2.21092583e+04-7.17954385e+04j\n",
      "  -2.21092583e+04+7.17954385e+04j]\n",
      " [-1.20434519e+03-4.91351140e+04j -1.20434519e+03+4.91351140e+04j\n",
      "  -6.40058480e+02+0.00000000e+00j -2.34756256e+04-7.19589022e+04j\n",
      "  -2.34756256e+04+7.19589022e+04j]\n",
      " [ 3.41360637e+03-4.97665967e+04j  3.41360637e+03+4.97665967e+04j\n",
      "  -6.38911640e+02+0.00000000e+00j -2.80941505e+04-7.32393796e+04j\n",
      "  -2.80941505e+04+7.32393796e+04j]\n",
      " [ 7.01066570e+03-4.99129536e+04j  7.01066570e+03+4.99129536e+04j\n",
      "  -6.37968968e+02+0.00000000e+00j -3.16916812e+04-7.48464790e+04j\n",
      "  -3.16916812e+04+7.48464790e+04j]\n",
      " [ 9.96265406e+03-4.99037752e+04j  9.96265406e+03+4.99037752e+04j\n",
      "  -6.37180391e+02+0.00000000e+00j -3.46440639e+04-7.64778701e+04j\n",
      "  -3.46440639e+04+7.64778701e+04j]\n",
      " [ 1.84554107e+04-4.94893008e+04j  1.84554107e+04+4.94893008e+04j\n",
      "  -6.34997472e+02+0.00000000e+00j -4.31379120e+04-8.24140468e+04j\n",
      "  -4.31379120e+04+8.24140468e+04j]\n",
      " [ 2.43564243e+04-4.89385256e+04j  2.43564243e+04+4.89385256e+04j\n",
      "  -6.33677488e+02+0.00000000e+00j -4.90395855e+04-8.74237988e+04j\n",
      "  -4.90395855e+04+8.74237988e+04j]\n",
      " [ 2.89806818e+04-4.83470688e+04j  2.89806818e+04+4.83470688e+04j\n",
      "  -6.32793173e+02+0.00000000e+00j -5.36642852e+04-9.17718875e+04j\n",
      "  -5.36642852e+04+9.17718875e+04j]\n",
      " [ 4.17216248e+04-4.57487955e+04j  4.17216248e+04+4.57487955e+04j\n",
      "  -6.31014024e+02+0.00000000e+00j -6.64061178e+04-1.05343704e+05j\n",
      "  -6.64061178e+04+1.05343704e+05j]\n",
      " [ 5.03264788e+04-4.28681876e+04j  5.03264788e+04+4.28681876e+04j\n",
      "  -6.30247189e+02+0.00000000e+00j -7.50113552e+04-1.15592204e+05j\n",
      "  -7.50113552e+04+1.15592204e+05j]\n",
      " [ 5.70110886e+04-3.97320223e+04j  5.70110886e+04+3.97320223e+04j\n",
      "  -6.29820032e+02+0.00000000e+00j -8.16961786e+04-1.24039015e+05j\n",
      "  -8.16961786e+04+1.24039015e+05j]\n",
      " [ 7.72975941e+04-2.02594778e+04j  7.72975941e+04+2.02594778e+04j\n",
      "  -6.29067511e+02+0.00000000e+00j -1.01983060e+05-1.51673323e+05j\n",
      "  -1.01983060e+05+1.51673323e+05j]\n",
      " [ 8.26053111e+04-1.61582708e-03j  8.26053111e+04+1.61582708e-03j\n",
      "  -6.28953155e+02+0.00000000e+00j -1.07290835e+05-1.59294511e+05j\n",
      "  -1.07290835e+05+1.59294511e+05j]\n",
      " [ 6.39366359e+04+0.00000000e+00j  1.17477104e+05+0.00000000e+00j\n",
      "  -6.28817459e+02+0.00000000e+00j -1.15392461e+05-1.71171208e+05j\n",
      "  -1.15392461e+05+1.71171208e+05j]\n",
      " [ 5.86602106e+04+0.00000000e+00j  1.43526317e+05+0.00000000e+00j\n",
      "  -6.28692580e+02+0.00000000e+00j -1.25778918e+05-1.86763296e+05j\n",
      "  -1.25778918e+05+1.86763296e+05j]\n",
      " [ 5.63677062e+04+0.00000000e+00j  1.63073277e+05+0.00000000e+00j\n",
      "  -6.28617700e+02+0.00000000e+00j -1.34406183e+05-1.99974769e+05j\n",
      "  -1.34406183e+05+1.99974769e+05j]\n",
      " [ 5.50516176e+04+0.00000000e+00j  1.79302742e+05+0.00000000e+00j\n",
      "  -6.28567799e+02+0.00000000e+00j -1.41862896e+05-2.11553631e+05j\n",
      "  -1.41862896e+05+2.11553631e+05j]\n",
      " [ 5.41915830e+04+0.00000000e+00j  1.93388637e+05+0.00000000e+00j\n",
      "  -6.28532166e+02+0.00000000e+00j -1.48475844e+05-2.21929725e+05j\n",
      "  -1.48475844e+05+2.21929725e+05j]\n",
      " [ 5.35838507e+04+0.00000000e+00j  2.05938960e+05+0.00000000e+00j\n",
      "  -6.28505445e+02+0.00000000e+00j -1.54447153e+05-2.31375767e+05j\n",
      "  -1.54447153e+05+2.31375767e+05j]\n",
      " [ 5.31309845e+04+0.00000000e+00j  2.17320367e+05+0.00000000e+00j\n",
      "  -6.28484666e+02+0.00000000e+00j -1.59911434e+05-2.40077006e+05j\n",
      "  -1.59911434e+05+2.40077006e+05j]\n",
      " [ 5.27802195e+04+0.00000000e+00j  2.27774851e+05+0.00000000e+00j\n",
      "  -6.28468045e+02+0.00000000e+00j -1.64963301e+05-2.48165747e+05j\n",
      "  -1.64963301e+05+2.48165747e+05j]\n",
      " [ 5.25004025e+04+0.00000000e+00j  2.37472161e+05+0.00000000e+00j\n",
      "  -6.28454447e+02+0.00000000e+00j -1.69672054e+05-2.55740192e+05j\n",
      "  -1.69672054e+05+2.55740192e+05j]\n",
      " [ 5.22719218e+04+0.00000000e+00j  2.46536773e+05+0.00000000e+00j\n",
      "  -6.28443116e+02+0.00000000e+00j -1.74090126e+05-2.62875483e+05j\n",
      "  -1.74090126e+05+2.62875483e+05j]\n",
      " [ 5.20818021e+04+0.00000000e+00j  2.55063123e+05+0.00000000e+00j\n",
      "  -6.28433529e+02+0.00000000e+00j -1.78258246e+05-2.69630558e+05j\n",
      "  -1.78258246e+05+2.69630558e+05j]\n",
      " [ 5.19211104e+04+0.00000000e+00j  2.63124814e+05+0.00000000e+00j\n",
      "  -6.28425312e+02+0.00000000e+00j -1.82208750e+05-2.76052610e+05j\n",
      "  -1.82208750e+05+2.76052610e+05j]\n",
      " [ 5.17834925e+04+0.00000000e+00j  2.70780492e+05+0.00000000e+00j\n",
      "  -6.28418191e+02+0.00000000e+00j -1.85967783e+05-2.82180083e+05j\n",
      "  -1.85967783e+05+2.82180083e+05j]\n",
      " [ 5.16643037e+04+0.00000000e+00j  2.78077745e+05+0.00000000e+00j\n",
      "  -6.28411961e+02+0.00000000e+00j -1.89556819e+05-2.88044761e+05j\n",
      "  -1.89556819e+05+2.88044761e+05j]\n",
      " [ 5.15600693e+04+0.00000000e+00j  2.85055798e+05+0.00000000e+00j\n",
      "  -6.28406463e+02+0.00000000e+00j -1.92993730e+05-2.93673262e+05j\n",
      "  -1.92993730e+05+2.93673262e+05j]\n",
      " [ 5.14681375e+04+0.00000000e+00j  2.91747410e+05+0.00000000e+00j\n",
      "  -6.28401577e+02+0.00000000e+00j -1.96293573e+05-2.99088126e+05j\n",
      "  -1.96293573e+05+2.99088126e+05j]\n",
      " [ 5.13864493e+04+0.00000000e+00j  2.98180264e+05+0.00000000e+00j\n",
      "  -6.28397205e+02+0.00000000e+00j -1.99469158e+05-3.04308632e+05j\n",
      "  -1.99469158e+05+3.04308632e+05j]\n",
      " [ 5.13133811e+04+0.00000000e+00j  3.04377987e+05+0.00000000e+00j\n",
      "  -6.28393270e+02+0.00000000e+00j -2.02531487e+05-3.09351410e+05j\n",
      "  -2.02531487e+05+3.09351410e+05j]\n",
      " [ 5.12476358e+04+0.00000000e+00j  3.10360931e+05+0.00000000e+00j\n",
      "  -6.28389710e+02+0.00000000e+00j -2.05490088e+05-3.14230919e+05j\n",
      "  -2.05490088e+05+3.14230919e+05j]\n",
      " [ 5.11881641e+04+0.00000000e+00j  3.16146763e+05+0.00000000e+00j\n",
      "  -6.28386474e+02+0.00000000e+00j -2.08353271e+05-3.18959821e+05j\n",
      "  -2.08353271e+05+3.18959821e+05j]\n",
      " [ 5.11341084e+04+0.00000000e+00j  3.21750935e+05+0.00000000e+00j\n",
      "  -6.28383520e+02+0.00000000e+00j -2.11128330e+05-3.23549274e+05j\n",
      "  -2.11128330e+05+3.23549274e+05j]\n",
      " [ 5.10847604e+04+0.00000000e+00j  3.27187044e+05+0.00000000e+00j\n",
      "  -6.28380811e+02+0.00000000e+00j -2.13821712e+05-3.28009165e+05j\n",
      "  -2.13821712e+05+3.28009165e+05j]\n",
      " [ 5.10395305e+04+0.00000000e+00j  3.32467129e+05+0.00000000e+00j\n",
      "  -6.28378320e+02+0.00000000e+00j -2.16439141e+05-3.32348303e+05j\n",
      "  -2.16439141e+05+3.32348303e+05j]\n",
      " [ 5.09979235e+04+0.00000000e+00j  3.37601905e+05+0.00000000e+00j\n",
      "  -6.28376020e+02+0.00000000e+00j -2.18985726e+05-3.36574577e+05j\n",
      "  -2.18985726e+05+3.36574577e+05j]\n",
      " [ 5.09595207e+04+0.00000000e+00j  3.42600957e+05+0.00000000e+00j\n",
      "  -6.28373890e+02+0.00000000e+00j -2.21466052e+05-3.40695078e+05j\n",
      "  -2.21466052e+05+3.40695078e+05j]\n",
      " [ 5.09239655e+04+0.00000000e+00j  3.47472894e+05+0.00000000e+00j\n",
      "  -6.28371913e+02+0.00000000e+00j -2.23884244e+05-3.44716211e+05j\n",
      "  -2.23884244e+05+3.44716211e+05j]\n",
      " [ 5.08909524e+04+0.00000000e+00j  3.52225487e+05+0.00000000e+00j\n",
      "  -6.28370071e+02+0.00000000e+00j -2.26244035e+05-3.48643779e+05j\n",
      "  -2.26244035e+05+3.48643779e+05j]\n",
      " [ 5.08602179e+04+0.00000000e+00j  3.56865771e+05+0.00000000e+00j\n",
      "  -6.28368353e+02+0.00000000e+00j -2.28548810e+05-3.52483062e+05j\n",
      "  -2.28548810e+05+3.52483062e+05j]\n",
      " [ 5.08315341e+04+0.00000000e+00j  3.61400141e+05+0.00000000e+00j\n",
      "  -6.28366746e+02+0.00000000e+00j -2.30801654e+05-3.56238877e+05j\n",
      "  -2.30801654e+05+3.56238877e+05j]\n",
      " [ 5.08047021e+04+0.00000000e+00j  3.65834430e+05+0.00000000e+00j\n",
      "  -6.28365239e+02+0.00000000e+00j -2.33005383e+05-3.59915633e+05j\n",
      "  -2.33005383e+05+3.59915633e+05j]\n",
      " [ 5.07795482e+04+0.00000000e+00j  3.70173972e+05+0.00000000e+00j\n",
      "  -6.28363823e+02+0.00000000e+00j -2.35162578e+05-3.63517378e+05j\n",
      "  -2.35162578e+05+3.63517378e+05j]\n",
      " [ 5.07559198e+04+0.00000000e+00j  3.74423660e+05+0.00000000e+00j\n",
      "  -6.28362491e+02+0.00000000e+00j -2.37275609e+05-3.67047837e+05j\n",
      "  -2.37275609e+05+3.67047837e+05j]\n",
      " [ 5.07336820e+04+0.00000000e+00j  3.78587997e+05+0.00000000e+00j\n",
      "  -6.28361235e+02+0.00000000e+00j -2.39346659e+05-3.70510448e+05j\n",
      "  -2.39346659e+05+3.70510448e+05j]\n",
      " [ 5.07127155e+04+0.00000000e+00j  3.82671134e+05+0.00000000e+00j\n",
      "  -6.28360048e+02+0.00000000e+00j -2.41377745e+05-3.73908390e+05j\n",
      "  -2.41377745e+05+3.73908390e+05j]\n",
      " [ 5.06929145e+04+0.00000000e+00j  3.86676909e+05+0.00000000e+00j\n",
      "  -6.28358926e+02+0.00000000e+00j -2.43370732e+05-3.77244609e+05j\n",
      "  -2.43370732e+05+3.77244609e+05j]\n",
      " [ 5.06741842e+04+0.00000000e+00j  3.90608877e+05+0.00000000e+00j\n",
      "  -6.28357863e+02+0.00000000e+00j -2.45327352e+05-3.80521844e+05j\n",
      "  -2.45327352e+05+3.80521844e+05j]\n",
      " [ 5.06564401e+04+0.00000000e+00j  3.94470340e+05+0.00000000e+00j\n",
      "  -6.28356854e+02+0.00000000e+00j -2.47249212e+05-3.83742641e+05j\n",
      "  -2.47249212e+05+3.83742641e+05j]\n",
      " [ 5.06396063e+04+0.00000000e+00j  3.98264369e+05+0.00000000e+00j\n",
      "  -6.28355896e+02+0.00000000e+00j -2.49137810e+05-3.86909378e+05j\n",
      "  -2.49137810e+05+3.86909378e+05j]\n",
      " [ 5.06236145e+04+0.00000000e+00j  4.01993827e+05+0.00000000e+00j\n",
      "  -6.28354985e+02+0.00000000e+00j -2.50994543e+05-3.90024274e+05j\n",
      "  -2.50994543e+05+3.90024274e+05j]\n",
      " [ 5.06084031e+04+0.00000000e+00j  4.05661387e+05+0.00000000e+00j\n",
      "  -6.28354117e+02+0.00000000e+00j -2.52820718e+05-3.93089406e+05j\n",
      "  -2.52820718e+05+3.93089406e+05j]\n",
      " [ 5.05939162e+04+0.00000000e+00j  4.09269550e+05+0.00000000e+00j\n",
      "  -6.28353289e+02+0.00000000e+00j -2.54617557e+05-3.96106722e+05j\n",
      "  -2.54617557e+05+3.96106722e+05j]\n",
      " [ 5.05801032e+04+0.00000000e+00j  4.12820660e+05+0.00000000e+00j\n",
      "  -6.28352499e+02+0.00000000e+00j -2.56386205e+05-3.99078048e+05j\n",
      "  -2.56386205e+05+3.99078048e+05j]\n",
      " [ 5.05669184e+04+0.00000000e+00j  4.16316913e+05+0.00000000e+00j\n",
      "  -6.28351744e+02+0.00000000e+00j -2.58127740e+05-4.02005103e+05j\n",
      "  -2.58127740e+05+4.02005103e+05j]\n",
      " [ 5.05543196e+04+0.00000000e+00j  4.19760377e+05+0.00000000e+00j\n",
      "  -6.28351022e+02+0.00000000e+00j -2.59843173e+05-4.04889505e+05j\n",
      "  -2.59843173e+05+4.04889505e+05j]\n",
      " [ 5.05422687e+04+0.00000000e+00j  4.23152996e+05+0.00000000e+00j\n",
      "  -6.28350330e+02+0.00000000e+00j -2.61533457e+05-4.07732779e+05j\n",
      "  -2.61533457e+05+4.07732779e+05j]\n",
      " [ 5.05307308e+04+0.00000000e+00j  4.26496603e+05+0.00000000e+00j\n",
      "  -6.28349668e+02+0.00000000e+00j -2.63199492e+05-4.10536364e+05j\n",
      "  -2.63199492e+05+4.10536364e+05j]\n",
      " [ 5.05196736e+04+0.00000000e+00j  4.29792926e+05+0.00000000e+00j\n",
      "  -6.28349032e+02+0.00000000e+00j -2.64842125e+05-4.13301621e+05j\n",
      "  -2.64842125e+05+4.13301621e+05j]\n",
      " [ 5.00510166e+04+0.00000000e+00j  9.78613480e+05+0.00000000e+00j\n",
      "  -6.28321581e+02+0.00000000e+00j -5.39018088e+05-8.81858834e+05j\n",
      "  -5.39018088e+05+8.81858834e+05j]\n",
      " [ 5.00050924e+04+0.00000000e+00j  2.15259427e+06+0.00000000e+00j\n",
      "  -6.28318836e+02+0.00000000e+00j -1.12598552e+06-1.89551167e+06j\n",
      "  -1.12598552e+06+1.89551167e+06j]\n",
      " [ 5.00005091e+04+0.00000000e+00j  4.67852144e+06+0.00000000e+00j\n",
      "  -6.28318561e+02+0.00000000e+00j -2.38894681e+06-4.08162199e+06j\n",
      "  -2.38894681e+06+4.08162199e+06j]]\n",
      "[ 0.00000000e+00 -0.00000000e+00  6.45010431e-04  1.11297018e-03\n",
      "  1.14221767e-03  1.17146515e-03  1.17157940e-03  1.17169365e-03\n",
      "  1.17180790e-03  1.17192215e-03  1.17237914e-03  1.17283613e-03\n",
      "  1.17329312e-03  1.17512109e-03  1.17694906e-03  1.17877702e-03\n",
      "  1.18608890e-03  1.19340077e-03  1.20071264e-03  1.22996012e-03\n",
      "  1.34695006e-03  1.46394000e-03  1.58092994e-03  2.04888969e-03\n",
      "  2.51684944e-03  2.87366029e-03  3.23047114e-03  3.23186494e-03\n",
      "  3.23325873e-03  3.23465252e-03  3.23604631e-03  3.24162148e-03\n",
      "  3.24719665e-03  3.25277182e-03  3.27507250e-03  3.29737318e-03\n",
      "  3.31967386e-03  3.40887657e-03  3.49807928e-03  3.58728199e-03\n",
      "  3.94409284e-03  5.37133624e-03  6.79857963e-03  8.22582303e-03\n",
      "  8.22582303e-03  8.46540372e-03  8.70498442e-03  8.94456511e-03\n",
      "  9.18414581e-03  1.01424686e-02  1.11007914e-02  1.20591141e-02\n",
      "  1.58924053e-02  1.97256964e-02  2.35589875e-02  3.88921520e-02\n",
      "  5.42253164e-02  6.95584809e-02  1.39116962e-01  1.64126150e-01\n",
      "  2.08675443e-01  2.78233924e-01  3.47792405e-01  4.17350886e-01\n",
      "  4.86909366e-01  5.56467847e-01  6.26026328e-01  6.95584809e-01\n",
      "  7.65143290e-01  8.34701771e-01  9.04260252e-01  9.73818733e-01\n",
      "  1.04337721e+00  1.11293569e+00  1.18249418e+00  1.25205266e+00\n",
      "  1.32161114e+00  1.39116962e+00  1.46072810e+00  1.53028658e+00\n",
      "  1.59984506e+00  1.66940354e+00  1.73896202e+00  1.80852050e+00\n",
      "  1.87807898e+00  1.94763747e+00  2.01719595e+00  2.08675443e+00\n",
      "  2.15631291e+00  2.22587139e+00  2.29542987e+00  2.36498835e+00\n",
      "  2.43454683e+00  2.50410531e+00  2.57366379e+00  2.64322227e+00\n",
      "  2.71278076e+00  2.78233924e+00  2.85189772e+00  2.92145620e+00\n",
      "  2.99101468e+00  3.06057316e+00  3.13013164e+00  3.19969012e+00\n",
      "  3.26924860e+00  3.33880708e+00  3.40836557e+00  3.40836557e+01\n",
      "  3.40836557e+02  3.40836557e+03]\n"
     ]
    }
   ],
   "source": [
    "print (R)\n",
    "print (K)"
   ]
  },
  {
   "cell_type": "code",
   "execution_count": 7,
   "metadata": {
    "slideshow": {
     "slide_type": "subslide"
    }
   },
   "outputs": [
    {
     "name": "stdout",
     "output_type": "stream",
     "text": [
      "\n",
      "                  -3.193e+04 s^7 - 2.006e+07 s^6 - 1.849e+14 s^5 - 1.162e+17 s^4 + 6.617e+23 s^3 + 4.158e+26 s^2\n",
      "---------------------------------------------------------------------------------------------------------------------------------\n",
      "4e-10 s^10 + 4e-05 s^9 + 7.632 s^8 + 6.312e+05 s^7 + 4.405e+10 s^6 + 2.564e+15 s^5 + 6.86e+19 s^4 + 6.617e+23 s^3 + 4.158e+26 s^2\n",
      "\n"
     ]
    }
   ],
   "source": [
    "kpi=0.0026\n",
    "OLTF=kpi*OLTF\n",
    "CLTF=OLTF/(1+OLTF)\n",
    "print(CLTF)\n",
    "#CLTF=control.minreal(CLTF)\n",
    "#print(CLTF)\n"
   ]
  },
  {
   "cell_type": "markdown",
   "metadata": {
    "slideshow": {
     "slide_type": "slide"
    }
   },
   "source": [
    "## Step Respose"
   ]
  },
  {
   "cell_type": "code",
   "execution_count": 8,
   "metadata": {
    "slideshow": {
     "slide_type": "subslide"
    }
   },
   "outputs": [
    {
     "name": "stderr",
     "output_type": "stream",
     "text": [
      "C:\\ProgramData\\Anaconda3\\lib\\site-packages\\scipy\\sparse\\linalg\\matfuncs.py:711: LinAlgWarning: scipy.linalg.solve\n",
      "Ill-conditioned matrix detected. Result is not guaranteed to be accurate.\n",
      "Reciprocal condition number2.196374e-55\n",
      "  return solve(Q, P)\n"
     ]
    },
    {
     "data": {
      "text/plain": [
       "Text(0,0.5,'y(t)')"
      ]
     },
     "execution_count": 8,
     "metadata": {},
     "output_type": "execute_result"
    },
    {
     "data": {
      "image/png": "[encoded data removed]",
      "text/plain": [
       "<Figure size 432x288 with 1 Axes>"
      ]
     },
     "metadata": {},
     "output_type": "display_data"
    }
   ],
   "source": [
    "t=np.linspace(0.0,0.0021,1000)\n",
    "[t1,y]=control.step_response(CLTF,t)\n",
    "plt.plot(t1,y)\n",
    "plt.title(\"Step Response\")\n",
    "plt.grid()\n",
    "plt.xlabel(\"time (s)\")\n",
    "plt.ylabel(\"y(t)\")\n"
   ]
  },
  {
   "cell_type": "markdown",
   "metadata": {
    "slideshow": {
     "slide_type": "slide"
    }
   },
   "source": [
    "## Open Loop Frequency Response"
   ]
  },
  {
   "cell_type": "code",
   "execution_count": 9,
   "metadata": {
    "slideshow": {
     "slide_type": "subslide"
    }
   },
   "outputs": [
    {
     "data": {
      "text/plain": [
       "<function matplotlib.pyplot.show(*args, **kw)>"
      ]
     },
     "execution_count": 9,
     "metadata": {},
     "output_type": "execute_result"
    },
    {
     "data": {
      "image/png": "[encoded data removed]",
      "text/plain": [
       "<Figure size 432x288 with 2 Axes>"
      ]
     },
     "metadata": {},
     "output_type": "display_data"
    }
   ],
   "source": [
    "control.bode(OLTF)\n",
    "plt.show"
   ]
  },
  {
   "cell_type": "markdown",
   "metadata": {
    "slideshow": {
     "slide_type": "slide"
    }
   },
   "source": [
    "## Simulation Including the PWM\n",
    "#### and the one sample transportation delay associated to the digital implementation"
   ]
  },
  {
   "cell_type": "markdown",
   "metadata": {
    "slideshow": {
     "slide_type": "subslide"
    }
   },
   "source": [
    "Transient response of $i_{L2}$ due to a step change in the reference.\n",
    "\n",
    "![dc-to-dc bidirectinal1.png](steprepose_psim1.png)\n",
    "\n"
   ]
  },
  {
   "cell_type": "markdown",
   "metadata": {
    "slideshow": {
     "slide_type": "subslide"
    }
   },
   "source": [
    "Transient during the start-up\n",
    "\n",
    "\n",
    "![dc-to-dc bidirectinal1.png](Startup.png)"
   ]
  },
  {
   "cell_type": "markdown",
   "metadata": {
    "slideshow": {
     "slide_type": "slide"
    }
   },
   "source": [
    "## References\n",
    "[1] k. Ogata, Engenharia de Controle Moderno\n",
    "\n",
    "[2] Simone Buso, Paolo Mattavelli, Digital Control in Power Electronics"
   ]
  },
  {
   "cell_type": "markdown",
   "metadata": {},
   "source": [
    "\n"
   ]
  }
 ],
 "metadata": {
  "celltoolbar": "Slideshow",
  "kernelspec": {
   "display_name": "Python 3",
   "language": "python",
   "name": "python3"
  },
  "language_info": {
   "codemirror_mode": {
    "name": "ipython",
    "version": 3
   },
   "file_extension": ".py",
   "mimetype": "text/x-python",
   "name": "python",
   "nbconvert_exporter": "python",
   "pygments_lexer": "ipython3",
   "version": "3.9.0"
  }
 },
 "nbformat": 4,
 "nbformat_minor": 4
}
